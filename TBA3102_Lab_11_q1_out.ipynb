{
 "cells": [
  {
   "cell_type": "code",
   "execution_count": 1,
   "metadata": {},
   "outputs": [
    {
     "data": {
      "text/html": [
       "<style>pre { white-space: pre !important; }</style>"
      ],
      "text/plain": [
       "<IPython.core.display.HTML object>"
      ]
     },
     "metadata": {},
     "output_type": "display_data"
    }
   ],
   "source": [
    "import pandas as pd\n",
    "\n",
    "from nltk.corpus import wordnet as wn\n",
    "\n",
    "from IPython.core.display import HTML\n",
    "import tba3102\n",
    "\n",
    "\n",
    "\n",
    "display(HTML(\"<style>pre { white-space: pre !important; }</style>\"))\n",
    "tba3102.set_default_pandas_options()"
   ]
  },
  {
   "cell_type": "code",
   "execution_count": 2,
   "metadata": {},
   "outputs": [
    {
     "name": "stdout",
     "output_type": "stream",
     "text": [
      "Homonyms and homographs:  happy.a.01 - enjoying or showing or marked by joy or pleasure\n",
      "Synonym:  happy.a.01\n",
      "Antonym:  unhappy.a.01\n",
      "Homonyms and homographs:  felicitous.s.02 - marked by good fortune\n",
      "Synonym:  felicitous.s.02\n",
      "Synonym:  felicitous.s.02\n",
      "Homonyms and homographs:  glad.s.02 - eagerly disposed to act or to be of service\n",
      "Synonym:  glad.s.02\n",
      "Synonym:  glad.s.02\n",
      "Homonyms and homographs:  happy.s.04 - well expressed and to the point\n",
      "Synonym:  happy.s.04\n",
      "Synonym:  happy.s.04\n"
     ]
    }
   ],
   "source": [
    "word = 'happy'\n",
    "synsets = wn.synsets(word)\n",
    "\n",
    "for synset in synsets:\n",
    "\n",
    "    print('Homonyms and homographs: ', synset.name(),'-',synset.definition())\n",
    "\n",
    "    for lemma in synset.lemmas():\n",
    "\n",
    "        synonym = lemma.synset()\n",
    "        print('Synonym: ', synonym.name())\t\n",
    "\n",
    "        for antonym in lemma.antonyms():\n",
    "\n",
    "            print('Antonym: ', antonym.synset().name())"
   ]
  },
  {
   "cell_type": "code",
   "execution_count": 3,
   "metadata": {},
   "outputs": [
    {
     "name": "stdout",
     "output_type": "stream",
     "text": [
      "Hyponym:  baby_bed.n.01 - a small bed for babies; enclosed by sides to prevent the baby from falling\n",
      "Hyponym:  bedroom_furniture.n.01 - furniture intended for use in a bedroom\n",
      "Hyponym:  bedstead.n.01 - the framework of a bed\n",
      "Hyponym:  bookcase.n.01 - a piece of furniture with shelves for storing books\n",
      "Hyponym:  buffet.n.01 - a piece of furniture that stands at the side of a dining room; has shelves and drawers\n",
      "Hyponym:  cabinet.n.01 - a piece of furniture resembling a cupboard with doors and shelves and drawers; for storage or display\n",
      "Hyponym:  chest_of_drawers.n.01 - furniture with drawers for keeping clothes\n",
      "Hyponym:  dining-room_furniture.n.01 - furniture intended for use in a dining room\n",
      "Hyponym:  etagere.n.01 - a piece of furniture with open shelves for displaying small ornaments\n",
      "Hyponym:  fitment.n.01 - any of the items furnishing or equipping a room (especially built-in furniture)\n",
      "Hyponym:  hallstand.n.01 - a piece of furniture where coats and hats and umbrellas can be hung; usually has a mirror\n",
      "Hyponym:  lamp.n.02 - a piece of furniture holding one or more electric light bulbs\n",
      "Hyponym:  lawn_furniture.n.01 - furniture intended for use on a lawn or in a garden\n",
      "Hyponym:  nest.n.05 - furniture pieces made to fit close together\n",
      "Hyponym:  office_furniture.n.01 - furniture intended for use in an office\n",
      "Hyponym:  seat.n.03 - furniture that is designed for sitting on\n",
      "Hyponym:  sectional.n.01 - a piece of furniture made up of sections that can be arranged individually or together\n",
      "Hyponym:  sheraton.n.01 - a furniture style that originated in England around 1800; simple in design with straight lines and classical ornamentation\n",
      "Hyponym:  sleeper.n.07 - a piece of furniture that can be opened up into a bed\n",
      "Hyponym:  table.n.02 - a piece of furniture having a smooth flat top that is usually supported by one or more vertical legs\n",
      "Hyponym:  table.n.03 - a piece of furniture with tableware for a meal laid out on it\n",
      "Hyponym:  wall_unit.n.01 - a piece of furniture having several units that stands against one wall of a room\n",
      "Hyponym:  wardrobe.n.01 - a tall piece of furniture that provides storage space for clothes; has a door and rails or hooks for hanging clothes\n",
      "Hyponym:  washstand.n.01 - furniture consisting of a table or stand to hold a basin and pitcher of water for washing: `wash-hand stand' is a British term\n",
      "Hypernym:  furnishing.n.02 - (usually plural) the instrumentalities (furniture and appliances and other movable accessories including curtains and rugs) that make a home (or other area) livable\n",
      "Hypernym Hierarchy\n",
      "entity.n.01 -> physical_entity.n.01 -> object.n.01 -> whole.n.02 -> artifact.n.01 -> instrumentality.n.03 -> furnishing.n.02\n"
     ]
    }
   ],
   "source": [
    "word = 'furniture'\n",
    "\n",
    "synsets = wn.synsets(word)\n",
    "\n",
    "for synset in synsets:\n",
    "\n",
    "    hyponyms = synset.hyponyms()\n",
    "\n",
    "    for hyponym in hyponyms:\n",
    "\n",
    "        print('Hyponym: ', hyponym.name(), '-', hyponym.definition())\n",
    "\n",
    "    hypernyms = synset.hypernyms()\n",
    "\n",
    "    for hypernym in hypernyms:\n",
    "\n",
    "        print('Hypernym: ', hypernym.name(), '-', hypernym.definition())\n",
    "\n",
    "        hypernym_paths = hypernym.hypernym_paths()\n",
    "        print('Hypernym Hierarchy')\n",
    "        print(' -> '.join(synset.name() for synset in hypernym_paths[0]))"
   ]
  },
  {
   "cell_type": "code",
   "execution_count": 4,
   "metadata": {},
   "outputs": [
    {
     "name": "stdout",
     "output_type": "stream",
     "text": [
      "Meronym:  lock.n.01 - a fastener fitted to a door or drawer to keep it firmly closed\n",
      "Meronym:  casing.n.03 - the enclosing frame around a door or window opening\n",
      "Meronym:  door.n.01 - a swinging or sliding barrier that will close the entrance to a room or building or vehicle\n",
      "Meronym:  doorframe.n.01 - the frame that supports a door\n",
      "Meronym:  doorsill.n.01 - the sill of a door; a horizontal piece of wood or stone that forms the bottom of a doorway and offers support when passing through a doorway\n"
     ]
    }
   ],
   "source": [
    "word = 'door'\n",
    "\n",
    "synsets = wn.synsets(word)\n",
    "\n",
    "for synset in synsets:\t\n",
    "\n",
    "    holonyms = synset.member_holonyms()\n",
    "\n",
    "    for holonym in holonyms:\n",
    "\n",
    "        print('Holonym: ', holonym.name(), '-', holonym.definition())\n",
    "\n",
    "    meronyms = synset.part_meronyms()\n",
    "\n",
    "    for meronym in meronyms:\n",
    "\n",
    "        print('Meronym: ', meronym.name(), '-', meronym.definition())"
   ]
  },
  {
   "cell_type": "code",
   "execution_count": 5,
   "metadata": {},
   "outputs": [
    {
     "data": {
      "text/html": [
       "<div>\n",
       "<style scoped>\n",
       "    .dataframe tbody tr th:only-of-type {\n",
       "        vertical-align: middle;\n",
       "    }\n",
       "\n",
       "    .dataframe tbody tr th {\n",
       "        vertical-align: top;\n",
       "    }\n",
       "\n",
       "    .dataframe thead th {\n",
       "        text-align: right;\n",
       "    }\n",
       "</style>\n",
       "<table border=\"1\" class=\"dataframe\">\n",
       "  <thead>\n",
       "    <tr style=\"text-align: right;\">\n",
       "      <th></th>\n",
       "      <th>car</th>\n",
       "      <th>sedan</th>\n",
       "      <th>coupe</th>\n",
       "      <th>motorcycle</th>\n",
       "      <th>helicopter</th>\n",
       "    </tr>\n",
       "  </thead>\n",
       "  <tbody>\n",
       "    <tr>\n",
       "      <th>car</th>\n",
       "      <td>car</td>\n",
       "      <td>car</td>\n",
       "      <td>car</td>\n",
       "      <td>motor_vehicle</td>\n",
       "      <td>vehicle</td>\n",
       "    </tr>\n",
       "    <tr>\n",
       "      <th>sedan</th>\n",
       "      <td>car</td>\n",
       "      <td>sedan</td>\n",
       "      <td>car</td>\n",
       "      <td>motor_vehicle</td>\n",
       "      <td>vehicle</td>\n",
       "    </tr>\n",
       "    <tr>\n",
       "      <th>coupe</th>\n",
       "      <td>car</td>\n",
       "      <td>car</td>\n",
       "      <td>coupe</td>\n",
       "      <td>motor_vehicle</td>\n",
       "      <td>vehicle</td>\n",
       "    </tr>\n",
       "    <tr>\n",
       "      <th>motorcycle</th>\n",
       "      <td>motor_vehicle</td>\n",
       "      <td>motor_vehicle</td>\n",
       "      <td>motor_vehicle</td>\n",
       "      <td>motorcycle</td>\n",
       "      <td>vehicle</td>\n",
       "    </tr>\n",
       "    <tr>\n",
       "      <th>helicopter</th>\n",
       "      <td>vehicle</td>\n",
       "      <td>vehicle</td>\n",
       "      <td>vehicle</td>\n",
       "      <td>vehicle</td>\n",
       "      <td>helicopter</td>\n",
       "    </tr>\n",
       "  </tbody>\n",
       "</table>\n",
       "</div>"
      ],
      "text/plain": [
       "                      car          sedan          coupe     motorcycle  helicopter\n",
       "car                   car            car            car  motor_vehicle     vehicle\n",
       "sedan                 car          sedan            car  motor_vehicle     vehicle\n",
       "coupe                 car            car          coupe  motor_vehicle     vehicle\n",
       "motorcycle  motor_vehicle  motor_vehicle  motor_vehicle     motorcycle     vehicle\n",
       "helicopter        vehicle        vehicle        vehicle        vehicle  helicopter"
      ]
     },
     "execution_count": 5,
     "metadata": {},
     "output_type": "execute_result"
    }
   ],
   "source": [
    "car = wn.synset('car.n.01')\n",
    "sedan = wn.synset('sedan.n.01')\n",
    "coupe = wn.synset('coupe.n.01')\n",
    "motorcycle = wn.synset('motorcycle.n.01')\n",
    "helicopter = wn.synset('helicopter.n.01')\n",
    "\n",
    "# create entities and extract names and definitions\n",
    "entities = [car, sedan, coupe, motorcycle, helicopter]\n",
    "entity_names = [entity.name().split('.')[0] for entity in entities]\n",
    "entity_definitions = [entity.definition() for entity in entities]\n",
    "\n",
    "common_hypernyms = []\n",
    "\n",
    "for entity in entities:\n",
    "\n",
    "    # get pairwise lowest common hypernyms\n",
    "    common_hypernyms.append([entity.lowest_common_hypernyms(compared_entity)[0].name().split('.')[0]\n",
    "        for compared_entity in entities])\n",
    "\n",
    "# build pairwise lower common hypernym matrix\n",
    "common_hypernym_frame = pd.DataFrame(common_hypernyms,\n",
    "                                        index=entity_names,\n",
    "                                        columns=entity_names)\n",
    "\n",
    "common_hypernym_frame"
   ]
  },
  {
   "cell_type": "code",
   "execution_count": 6,
   "metadata": {},
   "outputs": [
    {
     "data": {
      "text/html": [
       "<div>\n",
       "<style scoped>\n",
       "    .dataframe tbody tr th:only-of-type {\n",
       "        vertical-align: middle;\n",
       "    }\n",
       "\n",
       "    .dataframe tbody tr th {\n",
       "        vertical-align: top;\n",
       "    }\n",
       "\n",
       "    .dataframe thead th {\n",
       "        text-align: right;\n",
       "    }\n",
       "</style>\n",
       "<table border=\"1\" class=\"dataframe\">\n",
       "  <thead>\n",
       "    <tr style=\"text-align: right;\">\n",
       "      <th></th>\n",
       "      <th>car</th>\n",
       "      <th>sedan</th>\n",
       "      <th>coupe</th>\n",
       "      <th>motorcycle</th>\n",
       "      <th>helicopter</th>\n",
       "    </tr>\n",
       "  </thead>\n",
       "  <tbody>\n",
       "    <tr>\n",
       "      <th>car</th>\n",
       "      <td>1.00</td>\n",
       "      <td>0.50</td>\n",
       "      <td>0.50</td>\n",
       "      <td>0.33</td>\n",
       "      <td>0.11</td>\n",
       "    </tr>\n",
       "    <tr>\n",
       "      <th>sedan</th>\n",
       "      <td>0.50</td>\n",
       "      <td>1.00</td>\n",
       "      <td>0.33</td>\n",
       "      <td>0.25</td>\n",
       "      <td>0.10</td>\n",
       "    </tr>\n",
       "    <tr>\n",
       "      <th>coupe</th>\n",
       "      <td>0.50</td>\n",
       "      <td>0.33</td>\n",
       "      <td>1.00</td>\n",
       "      <td>0.25</td>\n",
       "      <td>0.10</td>\n",
       "    </tr>\n",
       "    <tr>\n",
       "      <th>motorcycle</th>\n",
       "      <td>0.33</td>\n",
       "      <td>0.25</td>\n",
       "      <td>0.25</td>\n",
       "      <td>1.00</td>\n",
       "      <td>0.11</td>\n",
       "    </tr>\n",
       "    <tr>\n",
       "      <th>helicopter</th>\n",
       "      <td>0.11</td>\n",
       "      <td>0.10</td>\n",
       "      <td>0.10</td>\n",
       "      <td>0.11</td>\n",
       "      <td>1.00</td>\n",
       "    </tr>\n",
       "  </tbody>\n",
       "</table>\n",
       "</div>"
      ],
      "text/plain": [
       "             car  sedan  coupe  motorcycle  helicopter\n",
       "car         1.00   0.50   0.50        0.33        0.11\n",
       "sedan       0.50   1.00   0.33        0.25        0.10\n",
       "coupe       0.50   0.33   1.00        0.25        0.10\n",
       "motorcycle  0.33   0.25   0.25        1.00        0.11\n",
       "helicopter  0.11   0.10   0.10        0.11        1.00"
      ]
     },
     "execution_count": 6,
     "metadata": {},
     "output_type": "execute_result"
    }
   ],
   "source": [
    "similarities = []\n",
    "\n",
    "for entity in entities:\n",
    "\n",
    "    # get pairwise similarities\n",
    "    similarities.append([round(entity.path_similarity(compared_entity), 2)\n",
    "        for compared_entity in entities])\n",
    "\n",
    "# build pairwise similarity matrix\n",
    "similarity_frame = pd.DataFrame(similarities, index=entity_names,\n",
    "                                columns=entity_names)\n",
    "\n",
    "similarity_frame"
   ]
  }
 ],
 "metadata": {
  "kernelspec": {
   "display_name": "Python 3",
   "language": "python",
   "name": "python3"
  },
  "language_info": {
   "codemirror_mode": {
    "name": "ipython",
    "version": 3
   },
   "file_extension": ".py",
   "mimetype": "text/x-python",
   "name": "python",
   "nbconvert_exporter": "python",
   "pygments_lexer": "ipython3",
   "version": "3.9.4"
  }
 },
 "nbformat": 4,
 "nbformat_minor": 4
}
