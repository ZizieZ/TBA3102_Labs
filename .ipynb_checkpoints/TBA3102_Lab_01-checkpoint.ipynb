{
 "cells": [
  {
   "cell_type": "markdown",
   "id": "854039b7-8c7e-4894-9e54-2f4cd486151e",
   "metadata": {},
   "source": [
    "# TBA 3102 - Text Analytics\n",
    "## Practical Lab 01 - Introduction to Programming with Python\n",
    "Student: Nicky Ng <br>\n",
    "GitHub User: [ahjimomo](https://github.com/ahjimomo) <br>\n",
    "Student Number: A0194330L"
   ]
  },
  {
   "cell_type": "markdown",
   "id": "2bc2336b-28e7-48ce-8efa-debdb0e5e8ff",
   "metadata": {},
   "source": [
    "### Libraries"
   ]
  },
  {
   "cell_type": "code",
   "execution_count": 186,
   "id": "292e6da7-3f2a-41ab-be6e-0b342ccfe465",
   "metadata": {},
   "outputs": [],
   "source": [
    "# No libraries will be used for this exercise"
   ]
  },
  {
   "cell_type": "markdown",
   "id": "79ea5d78-271e-4613-91a0-41984172b301",
   "metadata": {},
   "source": [
    "### Question 1: Chicken Rice Cooking\n",
    "Write a Python program that asks user to enter separately the amount of chicken, rice and chili in kilogram that is required to cook a portion of chicken rice for 1 diner. The program should then ask the user for the number of diners that is required.\n",
    "Finally, the program should compute and print out the total amount of chicken, rice and chili that is required for the input number of diners. Note that the amount that is required for each type of raw ingredient per diner may be less than 1 kg."
   ]
  },
  {
   "cell_type": "code",
   "execution_count": 2,
   "id": "427d3643-28c8-4300-9712-269e7b801737",
   "metadata": {},
   "outputs": [],
   "source": [
    "# Function to generate amount of ingredients\n",
    "def ingredient_qty(ingredient, guests):\n",
    "    return ingredient * guests"
   ]
  },
  {
   "cell_type": "code",
   "execution_count": 3,
   "id": "472b3406-82c0-45b7-8b97-ec780b9a2517",
   "metadata": {},
   "outputs": [
    {
     "name": "stdin",
     "output_type": "stream",
     "text": [
      "How much chicken in kg do you require per serving? 3\n",
      "How much rice in kg do you require per serving? 4\n",
      "How much chili do you require per serving? 2\n",
      "How many guests do you have? 3\n"
     ]
    },
    {
     "name": "stdout",
     "output_type": "stream",
     "text": [
      "To prepare chicken rice for a total of 3 guests, you will need to have: \n",
      "Chicken: 9.0kg\n",
      "Rice: 12.0kg\n",
      "Chili: 6.0kg\n",
      "\n"
     ]
    }
   ],
   "source": [
    "# Function to prompt user input\n",
    "def chicken_rice():\n",
    "    flag = True\n",
    "    while flag == True:\n",
    "        # Obtain user input\n",
    "        try:\n",
    "            chicken = float(input(\"How much chicken in kg do you require per serving?\"))\n",
    "            flag = False\n",
    "        except ValueError as e:\n",
    "            flag = True\n",
    "            print(f\"The input is not a valid value\")\n",
    "            continue\n",
    "\n",
    "        try:\n",
    "            rice = float(input(\"How much rice in kg do you require per serving?\"))\n",
    "            flag = False\n",
    "        except ValueError as e:\n",
    "            flag = True\n",
    "            print(f\"The input for rice is not a valid value.\")\n",
    "            continue\n",
    "\n",
    "        try:\n",
    "            chili = float(input(\"How much chili do you require per serving?\"))\n",
    "            flag = False\n",
    "        except ValueError as e:\n",
    "            flag = True\n",
    "            print(f\"The input for chili is not a valid value.\")\n",
    "            continue\n",
    "\n",
    "        try:\n",
    "            guests = int(input(\"How many guests do you have?\"))\n",
    "            flag = False\n",
    "        except ValueError as e:\n",
    "            flag = True\n",
    "            print(f\"The input for number of guests is not a valid input\" )\n",
    "            continue\n",
    "        \n",
    "    # Compute required quantity of ingredients\n",
    "    total_chick = ingredient_qty(chicken, guests)\n",
    "    total_rice = ingredient_qty(rice, guests)\n",
    "    total_chili = ingredient_qty(chili, guests)\n",
    "    \n",
    "    # print out result\n",
    "    print(f\"To prepare chicken rice for a total of {guests} guests, you will need to have: \\n\"\n",
    "         f\"Chicken: {total_chick}kg\\n\"\n",
    "         f\"Rice: {total_rice}kg\\n\"\n",
    "         f\"Chili: {total_chili}kg\\n\")"
   ]
  },
  {
   "cell_type": "code",
   "execution_count": 5,
   "id": "c6129370-9578-4a68-a5da-0846c2190351",
   "metadata": {},
   "outputs": [
    {
     "name": "stdin",
     "output_type": "stream",
     "text": [
      "How much chicken in kg do you require per serving? 2.5\n",
      "How much rice in kg do you require per serving? 3\n",
      "How much chili do you require per serving? 1\n",
      "How many guests do you have? 5\n"
     ]
    },
    {
     "name": "stdout",
     "output_type": "stream",
     "text": [
      "To prepare chicken rice for a total of 5 guests, you will need to have: \n",
      "Chicken: 12.5kg\n",
      "Rice: 15.0kg\n",
      "Chili: 5.0kg\n",
      "\n"
     ]
    }
   ],
   "source": [
    "chicken_rice()"
   ]
  },
  {
   "cell_type": "markdown",
   "id": "3e30aa90-4e48-47c3-bea4-1162fc00603f",
   "metadata": {},
   "source": [
    "### Question 2: Currency Exchange\n",
    "Assume that the prevailing exchange rate from US Dollar (USD) to Singapore Dollar (SGD) is 1.2700. Write a Python program that asks user for the amount of USD to be changed to SGD and print out the equivalent amount in SGD.\n",
    "Write another Python program that asks user for the amount of SGD to be changed to USD and print out the equivalent amount in USD.\n",
    "\n",
    "\n",
    "| Sample Input | Sample Output |\n",
    "| :-- | :-- |\n",
    "| USD to SGD, 100 | 127 |\n",
    "| USD to SGD, 250 | 317.5 |\n",
    "| SGD to USD, 100 | 78.7401574803 |\n",
    "| SGD to USD, 250 | 196.850393701 |"
   ]
  },
  {
   "cell_type": "code",
   "execution_count": 5,
   "id": "36852aff-e6e1-4c03-9119-0a669f3134ec",
   "metadata": {},
   "outputs": [],
   "source": [
    "def sg_us_exchange(amt, base_currency):\n",
    "    if base_currency == 'SG':\n",
    "        return amt * 1.27\n",
    "    else:\n",
    "        return amt * 0.787401574803"
   ]
  },
  {
   "cell_type": "code",
   "execution_count": 17,
   "id": "5930f9dc-d7c2-4b81-9ef6-cf3b0f9324ea",
   "metadata": {},
   "outputs": [],
   "source": [
    "def exchange():\n",
    "    # Get input on currency origin country\n",
    "    while True:\n",
    "        try:\n",
    "            country = int(input(f\"Which currency are you changing to? (Select 1 or 2)\\n\"\n",
    "                   f\"1. Singapore\\n\"\n",
    "                   f\"2. USA\\n\"))\n",
    "            \n",
    "            if country == 1:\n",
    "                base = 'SG'\n",
    "                otr = 'USA'\n",
    "            else:\n",
    "                base = 'USA'\n",
    "                otr = 'SG'\n",
    "            \n",
    "            if len(str(country)) > 1 or country > 2:\n",
    "                print(\"The value you have selected is invalid, please try again.\")\n",
    "                continue\n",
    "            \n",
    "            break\n",
    "        except ValueError as e:\n",
    "            print(\"You have input an incorrect selection, please try again with either 1 for SG and 2 for US\")\n",
    "    \n",
    "    # Get amount from user\n",
    "    while True:\n",
    "        try:\n",
    "            amount = float(input(\"How much are you exchanging?\"))\n",
    "            break\n",
    "        except ValueError as e:\n",
    "            print(\"You have input an invalid amount, please try again.\")\n",
    "            \n",
    "    # Print out amount exchanged\n",
    "    exchanged = sg_us_exchange(amount, base)\n",
    "    print(f\"For ${amount} in {base} to {otr}, you will get ${exchanged:.2f}.\")"
   ]
  },
  {
   "cell_type": "code",
   "execution_count": 18,
   "id": "6ea83036-5789-41c4-a4bc-5bb5894ed7e2",
   "metadata": {},
   "outputs": [
    {
     "name": "stdin",
     "output_type": "stream",
     "text": [
      "Which currency are you changing to? (Select 1 or 2)\n",
      "1. Singapore\n",
      "2. USA\n",
      " 1\n",
      "How much are you exchanging? 1000\n"
     ]
    },
    {
     "name": "stdout",
     "output_type": "stream",
     "text": [
      "For $1000.0 in SG to USA, you will get $1270.00.\n"
     ]
    }
   ],
   "source": [
    "exchange()"
   ]
  },
  {
   "cell_type": "markdown",
   "id": "7818c70b-81bf-466c-8322-6086ebaf5f7c",
   "metadata": {},
   "source": [
    "### Question 3: Temperature Conversion\n",
    "The two most commonly used temperature scales are the Celsius scale (°C) and the Fahrenheit scale (°F). On the Celsius scale, the freezing point of water is defined as 0°C and the boiling point of water is defined as 100°C. On the Fahrenheit scale, the freezing point of water is defined as 32°F and the boiling point of water is defined as 212°F.\n",
    "Write a Python program that asks user for the temperature in Celsius and then print out the equivalent temperature in Fahrenheit.\n",
    "Write another Python program that asks user for the temperature in Fahrenheit and then print out the equivalent temperature in Celsius\n",
    "\n",
    "| Sample Input | Sample Output |\n",
    "| --- | --- |\n",
    "| Celsius to Fahrenheit, 0 | 32 |\n",
    "| Celsius to Fahrenheit, 33.3 | 91.94 |\n",
    "|Fahrenheit to Celsius, 212 | 100 |\n",
    "| Fahrenheit to Celsius, 180.5 | 82.5 |"
   ]
  },
  {
   "cell_type": "code",
   "execution_count": 19,
   "id": "901b9cdc-2f47-4919-a9b0-740fa9e716b7",
   "metadata": {},
   "outputs": [],
   "source": [
    "def cel_far(val, base):\n",
    "    if base == 1:\n",
    "        # Celsius to fahrenheit\n",
    "        return val * (5.0 / 9.0) + 32\n",
    "    else:\n",
    "        # fahrenheit to celsius\n",
    "        return (32 - val) * (5.0 / 9.0)"
   ]
  },
  {
   "cell_type": "code",
   "execution_count": 22,
   "id": "8d6cd141-b6bc-45bd-8da7-5a7f96af3a98",
   "metadata": {},
   "outputs": [],
   "source": [
    "def what_temp():\n",
    "    # Get user input for base measurement\n",
    "    while True:\n",
    "        try:\n",
    "            base = int(input(f\"What's your current base measurement? (Select 1 or 2)\\n\"\n",
    "                            f\"1. Degree Celsius\\n\"\n",
    "                            f\"2. Degree Farenheit\\n\"))\n",
    "            \n",
    "            if base == 1:\n",
    "                base_measure = 'Celsius'\n",
    "                otr = 'Farenheit'\n",
    "            else:\n",
    "                base_measure = 'Farenheit'\n",
    "                otr = 'Celsius'\n",
    "            \n",
    "            if len(str(base)) > 1 or base > 2:\n",
    "                print(f\"Your input is invalid, please select 1 or 2 and try again.\")\n",
    "                continue\n",
    "            break\n",
    "                \n",
    "        except ValueError as e:\n",
    "            print(f\"Value input is invalid, please try again.\")\n",
    "            break\n",
    "            \n",
    "    # Get degrees from user        \n",
    "    while True:\n",
    "        try:\n",
    "            deg = float(input(f\"What's the temperature right now?\"))\n",
    "            break\n",
    "            \n",
    "        except ValueError as e:\n",
    "            print(f\"Your input is invalid, don't play hor.\")\n",
    "            continue\n",
    "            \n",
    "    # Generate result and print\n",
    "    result = cel_far(deg, base)\n",
    "    print(f\"{deg} degrees {base_measure} is equal to {result} degrees {otr}\")\n",
    "            "
   ]
  },
  {
   "cell_type": "code",
   "execution_count": 23,
   "id": "4c3f1862-4158-46a9-b365-f6d1441b4811",
   "metadata": {},
   "outputs": [
    {
     "name": "stdin",
     "output_type": "stream",
     "text": [
      "What's your current base measurement? (Select 1 or 2)\n",
      "1. Degree Celsius\n",
      "2. Degree Farenheit\n",
      " 1\n",
      "What's the temperature right now? 0\n"
     ]
    },
    {
     "name": "stdout",
     "output_type": "stream",
     "text": [
      "0.0 degrees Celsius is equal to 32.0 degrees Farenheit\n"
     ]
    }
   ],
   "source": [
    "what_temp()"
   ]
  },
  {
   "cell_type": "markdown",
   "id": "7f3dc039-5f2f-4723-9253-cf438729e2e1",
   "metadata": {},
   "source": [
    "### Question 4: Find the last digit\n",
    "Write a Python program to print out the last digit, i.e., the rightmost digit, of any positive integer input by the user.\n",
    "\n",
    "You are NOT allowed to treat the input as string.\n",
    "\n",
    "| Sample Input | Sample Output |\n",
    "| --- | --- |\n",
    "| 1 | 1 |\n",
    "| 5 | 5 |\n",
    "| 17 | 7 |\n",
    "| 258 | 8 |"
   ]
  },
  {
   "cell_type": "code",
   "execution_count": 46,
   "id": "e98e5035-3d87-4fe8-8eaf-2d94cae00a29",
   "metadata": {},
   "outputs": [],
   "source": [
    "def last_digit():\n",
    "    try:\n",
    "        val = int(input(f\"Input an integer value\"))\n",
    "    except ValueError as e:\n",
    "        print(f\"Invalid input, please try again\")\n",
    "        return -1\n",
    "    \n",
    "    print(f\"The last digit for {val} is {val % 10}.\")"
   ]
  },
  {
   "cell_type": "code",
   "execution_count": 49,
   "id": "b51a79d6-0a08-4264-b44f-d5aeb3c4b051",
   "metadata": {},
   "outputs": [
    {
     "name": "stdin",
     "output_type": "stream",
     "text": [
      "Input an integer value 258\n"
     ]
    },
    {
     "name": "stdout",
     "output_type": "stream",
     "text": [
      "The last digit for 258 is 8.\n"
     ]
    }
   ],
   "source": [
    "last_digit()"
   ]
  },
  {
   "cell_type": "markdown",
   "id": "a62b2e44-783e-4442-8c76-6ec4201bce9e",
   "metadata": {},
   "source": [
    "### Question 5: Find the largest number\n",
    "Write a Python program that asks user to input 3 integers and print out the largest integer. If the largest integer is duplicated, simply print out the first occurrence.\n",
    "\n",
    "| Sample Input | Sample Output |\n",
    "| --- | --- |\n",
    "| 1, 2, 3 | 3 |\n",
    "| 2, 1, 2 | 2 | \n",
    "| 3, 3, 3 | 3 |\n",
    "| 2, -1, 3 | 3 |\n",
    "| -1, -2, -3 | -1 |"
   ]
  },
  {
   "cell_type": "code",
   "execution_count": 43,
   "id": "78c731c8-39d2-4527-98d3-a099f162557c",
   "metadata": {},
   "outputs": [],
   "source": [
    "def largest_int(val):\n",
    "    largest = 0\n",
    "    for i in range(len(str(val))):\n",
    "        #print(val, largest)\n",
    "        if val % 10 > largest:\n",
    "            largest = val % 10\n",
    "        val //= 10 \n",
    "            \n",
    "    return largest"
   ]
  },
  {
   "cell_type": "code",
   "execution_count": 44,
   "id": "2ead76a1-0179-49fe-a833-d0e1c9718634",
   "metadata": {},
   "outputs": [],
   "source": [
    "def find_largest():\n",
    "    try:\n",
    "        val = int(input(\"Input an integer value\"))\n",
    "    except ValueError as e:\n",
    "        print(f\"Input is invalid, please try again.\")\n",
    "        return -1\n",
    "    \n",
    "    print(f\"The largest integer of the digit {val} is {largest_int(val)}.\")"
   ]
  },
  {
   "cell_type": "code",
   "execution_count": 45,
   "id": "0ed01cdc-6ce3-4251-9760-61091713cf6c",
   "metadata": {},
   "outputs": [
    {
     "name": "stdin",
     "output_type": "stream",
     "text": [
      "Input an integer value 45763249\n"
     ]
    },
    {
     "name": "stdout",
     "output_type": "stream",
     "text": [
      "The largest integer of the digit 45763249 is 9.\n"
     ]
    }
   ],
   "source": [
    "find_largest()"
   ]
  },
  {
   "cell_type": "markdown",
   "id": "8b776c26-2b7a-490c-a6b2-8caf61cbc693",
   "metadata": {},
   "source": [
    "### Question 6: Enhanced Temperature Conversion\n",
    "Let’s try to enhance the programs that you have written in Question 3. Write a single Python program that asks user for the type of temperature conversion that is required, either Celsius to Fahrenheit or Fahrenheit to Celsius. Next, the program should ask user to input the temperature in the original scale. Finally, the program should convert the input temperature to the required scale before printing out the converted temperature.\n",
    "\n",
    "Depending on the type of temperature conversion selected by the user, check that the original temperature input by the user is within the boiling point of water and the freezing point of water for the original temperature scale.\n",
    "\n",
    "If the input temperature is valid, continue to perform the temperature conversion and print out the converted temperature. Otherwise, print out an error message."
   ]
  },
  {
   "cell_type": "code",
   "execution_count": 67,
   "id": "dab1e1a5-b09c-4ff3-90da-6e00109ab3fb",
   "metadata": {},
   "outputs": [],
   "source": [
    "class e_temp:\n",
    "    def __init__(self, measure, temp, freezing = 0, boiling = 0):\n",
    "        if measure == 1: \n",
    "            self.measure = 'Celsius'\n",
    "            self.freezing = 0\n",
    "            self.boiling = 100\n",
    "        else:\n",
    "            self.measure = 'Farenheit'\n",
    "            self.freezing = 32\n",
    "            self.boiling = 212\n",
    "        self.temp = temp\n",
    "        \n",
    "    def __str__(self):\n",
    "        return f\"You have input {self.temp} degrees {self.measure}, the freezing point is {self.freezing} degrees and boiling point is {self.boiling}\"\n",
    "    \n",
    "    def update_freezing(self, deg):\n",
    "        self.freezing = deg\n",
    "        \n",
    "    def update_boiling(self, deg):\n",
    "        self.boiling = deg\n",
    "        \n",
    "    def update_temp(self, deg):\n",
    "        self.temp = deg\n",
    "        \n",
    "    def in_celsius(self):\n",
    "        return (32 - self.temp) * (5.0 / 9.0)\n",
    "    \n",
    "    def in_farenheit(self):\n",
    "        return self.temp * 5.0 / 9.0 + 32"
   ]
  },
  {
   "cell_type": "code",
   "execution_count": 68,
   "id": "2b29894e-19b2-496a-bbbf-d9e046c64889",
   "metadata": {},
   "outputs": [
    {
     "name": "stdout",
     "output_type": "stream",
     "text": [
      "You have input 30 degrees Farenheit, the freezing point is 32 degrees and boiling point is 212\n",
      "30\n"
     ]
    }
   ],
   "source": [
    "temp = e_temp(2, 30)\n",
    "print(temp)\n",
    "print(temp.temp)"
   ]
  },
  {
   "cell_type": "code",
   "execution_count": 73,
   "id": "22fbcc6b-1c96-4bcb-8187-7983a7a3002a",
   "metadata": {},
   "outputs": [],
   "source": [
    "def e_what_temp():\n",
    "    # Get user input for base measurement\n",
    "    while True:\n",
    "        try:\n",
    "            base = int(input(f\"What's your current base measurement? (Select 1 or 2)\\n\"\n",
    "                            f\"1. Degree Celsius\\n\"\n",
    "                            f\"2. Degree Farenheit\\n\"))\n",
    "            \n",
    "            if base == 1:\n",
    "                base_measure = 'Celsius'\n",
    "                otr = 'Farenheit'\n",
    "            else:\n",
    "                base_measure = 'Farenheit'\n",
    "                otr = 'Celsius'\n",
    "            \n",
    "            if len(str(base)) > 1 or base > 2:\n",
    "                print(f\"Your input is invalid, please select 1 or 2 and try again.\")\n",
    "                continue\n",
    "            break\n",
    "                \n",
    "        except ValueError as e:\n",
    "            print(f\"Value input is invalid, please try again.\")\n",
    "            break\n",
    "            \n",
    "    # Get degrees from user        \n",
    "    while True:\n",
    "        try:\n",
    "            deg = float(input(f\"What's the temperature right now?\"))\n",
    "            break\n",
    "            \n",
    "        except ValueError as e:\n",
    "            print(f\"Your input is invalid, don't play hor.\")\n",
    "            continue\n",
    "            \n",
    "    # Create temp object\n",
    "    temp = e_temp(base, deg)\n",
    "    print(temp)\n",
    "    \n",
    "    # Check if temperature is above or below freezing / boiling point and return output\n",
    "    if temp.temp > temp.boiling:\n",
    "        return f\"Sorry, the temperature of {temp.temp} degrees {temp.measure} is above the boiling point, it's invalid.\"\n",
    "    elif temp.temp < temp.freezing:\n",
    "        return f\"Sorry, the temperature of {temp.temp} degrees {temp.measure} is below the feezing point, it's invalid.\"\n",
    "    elif temp.measure == 'Celsius':\n",
    "        return f\"{temp.temp} degrees {temp.measure} is equal to {temp.in_farenheit():.2f} degrees farenheit.\"\n",
    "    else:\n",
    "        return f\"{temp.temp} degrees {temp.measure} is equal to {temp.in_farenheit():.2f} degrees celsius.\""
   ]
  },
  {
   "cell_type": "code",
   "execution_count": 71,
   "id": "67de6165-1bc2-442d-95b4-b95332c92507",
   "metadata": {},
   "outputs": [
    {
     "name": "stdin",
     "output_type": "stream",
     "text": [
      "What's your current base measurement? (Select 1 or 2)\n",
      "1. Degree Celsius\n",
      "2. Degree Farenheit\n",
      " 1\n",
      "What's the temperature right now? 101\n"
     ]
    },
    {
     "name": "stdout",
     "output_type": "stream",
     "text": [
      "You have input 101.0 degrees Celsius, the freezing point is 0 degrees and boiling point is 100\n"
     ]
    },
    {
     "data": {
      "text/plain": [
       "\"Sorry, the temperature of 101.0 degrees Celsius is above the boiling point, it's invalid.\""
      ]
     },
     "execution_count": 71,
     "metadata": {},
     "output_type": "execute_result"
    }
   ],
   "source": [
    "e_what_temp()"
   ]
  },
  {
   "cell_type": "code",
   "execution_count": 74,
   "id": "3ad574ac-8c68-4b79-8c89-403e61b89e96",
   "metadata": {},
   "outputs": [
    {
     "name": "stdin",
     "output_type": "stream",
     "text": [
      "What's your current base measurement? (Select 1 or 2)\n",
      "1. Degree Celsius\n",
      "2. Degree Farenheit\n",
      " 2\n",
      "What's the temperature right now? 100\n"
     ]
    },
    {
     "name": "stdout",
     "output_type": "stream",
     "text": [
      "You have input 100.0 degrees Farenheit, the freezing point is 32 degrees and boiling point is 212\n"
     ]
    },
    {
     "data": {
      "text/plain": [
       "'100.0 degrees Farenheit is equal to 87.56 degrees celsius.'"
      ]
     },
     "execution_count": 74,
     "metadata": {},
     "output_type": "execute_result"
    }
   ],
   "source": [
    "e_what_temp()"
   ]
  },
  {
   "cell_type": "markdown",
   "id": "f91041c1-9b0c-43d6-9009-334b19693650",
   "metadata": {},
   "source": [
    "### Question 7: Times Table\n",
    "Write a Python program that asks user to input a positive integer. Thereafter, the program should print out the times table of the integer from 1 to 10.\n",
    "\n",
    "| Sample Input | Sample Output |\n",
    "| --- | --- |\n",
    "| 2 | 2, 4, 6, 8, 10, 12, 14, 16, 18, 20 |\n",
    "| 13 | 13, 26, 39, 52, 65, 78, 91, 104, 117, 130 |"
   ]
  },
  {
   "cell_type": "code",
   "execution_count": 75,
   "id": "5a391110-f775-4d52-9b2f-28f69decc828",
   "metadata": {},
   "outputs": [],
   "source": [
    "def times_table():\n",
    "    # Get user's input\n",
    "    try:\n",
    "        val = int(input(f\"Give me a positive integer!\"))\n",
    "        \n",
    "        if val < 0:\n",
    "            print(f\"Don't play play hor, I don't do {val}. Bye.\")\n",
    "            return -1\n",
    "    except ValueError as e:\n",
    "        print(f\"Invalid input, please try again la.\")\n",
    "        \n",
    "    # generate output\n",
    "    result = []\n",
    "    for i in range(1, 11):\n",
    "        result.append(i * val)\n",
    "        \n",
    "    print(result)"
   ]
  },
  {
   "cell_type": "code",
   "execution_count": 76,
   "id": "16a3f5b4-c12f-4847-9f6b-647bff3f505e",
   "metadata": {},
   "outputs": [
    {
     "name": "stdin",
     "output_type": "stream",
     "text": [
      "Give me a positive integer! 2\n"
     ]
    },
    {
     "name": "stdout",
     "output_type": "stream",
     "text": [
      "[2, 4, 6, 8, 10, 12, 14, 16, 18, 20]\n"
     ]
    }
   ],
   "source": [
    "times_table()"
   ]
  },
  {
   "cell_type": "code",
   "execution_count": 139,
   "id": "fae4c20b-e70b-45fb-8ee1-84b6199fe599",
   "metadata": {},
   "outputs": [
    {
     "name": "stdin",
     "output_type": "stream",
     "text": [
      "Give me a positive integer! -10\n"
     ]
    },
    {
     "name": "stdout",
     "output_type": "stream",
     "text": [
      "Don't play play hor, I don't do -10. Bye.\n"
     ]
    },
    {
     "data": {
      "text/plain": [
       "-1"
      ]
     },
     "execution_count": 139,
     "metadata": {},
     "output_type": "execute_result"
    }
   ],
   "source": [
    "times_table()"
   ]
  },
  {
   "cell_type": "markdown",
   "id": "85a42b02-b1f4-45c8-b3c7-b2cff7137484",
   "metadata": {},
   "source": [
    "### Question 8: Power of Numbers"
   ]
  },
  {
   "cell_type": "code",
   "execution_count": 90,
   "id": "a3d7f2ca-010b-4943-a0d5-c207bc8447ad",
   "metadata": {},
   "outputs": [],
   "source": [
    "def power_num():\n",
    "    # Get users' input\n",
    "    try:\n",
    "        base = int(input(f\"Give me a positive integer as the base!\"))\n",
    "        exp = int(input(f\"Give me another positive integer as exponential\"))\n",
    "        \n",
    "        if base < 0 or exp < 0:\n",
    "            print(f\"Don't play play hor, I don't do negatives. Bye.\")\n",
    "            return -1\n",
    "    except ValueError as e:\n",
    "        print(f\"Invalid input, please try again la.\")\n",
    "        \n",
    "    # generate output\n",
    "    total = 1\n",
    "    if base == 0:\n",
    "        return 0\n",
    "    else:\n",
    "        for i in range(exp):\n",
    "            total *= base\n",
    "    return total"
   ]
  },
  {
   "cell_type": "code",
   "execution_count": 87,
   "id": "5c96e48a-a299-438c-88a3-92d87afbb147",
   "metadata": {},
   "outputs": [
    {
     "name": "stdin",
     "output_type": "stream",
     "text": [
      "Give me a positive integer as the base! 1\n",
      "Give me another positive integer as exponential 0\n"
     ]
    },
    {
     "data": {
      "text/plain": [
       "1"
      ]
     },
     "execution_count": 87,
     "metadata": {},
     "output_type": "execute_result"
    }
   ],
   "source": [
    "power_num()"
   ]
  },
  {
   "cell_type": "code",
   "execution_count": 88,
   "id": "250f432c-f8ad-4813-8f75-a7d5ec213939",
   "metadata": {},
   "outputs": [
    {
     "name": "stdin",
     "output_type": "stream",
     "text": [
      "Give me a positive integer as the base! 0\n",
      "Give me another positive integer as exponential 1\n"
     ]
    },
    {
     "data": {
      "text/plain": [
       "0"
      ]
     },
     "execution_count": 88,
     "metadata": {},
     "output_type": "execute_result"
    }
   ],
   "source": [
    "power_num()"
   ]
  },
  {
   "cell_type": "code",
   "execution_count": 91,
   "id": "9b2579c6-619c-4406-a383-673f32f1d9b3",
   "metadata": {},
   "outputs": [
    {
     "name": "stdin",
     "output_type": "stream",
     "text": [
      "Give me a positive integer as the base! 3\n",
      "Give me another positive integer as exponential 3\n"
     ]
    },
    {
     "data": {
      "text/plain": [
       "27"
      ]
     },
     "execution_count": 91,
     "metadata": {},
     "output_type": "execute_result"
    }
   ],
   "source": [
    "power_num()"
   ]
  },
  {
   "cell_type": "markdown",
   "id": "55434391-f8e5-4368-9c4a-3ef29a2721f0",
   "metadata": {},
   "source": [
    "### Question 9: Perfect Square"
   ]
  },
  {
   "cell_type": "code",
   "execution_count": 102,
   "id": "44afb2f4-7ab0-4890-a42a-e369e6af7629",
   "metadata": {},
   "outputs": [],
   "source": [
    "def perfect_square():\n",
    "    try:\n",
    "        val = int(input(f\"Give us a value between 1 to 100:\"))\n",
    "        \n",
    "        if val < 1 or val > 100:\n",
    "            print(f\"This value is either less 1 or more than 100.\")\n",
    "            return -1\n",
    "        \n",
    "    except ValueError as e:\n",
    "        print(f\"Value provided is not a valid integer, please try again\")\n",
    "        return -1\n",
    "    \n",
    "    value = int((val ** 0.5)) ** 2\n",
    "    \n",
    "    print(f\"It is {value == val} that {val} is a perfect square.\")"
   ]
  },
  {
   "cell_type": "code",
   "execution_count": 104,
   "id": "76570ddb-800b-446a-8c6b-d6a06e39f82e",
   "metadata": {},
   "outputs": [
    {
     "name": "stdin",
     "output_type": "stream",
     "text": [
      "Give us a value between 1 to 100: 14\n"
     ]
    },
    {
     "name": "stdout",
     "output_type": "stream",
     "text": [
      "It is False that 14 is a perfect square.\n"
     ]
    }
   ],
   "source": [
    "perfect_square()"
   ]
  },
  {
   "cell_type": "code",
   "execution_count": 105,
   "id": "60ab2001-760c-44b9-af19-41274d0fdf83",
   "metadata": {},
   "outputs": [
    {
     "name": "stdin",
     "output_type": "stream",
     "text": [
      "Give us a value between 1 to 100: 81\n"
     ]
    },
    {
     "name": "stdout",
     "output_type": "stream",
     "text": [
      "It is True that 81 is a perfect square.\n"
     ]
    }
   ],
   "source": [
    "perfect_square()"
   ]
  },
  {
   "cell_type": "markdown",
   "id": "f09ebec1-3372-434c-81ab-f4bcc9f7591d",
   "metadata": {},
   "source": [
    "### Question 10: Find the first Digit"
   ]
  },
  {
   "cell_type": "code",
   "execution_count": 130,
   "id": "38d10168-afc2-42e4-bcfe-da5b389c5807",
   "metadata": {},
   "outputs": [],
   "source": [
    "def first_digit():\n",
    "    try:\n",
    "        val = int(input(f\"Provide an integer:\"))\n",
    "        \n",
    "    except ValueError as e:\n",
    "        print(f\"Value provided is not a valid integer, please try again\")\n",
    "        return -1\n",
    "    \n",
    "    # Update value\n",
    "    while val > 10:\n",
    "        val /= 10\n",
    "    \n",
    "    print(f\"The first digit is {int(val)}.\")"
   ]
  },
  {
   "cell_type": "code",
   "execution_count": 131,
   "id": "f6954643-f883-4bf7-8f13-80defdf7099e",
   "metadata": {},
   "outputs": [
    {
     "name": "stdin",
     "output_type": "stream",
     "text": [
      "Provide an integer: 1\n"
     ]
    },
    {
     "name": "stdout",
     "output_type": "stream",
     "text": [
      "The first digit is 1.\n"
     ]
    }
   ],
   "source": [
    "first_digit()"
   ]
  },
  {
   "cell_type": "code",
   "execution_count": 132,
   "id": "6db609fe-06dd-4f82-9da7-77640763b022",
   "metadata": {},
   "outputs": [
    {
     "name": "stdin",
     "output_type": "stream",
     "text": [
      "Provide an integer: 5\n"
     ]
    },
    {
     "name": "stdout",
     "output_type": "stream",
     "text": [
      "The first digit is 5.\n"
     ]
    }
   ],
   "source": [
    "first_digit()"
   ]
  },
  {
   "cell_type": "code",
   "execution_count": 133,
   "id": "31c41652-c7d6-4e10-8bde-75443d0eb48d",
   "metadata": {},
   "outputs": [
    {
     "name": "stdin",
     "output_type": "stream",
     "text": [
      "Provide an integer: 258\n"
     ]
    },
    {
     "name": "stdout",
     "output_type": "stream",
     "text": [
      "The first digit is 2.\n"
     ]
    }
   ],
   "source": [
    "first_digit()"
   ]
  },
  {
   "cell_type": "code",
   "execution_count": 134,
   "id": "caaf7325-0cf6-45b5-9110-e7c0ec88cc99",
   "metadata": {},
   "outputs": [
    {
     "name": "stdin",
     "output_type": "stream",
     "text": [
      "Provide an integer: 45644478\n"
     ]
    },
    {
     "name": "stdout",
     "output_type": "stream",
     "text": [
      "The first digit is 4.\n"
     ]
    }
   ],
   "source": [
    "first_digit()"
   ]
  },
  {
   "cell_type": "markdown",
   "id": "93e7f672-6321-48e9-a46a-beea98b35ebd",
   "metadata": {},
   "source": [
    "### Question 11: Find Any Digit"
   ]
  },
  {
   "cell_type": "code",
   "execution_count": 165,
   "id": "32451eda-d554-43c0-8392-91f75e8fd22e",
   "metadata": {},
   "outputs": [],
   "source": [
    "def n_digit():\n",
    "    try:\n",
    "        val = int(input(f\"Provide an integer:\"))\n",
    "        find = int(input(f\"Provide positional integer to indentify:\"))\n",
    "        \n",
    "        tmp = val\n",
    "        count = 1\n",
    "        while tmp > 10:\n",
    "            tmp /= 10\n",
    "            count += 1\n",
    "        \n",
    "        if find <= 0:\n",
    "            print(f\"Siao ah, less than 0 how to find\")\n",
    "            return -1\n",
    "        elif find > count:\n",
    "            print(f\"Invalid la, you want to find {find}-th digit in {val} of {count} digits? Siao ah.\")\n",
    "            return -1\n",
    "        \n",
    "    except ValueError as e:\n",
    "        print(f\"Value provided is not a valid integer, please try again\")\n",
    "        \n",
    "    # find the n-th digit\n",
    "    result = val\n",
    "    for i in range(count - find):\n",
    "        result /= 10\n",
    "    \n",
    "    print(f\"The {find} position digit of {val} is {int(result % 10)}.\")"
   ]
  },
  {
   "cell_type": "code",
   "execution_count": 158,
   "id": "c0b1097f-d530-4c69-8132-4953979348f9",
   "metadata": {},
   "outputs": [
    {
     "name": "stdin",
     "output_type": "stream",
     "text": [
      "Provide an integer: 2345\n",
      "Provide positional integer to indentify: 0\n"
     ]
    },
    {
     "name": "stdout",
     "output_type": "stream",
     "text": [
      "4\n",
      "Siao ah, less than 0 how to find\n"
     ]
    },
    {
     "data": {
      "text/plain": [
       "-1"
      ]
     },
     "execution_count": 158,
     "metadata": {},
     "output_type": "execute_result"
    }
   ],
   "source": [
    "n_digit()"
   ]
  },
  {
   "cell_type": "code",
   "execution_count": 159,
   "id": "f0418b24-7799-4b8c-b315-e75b15d65bd5",
   "metadata": {},
   "outputs": [
    {
     "name": "stdin",
     "output_type": "stream",
     "text": [
      "Provide an integer: 2345\n",
      "Provide positional integer to indentify: 1\n"
     ]
    },
    {
     "name": "stdout",
     "output_type": "stream",
     "text": [
      "4\n",
      "The 1-th digit of 2345 is 2.\n"
     ]
    }
   ],
   "source": [
    "n_digit()"
   ]
  },
  {
   "cell_type": "code",
   "execution_count": 160,
   "id": "db294989-6404-47d2-9197-09898a2a7ed4",
   "metadata": {},
   "outputs": [
    {
     "name": "stdin",
     "output_type": "stream",
     "text": [
      "Provide an integer: 2345\n",
      "Provide positional integer to indentify: 2\n"
     ]
    },
    {
     "name": "stdout",
     "output_type": "stream",
     "text": [
      "4\n",
      "The 2-th digit of 2345 is 3.\n"
     ]
    }
   ],
   "source": [
    "n_digit()"
   ]
  },
  {
   "cell_type": "code",
   "execution_count": 166,
   "id": "0f65c388-de30-41a0-98d0-dc68992520b3",
   "metadata": {},
   "outputs": [
    {
     "name": "stdin",
     "output_type": "stream",
     "text": [
      "Provide an integer: 2345\n",
      "Provide positional integer to indentify: 4\n"
     ]
    },
    {
     "name": "stdout",
     "output_type": "stream",
     "text": [
      "The 4 position digit of 2345 is 5.\n"
     ]
    }
   ],
   "source": [
    "n_digit()"
   ]
  },
  {
   "cell_type": "code",
   "execution_count": 167,
   "id": "ff4f181f-94c4-4452-87b4-95b760a8c48c",
   "metadata": {},
   "outputs": [
    {
     "name": "stdin",
     "output_type": "stream",
     "text": [
      "Provide an integer: 2345\n",
      "Provide positional integer to indentify: 5\n"
     ]
    },
    {
     "name": "stdout",
     "output_type": "stream",
     "text": [
      "Invalid la, you want to find 5-th digit in 2345 of 4 digits? Siao ah.\n"
     ]
    },
    {
     "data": {
      "text/plain": [
       "-1"
      ]
     },
     "execution_count": 167,
     "metadata": {},
     "output_type": "execute_result"
    }
   ],
   "source": [
    "n_digit()"
   ]
  },
  {
   "cell_type": "markdown",
   "id": "a9c44bdd-19b9-4305-8664-854cc8a1446d",
   "metadata": {},
   "source": [
    "### Question 12: Guess the Computer's Age"
   ]
  },
  {
   "cell_type": "code",
   "execution_count": 183,
   "id": "220f8247-bffa-49be-98b0-e050d481ea85",
   "metadata": {},
   "outputs": [],
   "source": [
    "class age_guesser():\n",
    "    def __init__(self, age, mini = 0, maxi = 100, attempts = 0):\n",
    "        self.age = age\n",
    "        self.mini = mini\n",
    "        self.maxi = maxi\n",
    "        self.attempts = attempts\n",
    "        \n",
    "    def update_mini(self, number):\n",
    "        self.mini = number\n",
    "        self.attempts += 1\n",
    "        \n",
    "    def update_maxi(self, number):\n",
    "        self.maxi = number\n",
    "        self.attempts += 1\n",
    "        \n",
    "    def guess(self, number):\n",
    "        if number == self.age:\n",
    "            self.attempts += 1\n",
    "            print(f\"{number} is correct! You took {self.attempts} guesses to get the right answer.\")\n",
    "            return 1\n",
    "        elif number < self.age:\n",
    "            self.update_mini(number)\n",
    "            print(f\"{number} is too small, age is between {self.mini} and {self.maxi}. This is your {self.attempts} guess.\")\n",
    "            return -1\n",
    "        else:\n",
    "            self.update_maxi(number)\n",
    "            print(f\"{number} is too large, age is between {self.mini} and {self.maxi}. This is your {self.attempts} guess.\")\n",
    "            return -1"
   ]
  },
  {
   "cell_type": "code",
   "execution_count": 184,
   "id": "37dc67b8-1f0e-4760-aebd-78aa4e9bced0",
   "metadata": {},
   "outputs": [],
   "source": [
    "def guess_the_age():\n",
    "    try:\n",
    "        age = int(input(f\"Game master, input a positive value between 1 and 100:\"))\n",
    "        \n",
    "        if age < 1 or age > 100:\n",
    "            return f\"{age} is not between 1 - 100 la dey.\"\n",
    "    except ValueError as e:\n",
    "        return f\"Oi dumb dumb, put in integer between 1 and 100.\"\n",
    "    \n",
    "    # Create game & flag object\n",
    "    game = age_guesser(age)\n",
    "    flag = 0\n",
    "    \n",
    "    # Start game\n",
    "    while flag != 1:\n",
    "        guessed = int(input(f\"Guess a number:\"))\n",
    "        flag = game.guess(guessed)"
   ]
  },
  {
   "cell_type": "code",
   "execution_count": 185,
   "id": "76efc867-e83a-4e4c-9cd2-d459a66c0ae5",
   "metadata": {},
   "outputs": [
    {
     "name": "stdin",
     "output_type": "stream",
     "text": [
      "Game master, input a positive value between 1 and 100: 20\n",
      "Guess a number: 2\n"
     ]
    },
    {
     "name": "stdout",
     "output_type": "stream",
     "text": [
      "2 is too small, age is between 2 and 100. This is your 1 guess.\n"
     ]
    },
    {
     "name": "stdin",
     "output_type": "stream",
     "text": [
      "Guess a number: 5\n"
     ]
    },
    {
     "name": "stdout",
     "output_type": "stream",
     "text": [
      "5 is too small, age is between 5 and 100. This is your 2 guess.\n"
     ]
    },
    {
     "name": "stdin",
     "output_type": "stream",
     "text": [
      "Guess a number: 88\n"
     ]
    },
    {
     "name": "stdout",
     "output_type": "stream",
     "text": [
      "88 is too large, age is between 5 and 88. This is your 3 guess.\n"
     ]
    },
    {
     "name": "stdin",
     "output_type": "stream",
     "text": [
      "Guess a number: 57\n"
     ]
    },
    {
     "name": "stdout",
     "output_type": "stream",
     "text": [
      "57 is too large, age is between 5 and 57. This is your 4 guess.\n"
     ]
    },
    {
     "name": "stdin",
     "output_type": "stream",
     "text": [
      "Guess a number: 32\n"
     ]
    },
    {
     "name": "stdout",
     "output_type": "stream",
     "text": [
      "32 is too large, age is between 5 and 32. This is your 5 guess.\n"
     ]
    },
    {
     "name": "stdin",
     "output_type": "stream",
     "text": [
      "Guess a number: 15\n"
     ]
    },
    {
     "name": "stdout",
     "output_type": "stream",
     "text": [
      "15 is too small, age is between 15 and 32. This is your 6 guess.\n"
     ]
    },
    {
     "name": "stdin",
     "output_type": "stream",
     "text": [
      "Guess a number: 20\n"
     ]
    },
    {
     "name": "stdout",
     "output_type": "stream",
     "text": [
      "20 is correct! You took 7 guesses to get the right answer.\n"
     ]
    }
   ],
   "source": [
    "guess_the_age()"
   ]
  },
  {
   "cell_type": "markdown",
   "id": "975a1ecf-290b-4ea6-8ced-f840672a07bd",
   "metadata": {},
   "source": [
    "### Question 13: Simple Integer Sorting"
   ]
  },
  {
   "cell_type": "code",
   "execution_count": 195,
   "id": "2ef95086-1577-4793-8680-ecbd7753147f",
   "metadata": {},
   "outputs": [],
   "source": [
    "## Defining quick sort helper function [O(NlogN) time-complexity]\n",
    "# Function to identify partition (middle value)\n",
    "def partition(array, low, high):\n",
    "    \n",
    "    # Select rightmost value\n",
    "    pivot = array[high]\n",
    "    \n",
    "    # Pointer for greater element\n",
    "    i = low - 1\n",
    "    \n",
    "    # Tranverse through all elements & compare with pivot\n",
    "    for j in range(low, high):\n",
    "        # If value is smaller than pivot, swap it to it's right so the larger value moves up\n",
    "        if array[j] <= pivot:\n",
    "            i += 1\n",
    "            \n",
    "            # Swap greater with smaller element\n",
    "            array[i], array[j] = array[j], array[i]\n",
    "            \n",
    "    # After iteration, swap pivot with the great value so that pivot is now in the middle & smaller than greater value\n",
    "    array[i + 1], array[high] = array[high], array[i + 1]\n",
    "        \n",
    "    # Return pivot-position\n",
    "    return i + 1\n",
    "    \n",
    "def quick_sort(array, low, high):\n",
    "    if low < high:\n",
    "        \n",
    "        # Find the partition where elements to left will be smaller & right will be larger\n",
    "        par = partition(array, low, high)\n",
    "        \n",
    "        # Recursively call on left & right pivot\n",
    "        quick_sort(array, low, par - 1)\n",
    "        quick_sort(array, par + 1, high)"
   ]
  },
  {
   "cell_type": "code",
   "execution_count": 196,
   "id": "0e993f8b-7b19-41c6-8dcc-3297c60380df",
   "metadata": {},
   "outputs": [],
   "source": [
    "def sorting():\n",
    "    values = []\n",
    "    try:\n",
    "        for i in range(1, 6):\n",
    "            val = int(input(f\"Input the {i} integer value:\"))\n",
    "            values.append(val)\n",
    "            \n",
    "    except ValueError as e:\n",
    "        print(f\"Please input valid value.\")\n",
    "        \n",
    "    print(values)\n",
    "    # Iterate through list to return sorted values\n",
    "    quick_sort(values, 0, len(values) - 1)\n",
    "    print(f\"Sorted array: {values}\")"
   ]
  },
  {
   "cell_type": "code",
   "execution_count": 197,
   "id": "de129d23-bbc5-4072-989f-e0c5e4474305",
   "metadata": {},
   "outputs": [
    {
     "name": "stdin",
     "output_type": "stream",
     "text": [
      "Input the 1 integer value: 5\n",
      "Input the 2 integer value: 4\n",
      "Input the 3 integer value: 3\n",
      "Input the 4 integer value: 2\n",
      "Input the 5 integer value: 1\n"
     ]
    },
    {
     "name": "stdout",
     "output_type": "stream",
     "text": [
      "[5, 4, 3, 2, 1]\n",
      "Sorted array: [1, 2, 3, 4, 5]\n"
     ]
    }
   ],
   "source": [
    "sorting()"
   ]
  },
  {
   "cell_type": "code",
   "execution_count": 198,
   "id": "41ae18a5-218c-4433-ad9b-831d623b9655",
   "metadata": {},
   "outputs": [
    {
     "name": "stdin",
     "output_type": "stream",
     "text": [
      "Input the 1 integer value: -1\n",
      "Input the 2 integer value: -2\n",
      "Input the 3 integer value: -3\n",
      "Input the 4 integer value: -4\n",
      "Input the 5 integer value: -5\n"
     ]
    },
    {
     "name": "stdout",
     "output_type": "stream",
     "text": [
      "[-1, -2, -3, -4, -5]\n",
      "Sorted array: [-5, -4, -3, -2, -1]\n"
     ]
    }
   ],
   "source": [
    "sorting()"
   ]
  },
  {
   "cell_type": "code",
   "execution_count": 199,
   "id": "58023923-ab8b-489e-b10c-08fbc5f47b27",
   "metadata": {},
   "outputs": [],
   "source": [
    "def a_sorting():\n",
    "    values = []\n",
    "    try:\n",
    "        count = int(input(f\"How many integers do you want do add to list?:\"))\n",
    "        \n",
    "        for i in range(1, count + 1):\n",
    "            val = int(input(f\"Input the {i} integer value:\"))\n",
    "            values.append(val)\n",
    "            \n",
    "    except ValueError as e:\n",
    "        print(f\"Please input valid value.\")\n",
    "        \n",
    "    print(values)\n",
    "    # Iterate through list to return sorted values\n",
    "    quick_sort(values, 0, len(values) - 1)\n",
    "    print(f\"Sorted array: {values}\")"
   ]
  },
  {
   "cell_type": "code",
   "execution_count": 200,
   "id": "92dfb0e0-de89-4f26-8373-415f14b9e470",
   "metadata": {},
   "outputs": [
    {
     "name": "stdin",
     "output_type": "stream",
     "text": [
      "How many integers do you want do add to list?: 5\n",
      "Input the 1 integer value: 5\n",
      "Input the 2 integer value: 4\n",
      "Input the 3 integer value: 3\n",
      "Input the 4 integer value: 2\n",
      "Input the 5 integer value: 1\n"
     ]
    },
    {
     "name": "stdout",
     "output_type": "stream",
     "text": [
      "[5, 4, 3, 2, 1]\n",
      "Sorted array: [1, 2, 3, 4, 5]\n"
     ]
    }
   ],
   "source": [
    "a_sorting()"
   ]
  },
  {
   "cell_type": "code",
   "execution_count": 201,
   "id": "d14fdf20-43fa-439e-8c71-8d3114592095",
   "metadata": {},
   "outputs": [
    {
     "name": "stdin",
     "output_type": "stream",
     "text": [
      "How many integers do you want do add to list?: 8\n",
      "Input the 1 integer value: 8\n",
      "Input the 2 integer value: 6\n",
      "Input the 3 integer value: 7\n",
      "Input the 4 integer value: 5\n",
      "Input the 5 integer value: 3\n",
      "Input the 6 integer value: 4\n",
      "Input the 7 integer value: 2\n",
      "Input the 8 integer value: 1\n"
     ]
    },
    {
     "name": "stdout",
     "output_type": "stream",
     "text": [
      "[8, 6, 7, 5, 3, 4, 2, 1]\n",
      "Sorted array: [1, 2, 3, 4, 5, 6, 7, 8]\n"
     ]
    }
   ],
   "source": [
    "a_sorting()"
   ]
  }
 ],
 "metadata": {
  "kernelspec": {
   "display_name": "Python 3",
   "language": "python",
   "name": "python3"
  },
  "language_info": {
   "codemirror_mode": {
    "name": "ipython",
    "version": 3
   },
   "file_extension": ".py",
   "mimetype": "text/x-python",
   "name": "python",
   "nbconvert_exporter": "python",
   "pygments_lexer": "ipython3",
   "version": "3.8.8"
  }
 },
 "nbformat": 4,
 "nbformat_minor": 5
}
