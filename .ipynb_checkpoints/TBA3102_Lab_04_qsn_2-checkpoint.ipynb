{
 "cells": [
  {
   "cell_type": "markdown",
   "id": "062aba88-1bcd-4b8c-8e6b-ad2728eb55c8",
   "metadata": {},
   "source": [
    "# Question 2 - Basic Text Preprocessing\n",
    "## Libraries for question 2"
   ]
  },
  {
   "cell_type": "code",
   "execution_count": 1,
   "id": "be77f7d0-5043-43ff-8ba8-bc044cb69245",
   "metadata": {},
   "outputs": [],
   "source": [
    "# Data Wrangling\n",
    "import numpy as np\n",
    "import pandas as pd\n",
    "import nltk\n",
    "\n",
    "# Math\n",
    "from scipy import stats\n",
    "\n",
    "# Data Visualization\n",
    "import seaborn as sns\n",
    "from matplotlib import pyplot as plt"
   ]
  },
  {
   "cell_type": "markdown",
   "id": "5c582dbe-b6a4-4cfc-9a2a-1dd6207ae782",
   "metadata": {},
   "source": [
    "## Question 2"
   ]
  },
  {
   "cell_type": "code",
   "execution_count": 2,
   "id": "8efaf328-4285-4fd9-bac0-3beed7ddfba7",
   "metadata": {},
   "outputs": [
    {
     "data": {
      "text/html": [
       "<div>\n",
       "<style scoped>\n",
       "    .dataframe tbody tr th:only-of-type {\n",
       "        vertical-align: middle;\n",
       "    }\n",
       "\n",
       "    .dataframe tbody tr th {\n",
       "        vertical-align: top;\n",
       "    }\n",
       "\n",
       "    .dataframe thead th {\n",
       "        text-align: right;\n",
       "    }\n",
       "</style>\n",
       "<table border=\"1\" class=\"dataframe\">\n",
       "  <thead>\n",
       "    <tr style=\"text-align: right;\">\n",
       "      <th></th>\n",
       "      <th>asins</th>\n",
       "      <th>name</th>\n",
       "      <th>brand</th>\n",
       "      <th>categories</th>\n",
       "      <th>reviews.doRecommend</th>\n",
       "      <th>reviews.numHelpful</th>\n",
       "      <th>reviews.rating</th>\n",
       "      <th>reviews.text</th>\n",
       "      <th>reviews.title</th>\n",
       "    </tr>\n",
       "  </thead>\n",
       "  <tbody>\n",
       "    <tr>\n",
       "      <th>0</th>\n",
       "      <td>B01AHB9CN2</td>\n",
       "      <td>All-New Fire HD 8 Tablet, 8 HD Display, Wi-Fi,...</td>\n",
       "      <td>Amazon</td>\n",
       "      <td>Electronics,iPad &amp; Tablets,All Tablets,Fire Ta...</td>\n",
       "      <td>True</td>\n",
       "      <td>0.0</td>\n",
       "      <td>5.0</td>\n",
       "      <td>This product so far has not disappointed. My c...</td>\n",
       "      <td>Kindle</td>\n",
       "    </tr>\n",
       "    <tr>\n",
       "      <th>1</th>\n",
       "      <td>B01AHB9CN2</td>\n",
       "      <td>All-New Fire HD 8 Tablet, 8 HD Display, Wi-Fi,...</td>\n",
       "      <td>Amazon</td>\n",
       "      <td>Electronics,iPad &amp; Tablets,All Tablets,Fire Ta...</td>\n",
       "      <td>True</td>\n",
       "      <td>0.0</td>\n",
       "      <td>5.0</td>\n",
       "      <td>great for beginner or experienced person. Boug...</td>\n",
       "      <td>very fast</td>\n",
       "    </tr>\n",
       "    <tr>\n",
       "      <th>2</th>\n",
       "      <td>B01AHB9CN2</td>\n",
       "      <td>All-New Fire HD 8 Tablet, 8 HD Display, Wi-Fi,...</td>\n",
       "      <td>Amazon</td>\n",
       "      <td>Electronics,iPad &amp; Tablets,All Tablets,Fire Ta...</td>\n",
       "      <td>True</td>\n",
       "      <td>0.0</td>\n",
       "      <td>5.0</td>\n",
       "      <td>Inexpensive tablet for him to use and learn on...</td>\n",
       "      <td>Beginner tablet for our 9 year old son.</td>\n",
       "    </tr>\n",
       "    <tr>\n",
       "      <th>3</th>\n",
       "      <td>B01AHB9CN2</td>\n",
       "      <td>All-New Fire HD 8 Tablet, 8 HD Display, Wi-Fi,...</td>\n",
       "      <td>Amazon</td>\n",
       "      <td>Electronics,iPad &amp; Tablets,All Tablets,Fire Ta...</td>\n",
       "      <td>True</td>\n",
       "      <td>0.0</td>\n",
       "      <td>4.0</td>\n",
       "      <td>I've had my Fire HD 8 two weeks now and I love...</td>\n",
       "      <td>Good!!!</td>\n",
       "    </tr>\n",
       "    <tr>\n",
       "      <th>4</th>\n",
       "      <td>B01AHB9CN2</td>\n",
       "      <td>All-New Fire HD 8 Tablet, 8 HD Display, Wi-Fi,...</td>\n",
       "      <td>Amazon</td>\n",
       "      <td>Electronics,iPad &amp; Tablets,All Tablets,Fire Ta...</td>\n",
       "      <td>True</td>\n",
       "      <td>0.0</td>\n",
       "      <td>5.0</td>\n",
       "      <td>I bought this for my grand daughter when she c...</td>\n",
       "      <td>Fantastic Tablet for kids</td>\n",
       "    </tr>\n",
       "  </tbody>\n",
       "</table>\n",
       "</div>"
      ],
      "text/plain": [
       "        asins                                               name   brand  \\\n",
       "0  B01AHB9CN2  All-New Fire HD 8 Tablet, 8 HD Display, Wi-Fi,...  Amazon   \n",
       "1  B01AHB9CN2  All-New Fire HD 8 Tablet, 8 HD Display, Wi-Fi,...  Amazon   \n",
       "2  B01AHB9CN2  All-New Fire HD 8 Tablet, 8 HD Display, Wi-Fi,...  Amazon   \n",
       "3  B01AHB9CN2  All-New Fire HD 8 Tablet, 8 HD Display, Wi-Fi,...  Amazon   \n",
       "4  B01AHB9CN2  All-New Fire HD 8 Tablet, 8 HD Display, Wi-Fi,...  Amazon   \n",
       "\n",
       "                                          categories  reviews.doRecommend  \\\n",
       "0  Electronics,iPad & Tablets,All Tablets,Fire Ta...                 True   \n",
       "1  Electronics,iPad & Tablets,All Tablets,Fire Ta...                 True   \n",
       "2  Electronics,iPad & Tablets,All Tablets,Fire Ta...                 True   \n",
       "3  Electronics,iPad & Tablets,All Tablets,Fire Ta...                 True   \n",
       "4  Electronics,iPad & Tablets,All Tablets,Fire Ta...                 True   \n",
       "\n",
       "   reviews.numHelpful  reviews.rating  \\\n",
       "0                 0.0             5.0   \n",
       "1                 0.0             5.0   \n",
       "2                 0.0             5.0   \n",
       "3                 0.0             4.0   \n",
       "4                 0.0             5.0   \n",
       "\n",
       "                                        reviews.text  \\\n",
       "0  This product so far has not disappointed. My c...   \n",
       "1  great for beginner or experienced person. Boug...   \n",
       "2  Inexpensive tablet for him to use and learn on...   \n",
       "3  I've had my Fire HD 8 two weeks now and I love...   \n",
       "4  I bought this for my grand daughter when she c...   \n",
       "\n",
       "                             reviews.title  \n",
       "0                                   Kindle  \n",
       "1                                very fast  \n",
       "2  Beginner tablet for our 9 year old son.  \n",
       "3                                  Good!!!  \n",
       "4                Fantastic Tablet for kids  "
      ]
     },
     "execution_count": 2,
     "metadata": {},
     "output_type": "execute_result"
    }
   ],
   "source": [
    "# Import data\n",
    "ql_df = pd.read_csv('./data/q1.csv')\n",
    "ql_df.head()"
   ]
  },
  {
   "cell_type": "code",
   "execution_count": 3,
   "id": "2f58fb13-9db0-49e2-8ea7-e3bc8ffbb6e0",
   "metadata": {},
   "outputs": [
    {
     "data": {
      "text/html": [
       "<div>\n",
       "<style scoped>\n",
       "    .dataframe tbody tr th:only-of-type {\n",
       "        vertical-align: middle;\n",
       "    }\n",
       "\n",
       "    .dataframe tbody tr th {\n",
       "        vertical-align: top;\n",
       "    }\n",
       "\n",
       "    .dataframe thead th {\n",
       "        text-align: right;\n",
       "    }\n",
       "</style>\n",
       "<table border=\"1\" class=\"dataframe\">\n",
       "  <thead>\n",
       "    <tr style=\"text-align: right;\">\n",
       "      <th></th>\n",
       "      <th>asins</th>\n",
       "      <th>name</th>\n",
       "      <th>brand</th>\n",
       "      <th>categories</th>\n",
       "      <th>reviews.doRecommend</th>\n",
       "      <th>reviews.numHelpful</th>\n",
       "      <th>reviews.rating</th>\n",
       "      <th>reviews.text</th>\n",
       "      <th>reviews.title</th>\n",
       "      <th>tokenized_sentences</th>\n",
       "    </tr>\n",
       "  </thead>\n",
       "  <tbody>\n",
       "    <tr>\n",
       "      <th>0</th>\n",
       "      <td>B01AHB9CN2</td>\n",
       "      <td>All-New Fire HD 8 Tablet, 8 HD Display, Wi-Fi,...</td>\n",
       "      <td>Amazon</td>\n",
       "      <td>Electronics,iPad &amp; Tablets,All Tablets,Fire Ta...</td>\n",
       "      <td>True</td>\n",
       "      <td>0.0</td>\n",
       "      <td>5.0</td>\n",
       "      <td>This product so far has not disappointed. My c...</td>\n",
       "      <td>Kindle</td>\n",
       "      <td>[This product so far has not disappointed., My...</td>\n",
       "    </tr>\n",
       "    <tr>\n",
       "      <th>1</th>\n",
       "      <td>B01AHB9CN2</td>\n",
       "      <td>All-New Fire HD 8 Tablet, 8 HD Display, Wi-Fi,...</td>\n",
       "      <td>Amazon</td>\n",
       "      <td>Electronics,iPad &amp; Tablets,All Tablets,Fire Ta...</td>\n",
       "      <td>True</td>\n",
       "      <td>0.0</td>\n",
       "      <td>5.0</td>\n",
       "      <td>great for beginner or experienced person. Boug...</td>\n",
       "      <td>very fast</td>\n",
       "      <td>[great for beginner or experienced person., Bo...</td>\n",
       "    </tr>\n",
       "    <tr>\n",
       "      <th>2</th>\n",
       "      <td>B01AHB9CN2</td>\n",
       "      <td>All-New Fire HD 8 Tablet, 8 HD Display, Wi-Fi,...</td>\n",
       "      <td>Amazon</td>\n",
       "      <td>Electronics,iPad &amp; Tablets,All Tablets,Fire Ta...</td>\n",
       "      <td>True</td>\n",
       "      <td>0.0</td>\n",
       "      <td>5.0</td>\n",
       "      <td>Inexpensive tablet for him to use and learn on...</td>\n",
       "      <td>Beginner tablet for our 9 year old son.</td>\n",
       "      <td>[Inexpensive tablet for him to use and learn o...</td>\n",
       "    </tr>\n",
       "    <tr>\n",
       "      <th>3</th>\n",
       "      <td>B01AHB9CN2</td>\n",
       "      <td>All-New Fire HD 8 Tablet, 8 HD Display, Wi-Fi,...</td>\n",
       "      <td>Amazon</td>\n",
       "      <td>Electronics,iPad &amp; Tablets,All Tablets,Fire Ta...</td>\n",
       "      <td>True</td>\n",
       "      <td>0.0</td>\n",
       "      <td>4.0</td>\n",
       "      <td>I've had my Fire HD 8 two weeks now and I love...</td>\n",
       "      <td>Good!!!</td>\n",
       "      <td>[I've had my Fire HD 8 two weeks now and I lov...</td>\n",
       "    </tr>\n",
       "    <tr>\n",
       "      <th>4</th>\n",
       "      <td>B01AHB9CN2</td>\n",
       "      <td>All-New Fire HD 8 Tablet, 8 HD Display, Wi-Fi,...</td>\n",
       "      <td>Amazon</td>\n",
       "      <td>Electronics,iPad &amp; Tablets,All Tablets,Fire Ta...</td>\n",
       "      <td>True</td>\n",
       "      <td>0.0</td>\n",
       "      <td>5.0</td>\n",
       "      <td>I bought this for my grand daughter when she c...</td>\n",
       "      <td>Fantastic Tablet for kids</td>\n",
       "      <td>[I bought this for my grand daughter when she ...</td>\n",
       "    </tr>\n",
       "  </tbody>\n",
       "</table>\n",
       "</div>"
      ],
      "text/plain": [
       "        asins                                               name   brand  \\\n",
       "0  B01AHB9CN2  All-New Fire HD 8 Tablet, 8 HD Display, Wi-Fi,...  Amazon   \n",
       "1  B01AHB9CN2  All-New Fire HD 8 Tablet, 8 HD Display, Wi-Fi,...  Amazon   \n",
       "2  B01AHB9CN2  All-New Fire HD 8 Tablet, 8 HD Display, Wi-Fi,...  Amazon   \n",
       "3  B01AHB9CN2  All-New Fire HD 8 Tablet, 8 HD Display, Wi-Fi,...  Amazon   \n",
       "4  B01AHB9CN2  All-New Fire HD 8 Tablet, 8 HD Display, Wi-Fi,...  Amazon   \n",
       "\n",
       "                                          categories  reviews.doRecommend  \\\n",
       "0  Electronics,iPad & Tablets,All Tablets,Fire Ta...                 True   \n",
       "1  Electronics,iPad & Tablets,All Tablets,Fire Ta...                 True   \n",
       "2  Electronics,iPad & Tablets,All Tablets,Fire Ta...                 True   \n",
       "3  Electronics,iPad & Tablets,All Tablets,Fire Ta...                 True   \n",
       "4  Electronics,iPad & Tablets,All Tablets,Fire Ta...                 True   \n",
       "\n",
       "   reviews.numHelpful  reviews.rating  \\\n",
       "0                 0.0             5.0   \n",
       "1                 0.0             5.0   \n",
       "2                 0.0             5.0   \n",
       "3                 0.0             4.0   \n",
       "4                 0.0             5.0   \n",
       "\n",
       "                                        reviews.text  \\\n",
       "0  This product so far has not disappointed. My c...   \n",
       "1  great for beginner or experienced person. Boug...   \n",
       "2  Inexpensive tablet for him to use and learn on...   \n",
       "3  I've had my Fire HD 8 two weeks now and I love...   \n",
       "4  I bought this for my grand daughter when she c...   \n",
       "\n",
       "                             reviews.title  \\\n",
       "0                                   Kindle   \n",
       "1                                very fast   \n",
       "2  Beginner tablet for our 9 year old son.   \n",
       "3                                  Good!!!   \n",
       "4                Fantastic Tablet for kids   \n",
       "\n",
       "                                 tokenized_sentences  \n",
       "0  [This product so far has not disappointed., My...  \n",
       "1  [great for beginner or experienced person., Bo...  \n",
       "2  [Inexpensive tablet for him to use and learn o...  \n",
       "3  [I've had my Fire HD 8 two weeks now and I lov...  \n",
       "4  [I bought this for my grand daughter when she ...  "
      ]
     },
     "execution_count": 3,
     "metadata": {},
     "output_type": "execute_result"
    }
   ],
   "source": [
    "## 2a\n",
    "# Initializer sentence tokenizer using nltk.sent_tokenizer that uses `PunktSentenceTokenizer`\n",
    "st = nltk.sent_tokenize\n",
    "\n",
    "# Create column & store tokenized sentences \n",
    "ql_df2 = ql_df.copy()\n",
    "ql_df2['tokenized_sentences'] = ql_df2['reviews.text'].apply(st)\n",
    "ql_df2.head()"
   ]
  },
  {
   "cell_type": "code",
   "execution_count": 4,
   "id": "c879d475-8d4a-41c0-bd81-490e77020759",
   "metadata": {},
   "outputs": [
    {
     "name": "stdout",
     "output_type": "stream",
     "text": [
      "There are is average of 2.60 sentences per review for unprocessed raw review text.\n"
     ]
    }
   ],
   "source": [
    "# Count number of sentences\n",
    "ql_df2['sentence_count'] = ql_df2['tokenized_sentences'].apply(len)\n",
    "\n",
    "# Return average number of sentences in review text\n",
    "print(f\"There are is average of {ql_df2['sentence_count'].mean():.2f} sentences per review for unprocessed raw review text.\")"
   ]
  },
  {
   "cell_type": "markdown",
   "id": "909b59af-2680-4ace-802a-d45c64d861c2",
   "metadata": {},
   "source": [
    "<b>Hint for question 2b:</b> \n",
    "b answer should be b/a\n",
    "Where we use total no. words divide by total sentences"
   ]
  },
  {
   "cell_type": "code",
   "execution_count": 5,
   "id": "df2446f1-2051-495b-839a-ff52164e9f79",
   "metadata": {},
   "outputs": [
    {
     "data": {
      "text/plain": [
       "88766"
      ]
     },
     "execution_count": 5,
     "metadata": {},
     "output_type": "execute_result"
    }
   ],
   "source": [
    "## 2b\n",
    "# Initializer word tokenizer using nltk.word_tokenizer that uses `TreebankWordTokenizer` based on Penn Treebank\n",
    "wt = nltk.word_tokenize\n",
    "\n",
    "# Iterate through each row and apply word tokenizer before appending to sent_list\n",
    "sent_list = []\n",
    "for i in range(len(ql_df2)):\n",
    "    # Generate word tokens for each sentence\n",
    "    word_tokens_sent_list = [wt(sentence) for sentence in ql_df2['tokenized_sentences'][i]]\n",
    "    \n",
    "    # Iterate through list and get number of words from each sentence\n",
    "    for sent in word_tokens_sent_list:\n",
    "        sent_list.append(len(sent))\n",
    "    \n",
    "len(sent_list)"
   ]
  },
  {
   "cell_type": "code",
   "execution_count": 6,
   "id": "cab1308e-5e3f-4c8b-b80a-70732b1fb1ab",
   "metadata": {},
   "outputs": [
    {
     "name": "stdout",
     "output_type": "stream",
     "text": [
      "There is an average of 13.16 words per sentence of an unprocessed raw review text.\n"
     ]
    }
   ],
   "source": [
    "# Get average words of each sentence\n",
    "print(f\"There is an average of {np.mean(sent_list):.2f} words per sentence of an unprocessed raw review text.\")"
   ]
  },
  {
   "cell_type": "code",
   "execution_count": 7,
   "id": "fe00ba16-d81f-4e03-80cc-21414776587b",
   "metadata": {},
   "outputs": [],
   "source": [
    "## 2c\n",
    "# Create empty column to store word tokens\n",
    "ql_df3 = ql_df2.copy()\n",
    "ql_df3['tokenized_words'] = ql_df3.apply(lambda _: ' ', axis = 1)"
   ]
  },
  {
   "cell_type": "code",
   "execution_count": 8,
   "id": "20f53e28-7c17-49c2-a528-4589a334df78",
   "metadata": {},
   "outputs": [
    {
     "name": "stderr",
     "output_type": "stream",
     "text": [
      "C:\\Users\\User\\AppData\\Local\\Temp\\ipykernel_2012\\154709330.py:13: SettingWithCopyWarning: \n",
      "A value is trying to be set on a copy of a slice from a DataFrame\n",
      "\n",
      "See the caveats in the documentation: https://pandas.pydata.org/pandas-docs/stable/user_guide/indexing.html#returning-a-view-versus-a-copy\n",
      "  ql_df3['tokenized_words'][i] = word_tokens\n"
     ]
    },
    {
     "data": {
      "text/html": [
       "<div>\n",
       "<style scoped>\n",
       "    .dataframe tbody tr th:only-of-type {\n",
       "        vertical-align: middle;\n",
       "    }\n",
       "\n",
       "    .dataframe tbody tr th {\n",
       "        vertical-align: top;\n",
       "    }\n",
       "\n",
       "    .dataframe thead th {\n",
       "        text-align: right;\n",
       "    }\n",
       "</style>\n",
       "<table border=\"1\" class=\"dataframe\">\n",
       "  <thead>\n",
       "    <tr style=\"text-align: right;\">\n",
       "      <th></th>\n",
       "      <th>asins</th>\n",
       "      <th>name</th>\n",
       "      <th>brand</th>\n",
       "      <th>categories</th>\n",
       "      <th>reviews.doRecommend</th>\n",
       "      <th>reviews.numHelpful</th>\n",
       "      <th>reviews.rating</th>\n",
       "      <th>reviews.text</th>\n",
       "      <th>reviews.title</th>\n",
       "      <th>tokenized_sentences</th>\n",
       "      <th>sentence_count</th>\n",
       "      <th>tokenized_words</th>\n",
       "    </tr>\n",
       "  </thead>\n",
       "  <tbody>\n",
       "    <tr>\n",
       "      <th>0</th>\n",
       "      <td>B01AHB9CN2</td>\n",
       "      <td>All-New Fire HD 8 Tablet, 8 HD Display, Wi-Fi,...</td>\n",
       "      <td>Amazon</td>\n",
       "      <td>Electronics,iPad &amp; Tablets,All Tablets,Fire Ta...</td>\n",
       "      <td>True</td>\n",
       "      <td>0.0</td>\n",
       "      <td>5.0</td>\n",
       "      <td>This product so far has not disappointed. My c...</td>\n",
       "      <td>Kindle</td>\n",
       "      <td>[This product so far has not disappointed., My...</td>\n",
       "      <td>2</td>\n",
       "      <td>[This, product, so, far, has, not, disappointe...</td>\n",
       "    </tr>\n",
       "    <tr>\n",
       "      <th>1</th>\n",
       "      <td>B01AHB9CN2</td>\n",
       "      <td>All-New Fire HD 8 Tablet, 8 HD Display, Wi-Fi,...</td>\n",
       "      <td>Amazon</td>\n",
       "      <td>Electronics,iPad &amp; Tablets,All Tablets,Fire Ta...</td>\n",
       "      <td>True</td>\n",
       "      <td>0.0</td>\n",
       "      <td>5.0</td>\n",
       "      <td>great for beginner or experienced person. Boug...</td>\n",
       "      <td>very fast</td>\n",
       "      <td>[great for beginner or experienced person., Bo...</td>\n",
       "      <td>2</td>\n",
       "      <td>[great, for, beginner, or, experienced, person...</td>\n",
       "    </tr>\n",
       "    <tr>\n",
       "      <th>2</th>\n",
       "      <td>B01AHB9CN2</td>\n",
       "      <td>All-New Fire HD 8 Tablet, 8 HD Display, Wi-Fi,...</td>\n",
       "      <td>Amazon</td>\n",
       "      <td>Electronics,iPad &amp; Tablets,All Tablets,Fire Ta...</td>\n",
       "      <td>True</td>\n",
       "      <td>0.0</td>\n",
       "      <td>5.0</td>\n",
       "      <td>Inexpensive tablet for him to use and learn on...</td>\n",
       "      <td>Beginner tablet for our 9 year old son.</td>\n",
       "      <td>[Inexpensive tablet for him to use and learn o...</td>\n",
       "      <td>2</td>\n",
       "      <td>[Inexpensive, tablet, for, him, to, use, and, ...</td>\n",
       "    </tr>\n",
       "    <tr>\n",
       "      <th>3</th>\n",
       "      <td>B01AHB9CN2</td>\n",
       "      <td>All-New Fire HD 8 Tablet, 8 HD Display, Wi-Fi,...</td>\n",
       "      <td>Amazon</td>\n",
       "      <td>Electronics,iPad &amp; Tablets,All Tablets,Fire Ta...</td>\n",
       "      <td>True</td>\n",
       "      <td>0.0</td>\n",
       "      <td>4.0</td>\n",
       "      <td>I've had my Fire HD 8 two weeks now and I love...</td>\n",
       "      <td>Good!!!</td>\n",
       "      <td>[I've had my Fire HD 8 two weeks now and I lov...</td>\n",
       "      <td>4</td>\n",
       "      <td>[I, 've, had, my, Fire, HD, 8, two, weeks, now...</td>\n",
       "    </tr>\n",
       "    <tr>\n",
       "      <th>4</th>\n",
       "      <td>B01AHB9CN2</td>\n",
       "      <td>All-New Fire HD 8 Tablet, 8 HD Display, Wi-Fi,...</td>\n",
       "      <td>Amazon</td>\n",
       "      <td>Electronics,iPad &amp; Tablets,All Tablets,Fire Ta...</td>\n",
       "      <td>True</td>\n",
       "      <td>0.0</td>\n",
       "      <td>5.0</td>\n",
       "      <td>I bought this for my grand daughter when she c...</td>\n",
       "      <td>Fantastic Tablet for kids</td>\n",
       "      <td>[I bought this for my grand daughter when she ...</td>\n",
       "      <td>6</td>\n",
       "      <td>[I, bought, this, for, my, grand, daughter, wh...</td>\n",
       "    </tr>\n",
       "  </tbody>\n",
       "</table>\n",
       "</div>"
      ],
      "text/plain": [
       "        asins                                               name   brand  \\\n",
       "0  B01AHB9CN2  All-New Fire HD 8 Tablet, 8 HD Display, Wi-Fi,...  Amazon   \n",
       "1  B01AHB9CN2  All-New Fire HD 8 Tablet, 8 HD Display, Wi-Fi,...  Amazon   \n",
       "2  B01AHB9CN2  All-New Fire HD 8 Tablet, 8 HD Display, Wi-Fi,...  Amazon   \n",
       "3  B01AHB9CN2  All-New Fire HD 8 Tablet, 8 HD Display, Wi-Fi,...  Amazon   \n",
       "4  B01AHB9CN2  All-New Fire HD 8 Tablet, 8 HD Display, Wi-Fi,...  Amazon   \n",
       "\n",
       "                                          categories  reviews.doRecommend  \\\n",
       "0  Electronics,iPad & Tablets,All Tablets,Fire Ta...                 True   \n",
       "1  Electronics,iPad & Tablets,All Tablets,Fire Ta...                 True   \n",
       "2  Electronics,iPad & Tablets,All Tablets,Fire Ta...                 True   \n",
       "3  Electronics,iPad & Tablets,All Tablets,Fire Ta...                 True   \n",
       "4  Electronics,iPad & Tablets,All Tablets,Fire Ta...                 True   \n",
       "\n",
       "   reviews.numHelpful  reviews.rating  \\\n",
       "0                 0.0             5.0   \n",
       "1                 0.0             5.0   \n",
       "2                 0.0             5.0   \n",
       "3                 0.0             4.0   \n",
       "4                 0.0             5.0   \n",
       "\n",
       "                                        reviews.text  \\\n",
       "0  This product so far has not disappointed. My c...   \n",
       "1  great for beginner or experienced person. Boug...   \n",
       "2  Inexpensive tablet for him to use and learn on...   \n",
       "3  I've had my Fire HD 8 two weeks now and I love...   \n",
       "4  I bought this for my grand daughter when she c...   \n",
       "\n",
       "                             reviews.title  \\\n",
       "0                                   Kindle   \n",
       "1                                very fast   \n",
       "2  Beginner tablet for our 9 year old son.   \n",
       "3                                  Good!!!   \n",
       "4                Fantastic Tablet for kids   \n",
       "\n",
       "                                 tokenized_sentences  sentence_count  \\\n",
       "0  [This product so far has not disappointed., My...               2   \n",
       "1  [great for beginner or experienced person., Bo...               2   \n",
       "2  [Inexpensive tablet for him to use and learn o...               2   \n",
       "3  [I've had my Fire HD 8 two weeks now and I lov...               4   \n",
       "4  [I bought this for my grand daughter when she ...               6   \n",
       "\n",
       "                                     tokenized_words  \n",
       "0  [This, product, so, far, has, not, disappointe...  \n",
       "1  [great, for, beginner, or, experienced, person...  \n",
       "2  [Inexpensive, tablet, for, him, to, use, and, ...  \n",
       "3  [I, 've, had, my, Fire, HD, 8, two, weeks, now...  \n",
       "4  [I, bought, this, for, my, grand, daughter, wh...  "
      ]
     },
     "execution_count": 8,
     "metadata": {},
     "output_type": "execute_result"
    }
   ],
   "source": [
    "# Iterate through each row and apply word tokenizer\n",
    "for i in range(len(ql_df3)):\n",
    "    # Generate word tokens for each sentence\n",
    "    word_tokens_list = [wt(sentence) for sentence in ql_df3['tokenized_sentences'][i]]\n",
    "    \n",
    "    # Extract words\n",
    "    word_tokens = []\n",
    "    for lst in word_tokens_list:\n",
    "        for word in lst:\n",
    "            word_tokens.append(word)\n",
    "    \n",
    "    # Update row\n",
    "    ql_df3['tokenized_words'][i] = word_tokens\n",
    "    \n",
    "ql_df3.head()"
   ]
  },
  {
   "cell_type": "code",
   "execution_count": 9,
   "id": "5345cead-b749-4a7d-b13b-afa78e5a2ce2",
   "metadata": {},
   "outputs": [
    {
     "name": "stdout",
     "output_type": "stream",
     "text": [
      "There is an average of 34.22 words per unprocessed raw review text\n"
     ]
    }
   ],
   "source": [
    "# Generate column for word count\n",
    "ql_df3['word_count'] = ql_df3['tokenized_words'].apply(len)\n",
    "\n",
    "# Return average number of words in raw tokenized text\n",
    "print(f\"There is an average of {ql_df3['word_count'].mean():.2f} words per unprocessed raw review text\")"
   ]
  },
  {
   "cell_type": "code",
   "execution_count": 10,
   "id": "df5c1767-41d5-47bf-a5be-6c6d80986179",
   "metadata": {},
   "outputs": [
    {
     "name": "stdout",
     "output_type": "stream",
     "text": [
      "Based on the average word count of 34.22 words in an unprocessed raw review text for the products. The study by Datainfiniti found that each review have an average of 26 words and there is a trend between longer review and lower rating. Based on our findings, we can made the following assumptions:\n",
      "1. Products with higher review word count should have lower rating\n",
      "2. There is more poor review than good reviews in our dataset\n"
     ]
    }
   ],
   "source": [
    "## 2d\n",
    "print(f\"Based on the average word count of {ql_df3['word_count'].mean():.2f} words in an unprocessed raw review text for the products. \" \n",
    "      f\"The study by Datainfiniti found that each review have an average of 26 words and there is a trend between longer review and lower rating. \"\n",
    "      f\"Based on our findings, we can made the following assumptions:\\n\"\n",
    "      f\"1. Products with higher review word count should have lower rating\\n\"\n",
    "      f\"2. There is more poor review than good reviews in our dataset\")"
   ]
  },
  {
   "cell_type": "code",
   "execution_count": 29,
   "id": "ea1da90d-82ae-4b8c-91ad-575ad7f03b18",
   "metadata": {},
   "outputs": [
    {
     "data": {
      "text/plain": [
       "count    34128.000000\n",
       "mean        34.223658\n",
       "std         36.649343\n",
       "min          1.000000\n",
       "25%         15.000000\n",
       "50%         23.000000\n",
       "75%         40.000000\n",
       "max       1775.000000\n",
       "Name: word_count, dtype: float64"
      ]
     },
     "execution_count": 29,
     "metadata": {},
     "output_type": "execute_result"
    }
   ],
   "source": [
    "## 2e\n",
    "# Review statistical summary of word count\n",
    "ql_df3['word_count'].describe()"
   ]
  },
  {
   "cell_type": "code",
   "execution_count": 30,
   "id": "1bb262f8-b780-4896-9261-82a11aa6d99f",
   "metadata": {},
   "outputs": [
    {
     "name": "stdout",
     "output_type": "stream",
     "text": [
      "15.0 40.0 25.0\n"
     ]
    }
   ],
   "source": [
    "# Define our 1 and 3 quartile (25% & 75%)\n",
    "ql_low = np.quantile(ql_df3['word_count'], 0.25)   # Q1\n",
    "ql_high  = np.quantile(ql_df3['word_count'], 0.75) # Q3\n",
    "IQR = ql_high - ql_low\n",
    "\n",
    "print(ql_low, ql_high, IQR)"
   ]
  },
  {
   "cell_type": "code",
   "execution_count": 24,
   "id": "21eab7c2-7012-4393-adaf-b01ba29543f7",
   "metadata": {},
   "outputs": [
    {
     "name": "stdout",
     "output_type": "stream",
     "text": [
      "-22.5 77.5\n"
     ]
    }
   ],
   "source": [
    "# Caluate the 1.5 IQR value to identify outliers\n",
    "low_range = ql_low - 1.5 * IQR\n",
    "upp_range = ql_high + 1.5 * IQR\n",
    "\n",
    "print(low_range, upp_range)"
   ]
  },
  {
   "cell_type": "code",
   "execution_count": 12,
   "id": "8e1ead57-2f40-4271-b5a0-92a251bf4c44",
   "metadata": {},
   "outputs": [],
   "source": [
    "filtered_df = ql_df3.copy()"
   ]
  },
  {
   "cell_type": "code",
   "execution_count": 13,
   "id": "e36126a3-b154-4270-80c6-2ba4754f6859",
   "metadata": {},
   "outputs": [],
   "source": [
    "# Filter dataframe based on interquartle\n",
    "filtered_df = filtered_df[(filtered_df['word_count'] < ql_hi) & (filtered_df['word_count'] > ql_low)]"
   ]
  },
  {
   "cell_type": "code",
   "execution_count": 14,
   "id": "6c805457-558f-45fe-968c-877c80e5eeb7",
   "metadata": {},
   "outputs": [
    {
     "data": {
      "text/plain": [
       "[Text(0.5, 1.0, 'Histogram of no. words in unprocessed raw review text before outliers are removed)')]"
      ]
     },
     "execution_count": 14,
     "metadata": {},
     "output_type": "execute_result"
    },
    {
     "data": {
      "image/png": "[encoded data removed]",
      "text/plain": [
       "<Figure size 1200x600 with 1 Axes>"
      ]
     },
     "metadata": {},
     "output_type": "display_data"
    }
   ],
   "source": [
    "# Set chart size\n",
    "plt.subplots(figsize=(12, 6))\n",
    "\n",
    "# Generate histogram with bins = 100\n",
    "sns.histplot(data = ql_df3,\n",
    "            x = 'word_count',\n",
    "            color = 'purple',\n",
    "            bins = 100,\n",
    "            binwidth = 1,\n",
    "            kde = True).set(title = 'Histogram of no. words in unprocessed raw review text before outliers are removed)')"
   ]
  },
  {
   "cell_type": "code",
   "execution_count": 15,
   "id": "c61a74e6-0538-4ef3-8380-be4c87c6c53a",
   "metadata": {},
   "outputs": [
    {
     "data": {
      "text/plain": [
       "[Text(0.5, 1.0, 'Histogram of no. words in unprocessed raw review text after outliers are removed)')]"
      ]
     },
     "execution_count": 15,
     "metadata": {},
     "output_type": "execute_result"
    },
    {
     "data": {
      "image/png": "[encoded data removed]",
      "text/plain": [
       "<Figure size 1200x600 with 1 Axes>"
      ]
     },
     "metadata": {},
     "output_type": "display_data"
    }
   ],
   "source": [
    "# Set chart size\n",
    "plt.subplots(figsize=(12, 6))\n",
    "\n",
    "# Generate histogram with bins = 100\n",
    "sns.histplot(data = filtered_df,\n",
    "            x = 'word_count',\n",
    "            color = 'navy',\n",
    "            bins = 100,\n",
    "            binwidth = 1,\n",
    "            kde = True).set(title = 'Histogram of no. words in unprocessed raw review text after outliers are removed)')"
   ]
  },
  {
   "cell_type": "code",
   "execution_count": 16,
   "id": "8695f6c8-44fe-4f96-b653-de474f874a9d",
   "metadata": {},
   "outputs": [
    {
     "name": "stdout",
     "output_type": "stream",
     "text": [
      "Dataframe before removal of outliers has a mean of 34.22, median of 23.0, max value of 1775 and min value of 1\n",
      "After removal of outliers, it has a mean of 24.70, median of 23.0, max value of 39 and min value of 16\n"
     ]
    }
   ],
   "source": [
    "# Review the stats\n",
    "print(f\"Dataframe before removal of outliers has a mean of {ql_df3['word_count'].mean():.2f}, median of {ql_df3['word_count'].median()}, max value of {ql_df3['word_count'].max()} and min value of {ql_df3['word_count'].min()}\\n\"\n",
    "      f\"After removal of outliers, it has a mean of {filtered_df['word_count'].mean():.2f}, median of {filtered_df['word_count'].median()}, max value of {filtered_df['word_count'].max()} and min value of {filtered_df['word_count'].min()}\")\n",
    "\n",
    "# Skewness - right skewed\n",
    "# Mean - Average word count but might not be accurate due to the skewness, with >700 counts of reviews with 39 words\n",
    "# Median - The mean is a more accurate representation due to the skewness with 23, meaning 50% of the reviews have lesser than 23 words while the rest are distributed between 23 - 39."
   ]
  }
 ],
 "metadata": {
  "kernelspec": {
   "display_name": "Python 3",
   "language": "python",
   "name": "python3"
  },
  "language_info": {
   "codemirror_mode": {
    "name": "ipython",
    "version": 3
   },
   "file_extension": ".py",
   "mimetype": "text/x-python",
   "name": "python",
   "nbconvert_exporter": "python",
   "pygments_lexer": "ipython3",
   "version": "3.8.8"
  }
 },
 "nbformat": 4,
 "nbformat_minor": 5
}
