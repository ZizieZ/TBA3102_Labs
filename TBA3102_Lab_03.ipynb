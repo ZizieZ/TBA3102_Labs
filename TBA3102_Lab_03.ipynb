{
 "cells": [
  {
   "cell_type": "markdown",
   "id": "6f7805ff-4fe2-4039-9b20-e8b47c6168e3",
   "metadata": {},
   "source": [
    "# TBA 3102 - Text Analytics\n",
    "## Practical Lab 03 - Natural Language Processing Basics\n",
    "Student: Nicky Ng <br>\n",
    "GitHub User: [ahjimomo](https://github.com/ahjimomo) <br>\n",
    "Student Number: A0194330L"
   ]
  },
  {
   "cell_type": "markdown",
   "id": "df6d1b86-e8e4-450e-9ae1-a4f08c022c4e",
   "metadata": {},
   "source": [
    "## Question 1\n",
    "\n",
    "**Read the following articles:**<br>\n",
    "    1. https://becominghuman.ai/a-simple-introduction-to-natural-language-processing-ea66a1747b32<br>\n",
    "    2. https://www.engineeringenotes.com/artificial-intelligence-2/languages/why-is-natural-language-understanding-difficult-ai/34796<br>\n",
    "    3. https://clevertap.com/blog/natural-language-processing/"
   ]
  },
  {
   "cell_type": "markdown",
   "id": "7152add1-9d4a-4baf-b30c-068d1b2a9bdf",
   "metadata": {},
   "source": [
    "### 1a) State and briefly explain main reasons as to why NLP is so difficult**\n",
    "\n",
    "From the 3 articles, we can generally understand that human languages are challenging for machines as they are generally unstructured and there are no simple rule that can clear the ambiguity.\n",
    "\n",
    "The 3 key challenges can be broadly cateogrized into syntax, structure, and semantics. \n",
    "\n",
    "Syntax and structure usually goes hand-in-hand, they include the **Part-of-Speech (POS) includes the actual words/phrases tagging that denotes the pronouns, prepositions, interjections, conjunctions, determiners, etc.** complemented by **grammer which is the rule of positioning to construct meaningful sentences** in NLP. Each different type of human languages are then classified into their own typology aka word-order typology which is a classification based on syntax, structure, and functionality.\n",
    "\n",
    "For example, The English, French, and Mandarin language is in the order SVO (Subject-Verb-Object) typography category. \n",
    "\n",
    "Even with the correct syntax and structure, a sentence can still contain ambiguity depending on the context. <mark style=\"background-color: #FFFF00\">(ie. I went to the bank. Bank can either refer to river bank or financial institution)</mark>\n",
    "\n",
    "**Semantics refers to the meaning in the language, including relationship beween words, phrases and symbols (lexical units) which is usually represented by morphemes**, the smallest meaningful and syntacticcally correct unit of a language. However, it is challenging for machine to understand semantics due to the ambugity. \n",
    "\n",
    "For example, a single word can have different semantics, <mark style=\"background-color: #FFFF00\">ie. homonyms (same spelling or pronunciation but different meaning - bat), heteronyms (same spelling but different pronunciation and meanings), etc. </mark>\n",
    "\n",
    "Secondly, words in different position in a sentence can also have different wordsense (\"sense\" of the word). <mark style=\"background-color: #FFFF00\">(ie. They are going to the fair and I hope the judges will be fair.)</mark>\n",
    "\n",
    "Last but not least, semantics of a lexcical unit is usually first formed by the lemma (baseform) of the words which can has a broad range of wordforms in the lexeme <mark style=\"background-color: #FFFF00\"> (ie. lexeme {eating, ate, eats} = lamma: eat)</mark>\n"
   ]
  },
  {
   "cell_type": "markdown",
   "id": "66977a9c-0283-4553-8104-527f1dcfd7c0",
   "metadata": {},
   "source": [
    "### 1b) Some of the articles provided examples of english sentences that exemplify difficuly involved in NLP. Can we identify some of these examples and explain them."
   ]
  },
  {
   "cell_type": "markdown",
   "id": "754c129d-1856-4825-a7a9-5a79c32efd51",
   "metadata": {},
   "source": [
    "## Question 2\n",
    "\n",
    "ChatGPT1 (Chat Generative Pre-Trained Transformer) is a chatbot launched by [OpenAI](https://openai.com/) in November 2022. It is built on top of OpenAI's GPT-3 family of large language models and is fine-tuned with both supervised and reinforcement learning techniques.<br><br>\n",
    "[Chatbot](https://openai.com/blog/chatgpt/) is an important and increasingly popular application of NLP. Hands-on with ChatGPT and try asking the chatbot some questions about NLP. Are the answers factually correct and reliable?<br>"
   ]
  },
  {
   "cell_type": "markdown",
   "id": "b18831b1-0a1a-4566-b06c-45f5344380b1",
   "metadata": {},
   "source": [
    "### 2) What are your personal thoughts on the impact of AI (Artificial Intelligence) applications such as ChatGPT on education, in particular higher education context?\n",
    "\n",
    "Generally I believe AI would be impactful as a complimentary application for higher education as many of the support currently includes searching and digesting. \n",
    "\n",
    "Generative AI such as chatGPT enables users to identify root solutions faster with higher accuracy for the educational purposes. That said however, it could also result in students lack the understanding of the topic as solutions will be provided at ease with lesser effort. Thus, it should be a compliment instead of replacement."
   ]
  }
 ],
 "metadata": {
  "kernelspec": {
   "display_name": "Python 3",
   "language": "python",
   "name": "python3"
  },
  "language_info": {
   "codemirror_mode": {
    "name": "ipython",
    "version": 3
   },
   "file_extension": ".py",
   "mimetype": "text/x-python",
   "name": "python",
   "nbconvert_exporter": "python",
   "pygments_lexer": "ipython3",
   "version": "3.8.8"
  }
 },
 "nbformat": 4,
 "nbformat_minor": 5
}
