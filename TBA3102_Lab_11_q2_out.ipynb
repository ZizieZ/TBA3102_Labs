{
 "cells": [
  {
   "cell_type": "code",
   "execution_count": 1,
   "metadata": {},
   "outputs": [
    {
     "data": {
      "text/html": [
       "<style>pre { white-space: pre !important; }</style>"
      ],
      "text/plain": [
       "<IPython.core.display.HTML object>"
      ]
     },
     "metadata": {},
     "output_type": "display_data"
    },
    {
     "name": "stdout",
     "output_type": "stream",
     "text": [
      "Text processing started at 2023-04-01 20:27:16.602561\n"
     ]
    }
   ],
   "source": [
    "import numpy as np\n",
    "import pandas as pd\n",
    "\n",
    "from gensim.models.doc2vec import TaggedDocument, Doc2Vec\n",
    "\n",
    "from datetime import datetime\n",
    "\n",
    "from IPython.core.display import HTML\n",
    "import tba3102\n",
    "\n",
    "\n",
    "\n",
    "display(HTML(\"<style>pre { white-space: pre !important; }</style>\"))\n",
    "tba3102.set_default_pandas_options(max_colwidth=300)\n",
    "\n",
    "print('Text processing started at {}'.format(datetime.now()))"
   ]
  },
  {
   "cell_type": "code",
   "execution_count": 2,
   "metadata": {},
   "outputs": [
    {
     "data": {
      "text/html": [
       "<div>\n",
       "<style scoped>\n",
       "    .dataframe tbody tr th:only-of-type {\n",
       "        vertical-align: middle;\n",
       "    }\n",
       "\n",
       "    .dataframe tbody tr th {\n",
       "        vertical-align: top;\n",
       "    }\n",
       "\n",
       "    .dataframe thead th {\n",
       "        text-align: right;\n",
       "    }\n",
       "</style>\n",
       "<table border=\"1\" class=\"dataframe\">\n",
       "  <thead>\n",
       "    <tr style=\"text-align: right;\">\n",
       "      <th></th>\n",
       "      <th>ISBN</th>\n",
       "      <th>Title</th>\n",
       "      <th>Blurb</th>\n",
       "      <th>Cleaned_Blurb</th>\n",
       "    </tr>\n",
       "  </thead>\n",
       "  <tbody>\n",
       "    <tr>\n",
       "      <th>0</th>\n",
       "      <td>0425176428</td>\n",
       "      <td>What If?: The World's Foremost Military Historians Imagine What Might Have Been</td>\n",
       "      <td>Historians and inquisitive laymen alike love to ponder the dramatic what-its of history. In these twenty never-before-published essays, some of the keenest minds of our time ask the big, tantalizing questions:, Where might we be if history had not unfolded the way it did? , Why, how, and when wa...</td>\n",
       "      <td>historians inquisitive laymen alike love ponder dramatic whatits history twenty neverbeforepublished essays keenest minds time ask big tantalizing questions might history unfolded way fortune made real answers surprising sometimes frightening always entertaining</td>\n",
       "    </tr>\n",
       "    <tr>\n",
       "      <th>1</th>\n",
       "      <td>1841721522</td>\n",
       "      <td>New Vegetarian: Bold and Beautiful Recipes for Every Occasion</td>\n",
       "      <td>Filled with fresh and eclectic recipes by Celia Brooks Brown -- one of the talented team of chefs at Books for Cooks, the world-famous bookshop-restaurant in London's Notting Hill -- New Vegetarian presents an innovative approach to vegetarian cooking. No longer the exclusive domain of vegetaria...</td>\n",
       "      <td>filled fresh eclectic recipes celia brooks brown one talented team chefs books cooks worldfamous bookshoprestaurant londons notting hill new vegetarian presents innovative approach vegetarian cooking longer exclusive domain vegetarians meatfree food appreciated bright assertive flavors marvelous...</td>\n",
       "    </tr>\n",
       "    <tr>\n",
       "      <th>2</th>\n",
       "      <td>0971880107</td>\n",
       "      <td>Wild Animus</td>\n",
       "      <td>Newly graduated from college, Sam Altman is gripped by an inexplicable urge to lose himself in the wilderness and teams up with an enigmatic young woman who seems bent on helping him realize his dreams.</td>\n",
       "      <td>newly graduated college sam altman gripped inexplicable urge lose wilderness teams enigmatic young woman seems bent helping realize dreams</td>\n",
       "    </tr>\n",
       "    <tr>\n",
       "      <th>3</th>\n",
       "      <td>0345417623</td>\n",
       "      <td>Timeline</td>\n",
       "      <td>In an Arizona desert, a man wanders in a daze, speaking words that make no sense. Within twenty-four hours he is dead, his body swiftly cremated by his only known associates. Halfway around the world, archaeologists make a shocking discovery at a medieval site. Suddenly they are swept off to the...</td>\n",
       "      <td>arizona desert man wanders daze speaking words make sense within twentyfour hours dead body swiftly cremated known associates halfway around world archaeologists make shocking discovery medieval site suddenly swept headquarters secretive multinational corporation developed astounding technology ...</td>\n",
       "    </tr>\n",
       "    <tr>\n",
       "      <th>4</th>\n",
       "      <td>0375759778</td>\n",
       "      <td>Prague : A Novel</td>\n",
       "      <td>A novel of startling scope and ambition, , depicts an intentionally lost Lost Generation as it follows five American expats who come to Budapest in the early 1990s to seek their fortune. They harbor the vague suspicion that their counterparts in Prague have it better, but still they hope to find...</td>\n",
       "      <td>novel startling scope ambition depicts intentionally lost lost generation follows five american expats come budapest early 1990s seek fortune harbor vague suspicion counterparts prague better still hope find adventure inspiration gold rush history making</td>\n",
       "    </tr>\n",
       "    <tr>\n",
       "      <th>...</th>\n",
       "      <td>...</td>\n",
       "      <td>...</td>\n",
       "      <td>...</td>\n",
       "      <td>...</td>\n",
       "    </tr>\n",
       "    <tr>\n",
       "      <th>18154</th>\n",
       "      <td>0312749511</td>\n",
       "      <td>The Space Merchants</td>\n",
       "      <td>In a vastly overpopulated near-future world, businesses have taken the place of governments and now hold all political power. States exist merely to ensure the survival of huge transnational corporations. Advertising has become hugely aggressive and boasts some of the world’s most powerful execu...</td>\n",
       "      <td>vastly overpopulated nearfuture world businesses taken place governments hold political power states exist merely ensure survival huge transnational corporations advertising become hugely aggressive boasts worlds powerful executivesthrough advertising public constantly deluded thinking products ...</td>\n",
       "    </tr>\n",
       "    <tr>\n",
       "      <th>18155</th>\n",
       "      <td>0671318470</td>\n",
       "      <td>Agent of Vega &amp;amp; Other Stories</td>\n",
       "      <td>Four years after dropping out of Harlem society, David McKay, a handsome young lawyer from a prominent Strivers' Row family, returns home, devastated by the news of his sister Lilian's suicide. What caused his once stable, gentle sister to take her own life? Why did she marry Jameson Sweet, givi...</td>\n",
       "      <td>four years dropping harlem society david mckay handsome young lawyer prominent strivers row family returns home devastated news sister lilians suicide caused stable gentle sister take life marry jameson sweet giving man barely knew claim family home caused flamboyant twin gem return harlem paris...</td>\n",
       "    </tr>\n",
       "    <tr>\n",
       "      <th>18156</th>\n",
       "      <td>0451458877</td>\n",
       "      <td>Tainted Trail</td>\n",
       "      <td>Ukiah Oregon, half-man and half-alien raised by wolves, is hired to track a missing hiker. When her trail grows cold, Ukiah discovers the woman has actually been kidnapped. He then stumbles upon another mystery related to the unsolved disappearance in 1933 of a legendary wolf boy. The hiker's ab...</td>\n",
       "      <td>ukiah oregon halfman halfalien raised wolves hired track missing hiker trail grows cold ukiah discovers woman actually kidnapped stumbles upon another mystery related unsolved disappearance 1933 legendary wolf boy hikers abduction may hold key ukiahs past</td>\n",
       "    </tr>\n",
       "    <tr>\n",
       "      <th>18157</th>\n",
       "      <td>0399148736</td>\n",
       "      <td>Twelve Mile Limit</td>\n",
       "      <td>On a Friday in early November, four people head out from the west coast of Florida to dive a deep-water wreck fifty-six miles offshore. Two days later, one of them is found alive, standing atop a 160-foot light tower in the Gulf of Mexico, naked and waving her wetsuit. But the other three appear...</td>\n",
       "      <td>friday early november four people head west coast florida dive deepwater wreck fiftysix miles offshore two days later one found alive standing atop 160foot light tower gulf mexico naked waving wetsuit three appear swept edge earth one diver fords friend janet mueller rumors beginwhispers everyth...</td>\n",
       "    </tr>\n",
       "    <tr>\n",
       "      <th>18158</th>\n",
       "      <td>0399148841</td>\n",
       "      <td>The Man With the Red Tattoo (James Bond 007)</td>\n",
       "      <td>On a quiet late-night flight from Tokyo to London, a beautiful young woman, Kioko McMahon, falls ill. Before the plane can reach emergency medical facilities across the Pacific, she succumbs to her inexplicable symptoms. The mystery deepens when police in Japan discover that her family shared he...</td>\n",
       "      <td>quiet latenight flight tokyo london beautiful young woman kioko mcmahon falls ill plane reach emergency medical facilities across pacific succumbs inexplicable symptoms mystery deepens police japan discover family shared fate survivor rebellious sister mayumi run gangmember boyfriend several yea...</td>\n",
       "    </tr>\n",
       "  </tbody>\n",
       "</table>\n",
       "<p>18159 rows × 4 columns</p>\n",
       "</div>"
      ],
      "text/plain": [
       "             ISBN                                                                            Title                                                                                                                                                                                                                                                                                                        Blurb                                                                                                                                                                                                                                                                                                Cleaned_Blurb\n",
       "0      0425176428  What If?: The World's Foremost Military Historians Imagine What Might Have Been  Historians and inquisitive laymen alike love to ponder the dramatic what-its of history. In these twenty never-before-published essays, some of the keenest minds of our time ask the big, tantalizing questions:, Where might we be if history had not unfolded the way it did? , Why, how, and when wa...                                       historians inquisitive laymen alike love ponder dramatic whatits history twenty neverbeforepublished essays keenest minds time ask big tantalizing questions might history unfolded way fortune made real answers surprising sometimes frightening always entertaining\n",
       "1      1841721522                    New Vegetarian: Bold and Beautiful Recipes for Every Occasion  Filled with fresh and eclectic recipes by Celia Brooks Brown -- one of the talented team of chefs at Books for Cooks, the world-famous bookshop-restaurant in London's Notting Hill -- New Vegetarian presents an innovative approach to vegetarian cooking. No longer the exclusive domain of vegetaria...  filled fresh eclectic recipes celia brooks brown one talented team chefs books cooks worldfamous bookshoprestaurant londons notting hill new vegetarian presents innovative approach vegetarian cooking longer exclusive domain vegetarians meatfree food appreciated bright assertive flavors marvelous...\n",
       "2      0971880107                                                                      Wild Animus                                                                                                   Newly graduated from college, Sam Altman is gripped by an inexplicable urge to lose himself in the wilderness and teams up with an enigmatic young woman who seems bent on helping him realize his dreams.                                                                                                                                                                   newly graduated college sam altman gripped inexplicable urge lose wilderness teams enigmatic young woman seems bent helping realize dreams\n",
       "3      0345417623                                                                         Timeline  In an Arizona desert, a man wanders in a daze, speaking words that make no sense. Within twenty-four hours he is dead, his body swiftly cremated by his only known associates. Halfway around the world, archaeologists make a shocking discovery at a medieval site. Suddenly they are swept off to the...  arizona desert man wanders daze speaking words make sense within twentyfour hours dead body swiftly cremated known associates halfway around world archaeologists make shocking discovery medieval site suddenly swept headquarters secretive multinational corporation developed astounding technology ...\n",
       "4      0375759778                                                                 Prague : A Novel  A novel of startling scope and ambition, , depicts an intentionally lost Lost Generation as it follows five American expats who come to Budapest in the early 1990s to seek their fortune. They harbor the vague suspicion that their counterparts in Prague have it better, but still they hope to find...                                               novel startling scope ambition depicts intentionally lost lost generation follows five american expats come budapest early 1990s seek fortune harbor vague suspicion counterparts prague better still hope find adventure inspiration gold rush history making\n",
       "...           ...                                                                              ...                                                                                                                                                                                                                                                                                                          ...                                                                                                                                                                                                                                                                                                          ...\n",
       "18154  0312749511                                                              The Space Merchants  In a vastly overpopulated near-future world, businesses have taken the place of governments and now hold all political power. States exist merely to ensure the survival of huge transnational corporations. Advertising has become hugely aggressive and boasts some of the world’s most powerful execu...  vastly overpopulated nearfuture world businesses taken place governments hold political power states exist merely ensure survival huge transnational corporations advertising become hugely aggressive boasts worlds powerful executivesthrough advertising public constantly deluded thinking products ...\n",
       "18155  0671318470                                                Agent of Vega &amp; Other Stories  Four years after dropping out of Harlem society, David McKay, a handsome young lawyer from a prominent Strivers' Row family, returns home, devastated by the news of his sister Lilian's suicide. What caused his once stable, gentle sister to take her own life? Why did she marry Jameson Sweet, givi...  four years dropping harlem society david mckay handsome young lawyer prominent strivers row family returns home devastated news sister lilians suicide caused stable gentle sister take life marry jameson sweet giving man barely knew claim family home caused flamboyant twin gem return harlem paris...\n",
       "18156  0451458877                                                                    Tainted Trail  Ukiah Oregon, half-man and half-alien raised by wolves, is hired to track a missing hiker. When her trail grows cold, Ukiah discovers the woman has actually been kidnapped. He then stumbles upon another mystery related to the unsolved disappearance in 1933 of a legendary wolf boy. The hiker's ab...                                              ukiah oregon halfman halfalien raised wolves hired track missing hiker trail grows cold ukiah discovers woman actually kidnapped stumbles upon another mystery related unsolved disappearance 1933 legendary wolf boy hikers abduction may hold key ukiahs past\n",
       "18157  0399148736                                                                Twelve Mile Limit  On a Friday in early November, four people head out from the west coast of Florida to dive a deep-water wreck fifty-six miles offshore. Two days later, one of them is found alive, standing atop a 160-foot light tower in the Gulf of Mexico, naked and waving her wetsuit. But the other three appear...  friday early november four people head west coast florida dive deepwater wreck fiftysix miles offshore two days later one found alive standing atop 160foot light tower gulf mexico naked waving wetsuit three appear swept edge earth one diver fords friend janet mueller rumors beginwhispers everyth...\n",
       "18158  0399148841                                     The Man With the Red Tattoo (James Bond 007)  On a quiet late-night flight from Tokyo to London, a beautiful young woman, Kioko McMahon, falls ill. Before the plane can reach emergency medical facilities across the Pacific, she succumbs to her inexplicable symptoms. The mystery deepens when police in Japan discover that her family shared he...  quiet latenight flight tokyo london beautiful young woman kioko mcmahon falls ill plane reach emergency medical facilities across pacific succumbs inexplicable symptoms mystery deepens police japan discover family shared fate survivor rebellious sister mayumi run gangmember boyfriend several yea...\n",
       "\n",
       "[18159 rows x 4 columns]"
      ]
     },
     "execution_count": 2,
     "metadata": {},
     "output_type": "execute_result"
    }
   ],
   "source": [
    "df = pd.read_csv('../data/57000-books-with-cleaned-blurbs.csv', index_col=0)\n",
    "books_list = df['Title'].array\n",
    "df"
   ]
  },
  {
   "cell_type": "code",
   "execution_count": 3,
   "metadata": {},
   "outputs": [
    {
     "name": "stdout",
     "output_type": "stream",
     "text": [
      "Number of documents/books in corpus:  18159\n"
     ]
    }
   ],
   "source": [
    "norm_corpus = df['Cleaned_Blurb'].array\n",
    "print('Number of documents/books in corpus: ', len(norm_corpus))"
   ]
  },
  {
   "cell_type": "code",
   "execution_count": 4,
   "metadata": {},
   "outputs": [
    {
     "data": {
      "text/plain": [
       "<gensim.models.doc2vec.Doc2Vec at 0x2313698b2b0>"
      ]
     },
     "execution_count": 4,
     "metadata": {},
     "output_type": "execute_result"
    }
   ],
   "source": [
    "# train our doc2vec model\n",
    "documents = [TaggedDocument(doc, [i]) for i, doc in enumerate(norm_corpus)]\n",
    "\n",
    "model = Doc2Vec(vector_size=100, window=10, min_count=5, workers=11, alpha=0.025, epochs=100)\n",
    "model.build_vocab(documents)\n",
    "model.train(documents, total_examples=model.corpus_count, epochs=model.epochs)\n",
    "model.save('../data/model_docsimilarity.doc2vec')\n",
    "model"
   ]
  },
  {
   "cell_type": "code",
   "execution_count": 5,
   "metadata": {},
   "outputs": [
    {
     "name": "stdout",
     "output_type": "stream",
     "text": [
      "Book ID: 13147\n",
      "Book: Armageddon (Left Behind #11)\n",
      "Blurb: The scattered Tribulation Force is drawn inexorably toward the Middle East, as are all the armies of the world, when human history culminates in the battle of the ages. During the last year of the Great Tribulation, safe houses are no longer safe, and the cast of characters dramatically changes. By the time of the war of the great day of God the Almighty, the globe has become a powder keg of danger. Except those already in Petra, everyone has been forced to relocate as Antichrist ratchets up the pressure in the world's most treacherous game. Who will be left standing when the battle leaves the Tribulation Force on the brink of the end of time and the Glorious Appearing?\n",
      "Cleaned Blurb: TaggedDocument(scattered tribulation force drawn inexorably toward middle east armies world human history culminates battle ages last year great tribulation safe houses longer safe cast characters dramatically changes time war great day god almighty globe become powder keg danger except already petra everyone forced relocate antichrist ratchets pressure worlds treacherous game left standing battle leaves tribulation force brink end time glorious appearing, [13147])\n",
      "--------------------------------------------------------------------------------\n",
      "Top 5 recommended Books:\n",
      "2582 0.32467731833457947 The Salaryman's Wife (Children of Violence Series)\n",
      "16731 0.32348504662513733 Angelica's Grotto\n",
      "14186 0.31911617517471313 Virgin: Prelude to the Throne\n",
      "6510 0.3095942437648773 Harry Potter and the Prisoner of Azkaban (Book 3, Audio)\n",
      "14808 0.30732792615890503 A Little Bit Pregnant : Readers' Ring (Silhouette Special Edition)\n",
      "================================================================================\n",
      "Book ID: 16698\n",
      "Book: Dinosaurs (Collins Wild Guide S.)\n",
      "Blurb: With 120 species described in detail, each illustrated with a full-colour, computer-generated image which brings it to life, this is a \"photographic\" identification guide to this fascinating group of creatures. As well as descriptive text for each species and its related family, there is an ID fact file which lists all the important information at a glance. A time line indicates the era in which the dinosaur lived and a scale guide also accompanies each one. Additional features such as eggs and habitat may also be illustrated.\n",
      "Cleaned Blurb: TaggedDocument(120 species described detail illustrated fullcolour computergenerated image brings life photographic identification guide fascinating group creatures well descriptive text species related family id fact file lists important information glance time line indicates era dinosaur lived scale guide also accompanies one additional features eggs habitat may also illustrated, [16698])\n",
      "--------------------------------------------------------------------------------\n",
      "Top 5 recommended Books:\n",
      "3144 0.3639029860496521 Lawless\n",
      "15771 0.34931331872940063 Gone Bamboo\n",
      "13622 0.34915900230407715 Wings of the Hawk (Hawk)\n",
      "1457 0.3477320373058319 Girls Night\n",
      "11372 0.34652450680732727 Child On The Way (Wilders Of Wyatt County) (Silhouette 1349)\n",
      "================================================================================\n",
      "Book ID: 353\n",
      "Book: True Notebooks (Alex Awards (Awards))\n",
      "Blurb: When Mark Salzman is invited to visit a writing class at Central Juvenile Hall, a lockup for Los Angelesâ€™s most violent teenage offenders, he scrambles for a polite reason to decline. He goesâ€”expecting the worstâ€”and is so astonished by what he finds that he becomes a teacher there himself. , is an account of Salzmanâ€™s first years teaching at Central. Through it, we come to know his students as he did: in their own words. ,At times impossible and at times irresistible, they write with devastating clarity about their pasts, their fears, their confusions, their regrets, and their hopes. They write about what led them to crime and to gangs, about love for their mothers and anger toward their (mostly absent) fathers, about guilt for the pain they have caused, and about what it is like to be facing life in prison at the age of seventeen. Most of all, they write about trying to find some reason to believe in themselvesâ€”and othersâ€”in spite of all that has gone wrong. ,Surprising, charming, upsetting, enlightening, and ultimately hopefulâ€”driven by the insight and humor of Salzmanâ€™s voice and by the intelligence, candor, and strength of his students, whose writing appears throughout the bookâ€”, is itself a reward of the self-expression Mark Salzman teaches: a revelatory meditation on the process, power, and meaning of writing.\n",
      "Cleaned Blurb: TaggedDocument(mark salzman invited visit writing class central juvenile hall lockup los angelesatms violent teenage offenders scrambles polite reason decline goesaexpecting worstaand astonished finds becomes teacher account salzmanatms first years teaching central come know students words times impossible times irresistible write devastating clarity pasts fears confusions regrets hopes write led crime gangs love mothers anger toward mostly absent fathers guilt pain caused like facing life prison age seventeen write trying find reason believe themselvesaand othersain spite gone wrong surprising charming upsetting enlightening ultimately hopefuladriven insight humor salzmanatms voice intelligence candor strength students whose writing appears throughout booka reward selfexpression mark salzman teaches revelatory meditation process power meaning writing, [353])\n",
      "--------------------------------------------------------------------------------\n",
      "Top 5 recommended Books:\n",
      "4194 0.34896209836006165 The Bullfighter Checks Her Makeup: My Encounters With Extraordinary People\n",
      "8413 0.31570932269096375 French Lessons: Adventures with Knife, Fork, and Corkscrew\n",
      "1990 0.3133150041103363 Thunderhead\n",
      "17535 0.30887266993522644 Seeing in the Dark : How Amateur Astronomers Are Discovering the Wonders of the Universe\n",
      "6359 0.3058775067329407 Thirteen Senses : A Memoir\n",
      "================================================================================\n",
      "Book ID: 7968\n",
      "Book: Recapture the Wonder\n",
      "Blurb: Break free from the weariness and cynicism of life to enjoy God's amazing promise of childlike joy! It's time to reclaim that awesome sense of wonder--to experience God's amazing promise of childlike joy.\n",
      "Cleaned Blurb: TaggedDocument(break free weariness cynicism life enjoy gods amazing promise childlike joy time reclaim awesome sense wonderto experience gods amazing promise childlike joy, [7968])\n",
      "--------------------------------------------------------------------------------\n",
      "Top 5 recommended Books:\n",
      "12713 0.3059040307998657 Silver Wolf, Black Falcon (Mithgar)\n",
      "14664 0.30383482575416565 Mit Hunden sprechen.\n",
      "13000 0.2998468279838562 The Flamboya Tree: Memories of a Mother's Wartime Courage\n",
      "16725 0.29261159896850586 Journey Across Tibet: A Young Woman's Trek Across the Rooftop of the World\n",
      "16766 0.28426694869995117 Where The Road Ends\n",
      "================================================================================\n",
      "Book ID: 12304\n",
      "Book: Prayer at Rumayla\n",
      "Blurb: IPrayer at Rumayla/I is a blistering account of the Gulf War that will be very difficult to put down and impossible to forget.\n",
      "Cleaned Blurb: TaggedDocument(iprayer rumaylai blistering account gulf war difficult put impossible forget, [12304])\n",
      "--------------------------------------------------------------------------------\n",
      "Top 5 recommended Books:\n",
      "16011 0.32018160820007324 The Holocaust in American Life\n",
      "9756 0.30817553400993347 Simple Gifts : Four Heartwarming Christmas Stories\n",
      "2238 0.3018679618835449 The Devil's Code\n",
      "11376 0.2963642477989197 Midnight Gamble\n",
      "6039 0.2956492602825165 Chasing Darkness\n",
      "================================================================================\n",
      "Book ID: 49\n",
      "Book: Das BÃ?Â¶se kommt auf leisen Sohlen.\n",
      "Blurb: Eines Nachts kommt heimlich und verstohlen ein Jahrmarkt in eine kleine Stadt in Illinois, die identisch ist mit Green Town in Bradburys autobiografischem Episodenroman Löwenzahnwein, und schlägt seine Zelte auf. William \"Bill\" Halloway und James \"Jim\" Nightshade, zwei Jungs aus der Stadt, spüren als erste, dass mit dem Jahrmarkt etwas nicht geheuer ist: Traumfiguren wandeln unerkannt unter den Bewohnern der Stadt, und nur die Jugendlichen können sie erkennen, während die Erwachsenen dem Phänomen kaum Beachtung schenken. Die heimlichen bösen Wünsche der Stadtbewohner gehen in Erfüllung, ein Karussell verwandelt Kinder in Greise und Greise in Kinder und der Jahrmarkt selbst stiehlt die Seelen der Menschen. Jim und Bill nehmen den Kampf gegen die Zirkusdirektoren G. M. Dark und J. C. Cooger auf. Hilfe finden sie in der Bibliothek, wo Charles Halloway arbeitet, Williams Vater.\n",
      "Cleaned Blurb: TaggedDocument(eines nachts kommt heimlich und verstohlen ein jahrmarkt eine kleine stadt illinois die identisch ist mit green town bradburys autobiografischem episodenroman lowenzahnwein und schlagt seine zelte auf william bill halloway und james jim nightshade zwei jungs aus der stadt spuren als erste dass mit dem jahrmarkt etwas nicht geheuer ist traumfiguren wandeln unerkannt unter den bewohnern der stadt und nur die jugendlichen konnen sie erkennen wahrend die erwachsenen dem phanomen kaum beachtung schenken die heimlichen bosen wunsche der stadtbewohner gehen erfullung ein karussell verwandelt kinder greise und greise kinder und der jahrmarkt selbst stiehlt die seelen der menschen jim und bill nehmen den kampf gegen die zirkusdirektoren g dark und j c cooger auf hilfe finden sie der bibliothek wo charles halloway arbeitet williams vater, [49])\n",
      "--------------------------------------------------------------------------------\n",
      "Top 5 recommended Books:\n",
      "15902 0.629436731338501 Blackout\n",
      "12310 0.5971757769584656 Marie Antoinette: The Journey\n",
      "15472 0.5783471465110779 The Triumph of the Moon: A History of Modern Pagan Witchcraft\n",
      "11083 0.5768105983734131 The Man Who Broke Napoleon's Codes\n",
      "12337 0.5677732229232788 Hawaiian Magic &amp; Spirituality\n",
      "================================================================================\n",
      "Book ID: 12779\n",
      "Book: Midnight Magic\n",
      "Blurb: On a stormy night in the Kingdom of Pergamontio, Mangus the Magician is summoned to the king's castle. Because Mangus has been under house arrest for confessing to be a magician, he and his loyal servant boy, Fabrizio, cannot imagine why the king is calling for him. But magic is exactly what the king needs. Night after night, a terrifying ghost has been haunting the princess, and the king demands that Mangus free his daughter from its torment... of pay with his life. Since Mangus doesn't believe in ghosts, his only hope is Fabrizio, who must solve the mystery using logic and reason-and a bit of magic of his own.\n",
      "Cleaned Blurb: TaggedDocument(stormy night kingdom pergamontio mangus magician summoned kings castle mangus house arrest confessing magician loyal servant boy fabrizio imagine king calling magic exactly king needs night night terrifying ghost haunting princess king demands mangus free daughter torment pay life since mangus doesnt believe ghosts hope fabrizio must solve mystery using logic reasonand bit magic, [12779])\n",
      "--------------------------------------------------------------------------------\n",
      "Top 5 recommended Books:\n",
      "9532 0.312177449464798 Censored 2001: 25 Years of Censored News and the Top Censored Stories of the Year (Censored, 2001)\n",
      "1201 0.3093438148498535 The Coming\n",
      "7958 0.3002389967441559 A Violent Grace\n",
      "11122 0.286818265914917 Off The Record:  Songwriters on Songwriting\n",
      "13573 0.2865350544452667 The Treekeepers\n",
      "================================================================================\n",
      "Book ID: 1132\n",
      "Book: The Dragon Lord's Daughters\n",
      "Blurb: Meet the daughters of King Arthur's descendant, Merin Pendragon. They have an appetite for adventure and a gift for driving men wild with desire. Marrying them off may seem an easy task, but it's only going to prove that when it comes to these girls, trouble follows in threes. Join , bestselling author Bertrice Small for a delicious new tale of proud, passionate sisters who live and love according to their own rules. . .,She may be the Lord's eldest--and illegitimate--daughter, but Averil knows her dazzling beauty can buy her what she wants most: marriage to a great and powerful lord. But fate has other plans in the rugged form of Rhys FitzHugh. Thinking her the sole heiress, the penniless bailiff kidnaps the beauty. Now, to salvage his honor, he must marry the openly hostile Averil and accept his greatest challenge--winning her love, her loyalty, and her trust. . .,As the legitimate heiress with a hefty dowery, Maia can have any man she chooses, namely Emrys Llyn, a descendant of Lancelot and the Lady of the Lake. But strange, dangerous rumors surround the handsome Emrys. . .his name means \"immortal,\" and two of his wives have died suddenly under mysterious circumstances. Can her unwavering love prove his innocence. . .or will Maia suffer the same fate as Emrys's previous wives?,As charming as she is irrepressible, Junia is the Lord's youngest daughter. Her father has long since given up trying to control her whims. Junia is content to roam the countryside where she can be alone with the golden-haired Richard de Bohun who she meets and loves in secret. But he is the son of her father's sworn enemy, and loving him may cost more than she could ever imagine. . ., is the author of over thirty-two novels of historical romance. She is a , bestselling author, and the recipient of numerous awards. In keeping with her profession, Bertrice Small lives in the oldest English-speaking town in the state of New York, which was founded in 1640. And because she believes in happy endings, she's been married to the same man, her hero, George, for forty years.\n",
      "Cleaned Blurb: TaggedDocument(meet daughters king arthurs descendant merin pendragon appetite adventure gift driving men wild desire marrying may seem easy task going prove comes girls trouble follows threes join bestselling author bertrice small delicious new tale proud passionate sisters live love according rules may lords eldestand illegitimatedaughter averil knows dazzling beauty buy wants marriage great powerful lord fate plans rugged form rhys fitzhugh thinking sole heiress penniless bailiff kidnaps beauty salvage honor must marry openly hostile averil accept greatest challengewinning love loyalty trust legitimate heiress hefty dowery maia man chooses namely emrys llyn descendant lancelot lady lake strange dangerous rumors surround handsome emrys name means immortal two wives died suddenly mysterious circumstances unwavering love prove innocence maia suffer fate emryss previous wivesas charming irrepressible junia lords youngest daughter father long since given trying control whims junia content roam countryside alone goldenhaired richard de bohun meets loves secret son fathers sworn enemy loving may cost could ever imagine author thirtytwo novels historical romance bestselling author recipient numerous awards keeping profession bertrice small lives oldest englishspeaking town state new york founded 1640 believes happy endings shes married man hero george forty years, [1132])\n",
      "--------------------------------------------------------------------------------\n",
      "Top 5 recommended Books:\n",
      "139 0.3200152516365051 Nickel and Dimed: On (Not) Getting By in America\n",
      "13900 0.30879834294319153 Soul Searching: A Girl's Guide to Finding Herself\n",
      "15097 0.28036177158355713 Mastering Oracle SQL\n",
      "6495 0.2678369879722595 High Exposure: An Enduring Passion for Everest and Unforgiving Places\n",
      "12760 0.2557063102722168 The Birchbark House\n",
      "================================================================================\n",
      "Book ID: 17491\n",
      "Book: Paradise of Cities : Venice In the 19th Century\n",
      "Blurb:  ,John Julius Norwich, the author of the acclaimed ,, traces the transformation of Venice from a proud independent state into a dazzling dreamscape that attracted artists, writers, and composers from around the world. In a strikingly effective departure from straight narrative history, he tells the story of Venice through the experiences and reactions of such famous nineteenth-century visitors as Napoleon Bonaparte, Lord Byron, John Ruskin, Henry James, Richard Wagner, James Whistler, and Robert Browning.,Written with brio and humor, the profiles capture the incomparable charms of Venice—and the quirks of these historic figures as they discover (or fail to discover) them. Napoleon, having achieved the conquest that had thwarted other forces for a thousand years, was totally indifferent to the glories of his prize. The almost comically lascivious Byron seduced nearly every woman in Venice until he had the misfortune of falling in love with one of them, and the prim Ruskin obsessively sketched every architectural detail for his seminal book, ,, even as his comely wife grew weary of his celibacy. Wagner worked on , in Venice, and Whistler painted his greatest masterpieces there. ,Like Peter Ackroyd’s much-praised , is at once a fascinating history, a matchless travel guide, and a wonderful gift book. Filled with vintage photographs and full-color reproductions of period paintings, it conveys both the misfortune of Venice’s decline and the magnificence of its eternal beauty. It is as magical, as colorful, and as irresistible as its subject.\n",
      "Cleaned Blurb: TaggedDocument(john julius norwich author acclaimed traces transformation venice proud independent state dazzling dreamscape attracted artists writers composers around world strikingly effective departure straight narrative history tells story venice experiences reactions famous nineteenthcentury visitors napoleon bonaparte lord byron john ruskin henry james richard wagner james whistler robert browningwritten brio humor profiles capture incomparable charms veniceand quirks historic figures discover fail discover napoleon achieved conquest thwarted forces thousand years totally indifferent glories prize almost comically lascivious byron seduced nearly every woman venice misfortune falling love one prim ruskin obsessively sketched every architectural detail seminal book even comely wife grew weary celibacy wagner worked venice whistler painted greatest masterpieces like peter ackroyds muchpraised fascinating history matchless travel guide wonderful gift book filled vintage photographs fullcolor reproductions period paintings conveys misfortune venices decline magnificence eternal beauty magical colorful irresistible subject, [17491])\n",
      "--------------------------------------------------------------------------------\n",
      "Top 5 recommended Books:\n",
      "13513 0.2676785886287689 Into the Wilderness: The Long Hunters (Bittner, Rosanne, Westward America!,)\n",
      "9089 0.2661014795303345 Who's Looking Out for You?\n",
      "10409 0.2599217891693115 Beans Baker, Number 5 (Step-Into-Reading, Step 3)\n",
      "17503 0.2577987313270569 Complete AR-15/M16 Sourcebook: What Every Shooter Needs to Know\n",
      "8113 0.25423720479011536 Auntie Mame: An Irreverent Escapade\n",
      "================================================================================\n",
      "Book ID: 12807\n",
      "Book: The Witches' Almanac, Spring 2002 to Spring 2003 (Witches Almanac, 2002 2003)\n",
      "Blurb: Moonlight and mystery, substance and shadow are constant themes of the classic \"Witches' Almanac,\" A key to lunar harmony is found in the Moon Calendar displaying at a glance moon phases for each sun sign of the zodiac. The gifted astrologer Dikki-Jo Mullen presents predictions for the year ahead. Weather forecasts, herbal secrets, sound advice about the care of animals, and mystic lore and legend form part of every edition.Spring 2002 to Spring 2003 promises to be an exciting year. Our Timeless Traveller visits Brittany's Broceliade Forest and the Fountain of Barenton, where Merlin and Vivianne met and loved. The Vilia of Eastern Europe, a witch and woodland spirit, is revealed in myth. Deities of the ancient Irish, the wisdom of temperance, amuletic treasures, and the joys of anticipation are among the subjects explored. Companion animals and the wild ones are always included. Graphic images grace every page.\n",
      "Cleaned Blurb: TaggedDocument(moonlight mystery substance shadow constant themes classic witches almanac key lunar harmony found moon calendar displaying glance moon phases sun sign zodiac gifted astrologer dikkijo mullen presents predictions year ahead weather forecasts herbal secrets sound advice care animals mystic lore legend form part every editionspring 2002 spring 2003 promises exciting year timeless traveller visits brittanys broceliade forest fountain barenton merlin vivianne met loved vilia eastern europe witch woodland spirit revealed myth deities ancient irish wisdom temperance amuletic treasures joys anticipation among subjects explored companion animals wild ones always included graphic images grace every page, [12807])\n",
      "--------------------------------------------------------------------------------\n",
      "Top 5 recommended Books:\n",
      "7162 0.3471628725528717 Five-Finger Discount: A Crooked Family History\n",
      "16531 0.3452214300632477 Dublin im Herzen.\n",
      "18055 0.34444567561149597 Highlander Heroes: The Adventurer (Highland Heroes (Paperback))\n",
      "8691 0.3371032178401947 Love and a Bad Hair Day\n",
      "6721 0.32948294281959534 Corpsing\n",
      "================================================================================\n"
     ]
    }
   ],
   "source": [
    "# test our model with 10 random documents/books\n",
    "random_books = df.sample(n=10, replace=False, random_state=np.random.randint(2**31-1))\n",
    "random_books_titles = random_books.Title.tolist()\n",
    "\n",
    "for random_book_title in random_books_titles:\n",
    "    \n",
    "    book_index = np.where(books_list == random_book_title)[0][0]\n",
    "    print('Book ID:', book_index)\n",
    "    print('Book:', df.loc[book_index, 'Title'])\n",
    "    print('Blurb:', df.loc[book_index, 'Blurb'])\n",
    "    print('Cleaned Blurb:', documents[book_index])\n",
    "    print('-' * 80)\n",
    "    \n",
    "    doc_words = documents[book_index].words.split()\n",
    "    doc_vec = model.infer_vector(doc_words, epochs=10000)\n",
    "    results = model.dv.most_similar(positive=[doc_vec], topn=5)\n",
    "\n",
    "    print('Top 5 recommended Books:')\n",
    "\n",
    "    for result in results:\n",
    "\n",
    "        print(result[0], result[1], df.loc[result[0], 'Title'])\n",
    "        \n",
    "    print('=' * 80)"
   ]
  },
  {
   "cell_type": "code",
   "execution_count": 6,
   "metadata": {},
   "outputs": [
    {
     "name": "stdout",
     "output_type": "stream",
     "text": [
      "Text processing ended at 2023-04-01 20:31:10.204054\n"
     ]
    }
   ],
   "source": [
    "print('Text processing ended at {}'.format(datetime.now()))"
   ]
  }
 ],
 "metadata": {
  "kernelspec": {
   "display_name": "Python 3",
   "language": "python",
   "name": "python3"
  },
  "language_info": {
   "codemirror_mode": {
    "name": "ipython",
    "version": 3
   },
   "file_extension": ".py",
   "mimetype": "text/x-python",
   "name": "python",
   "nbconvert_exporter": "python",
   "pygments_lexer": "ipython3",
   "version": "3.9.4"
  }
 },
 "nbformat": 4,
 "nbformat_minor": 4
}
