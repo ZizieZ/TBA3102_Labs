{
 "cells": [
  {
   "cell_type": "code",
   "execution_count": null,
   "metadata": {},
   "outputs": [],
   "source": [
    "import numpy as np\n",
    "import pandas as pd\n",
    "\n",
    "import gensim\n",
    "\n",
    "import matplotlib.pyplot as plt\n",
    "\n",
    "from datetime import datetime\n",
    "\n",
    "from IPython.core.display import HTML\n",
    "import tba3102\n",
    "\n",
    "\n",
    "\n",
    "display(HTML(\"<style>pre { white-space: pre !important; }</style>\"))\n",
    "tba3102.set_default_pandas_options(max_columns=16, width=1500, max_colwidth=300)\n",
    "\n",
    "print('Text processing started at {}'.format(datetime.now()))"
   ]
  },
  {
   "cell_type": "code",
   "execution_count": null,
   "metadata": {},
   "outputs": [],
   "source": [
    "df = pd.read_csv('../data/voted-kaggle-dataset-cleaned.csv', index_col=0)\n",
    "documents = [tba3102.tokenize_sentence_to_words(cleaned_description) for cleaned_description in df['Cleaned_Description']]\n",
    "\n",
    "\n",
    "\n",
    "bigram = gensim.models.Phrases(documents, min_count=20, threshold=20, delimiter='_') # higher threshold fewer phrases.\n",
    "bigram_model = gensim.models.phrases.Phraser(bigram)\n",
    "\n",
    "corpus_bigrams = [bigram_model[doc] for doc in documents]\n",
    "dictionary = gensim.corpora.Dictionary(corpus_bigrams)\n",
    "dictionary.filter_extremes(no_below=20, no_above=0.6)\n",
    "bow_corpus = [dictionary.doc2bow(text) for text in corpus_bigrams]"
   ]
  },
  {
   "cell_type": "code",
   "execution_count": null,
   "metadata": {},
   "outputs": [],
   "source": [
    "MODEL_NAMES = ['LSI', 'LDA']\n",
    "START_TOPIC_COUNT = 2\n",
    "END_TOPIC_COUNT = 10\n",
    "model_count = 0"
   ]
  },
  {
   "cell_type": "code",
   "execution_count": null,
   "metadata": {},
   "outputs": [],
   "source": [
    "for MODEL_NAME in MODEL_NAMES:\n",
    "\n",
    "    models, coherence_scores = tba3102.topic_model_coherence_generator(model_name = MODEL_NAME,\n",
    "                                                                       corpus=bow_corpus,\n",
    "                                                                       texts=corpus_bigrams,\n",
    "                                                                       dictionary=dictionary,\n",
    "                                                                       start_topic_count=START_TOPIC_COUNT,\n",
    "                                                                       end_topic_count=END_TOPIC_COUNT,\n",
    "                                                                       step=1,\n",
    "                                                                       cpus=-1,\n",
    "                                                                       print_topics=True)\n",
    "\n",
    "    coherence_df = pd.DataFrame({'Number of Topics': range(START_TOPIC_COUNT, END_TOPIC_COUNT + 1, 1), 'Coherence Score': np.round(coherence_scores, 4)})\n",
    "    coherence_df.sort_values(by=['Coherence Score'], ascending=False).head(10)\n",
    "    print(coherence_df)\n",
    "\n",
    "    x_ax = range(START_TOPIC_COUNT, END_TOPIC_COUNT + 1, 1)\n",
    "    y_ax = coherence_scores\n",
    "    plt.figure(num=model_count, figsize=(15, 12))\n",
    "    plt.plot(x_ax, y_ax, c='r')\n",
    "    plt.axhline(y=0.3, c='k', linestyle='--', linewidth=2)\n",
    "    plt.axhline(y=0.4, c='k', linestyle='--', linewidth=2)\n",
    "    plt.axhline(y=0.5, c='k', linestyle='--', linewidth=2)\n",
    "    plt.rcParams['figure.facecolor'] = 'white'\n",
    "    xl = plt.xlabel('Number of Topics')\n",
    "    yl = plt.ylabel('Coherence Score')\n",
    "\n",
    "    model_count += 1\n",
    "\n",
    "plt.show()"
   ]
  },
  {
   "cell_type": "code",
   "execution_count": null,
   "metadata": {},
   "outputs": [],
   "source": [
    "print('Text processing ended at {}'.format(datetime.now()))"
   ]
  }
 ],
 "metadata": {
  "kernelspec": {
   "display_name": "Python 3",
   "language": "python",
   "name": "python3"
  },
  "language_info": {
   "codemirror_mode": {
    "name": "ipython",
    "version": 3
   },
   "file_extension": ".py",
   "mimetype": "text/x-python",
   "name": "python",
   "nbconvert_exporter": "python",
   "pygments_lexer": "ipython3",
   "version": "3.9.4"
  }
 },
 "nbformat": 4,
 "nbformat_minor": 4
}
