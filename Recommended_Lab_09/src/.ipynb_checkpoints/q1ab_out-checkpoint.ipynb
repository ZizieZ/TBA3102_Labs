{
 "cells": [
  {
   "cell_type": "code",
   "execution_count": 1,
   "metadata": {},
   "outputs": [
    {
     "data": {
      "text/html": [
       "<style>pre { white-space: pre !important; }</style>"
      ],
      "text/plain": [
       "<IPython.core.display.HTML object>"
      ]
     },
     "metadata": {},
     "output_type": "display_data"
    },
    {
     "name": "stdout",
     "output_type": "stream",
     "text": [
      "Text processing started at 2023-03-19 09:52:42.315071\n"
     ]
    }
   ],
   "source": [
    "import numpy as np\n",
    "import pandas as pd\n",
    "\n",
    "import gensim\n",
    "\n",
    "import matplotlib.pyplot as plt\n",
    "\n",
    "from datetime import datetime\n",
    "\n",
    "from IPython.core.display import HTML\n",
    "import tba3102\n",
    "\n",
    "\n",
    "\n",
    "display(HTML(\"<style>pre { white-space: pre !important; }</style>\"))\n",
    "tba3102.set_default_pandas_options(max_columns=16, width=1500, max_colwidth=300)\n",
    "\n",
    "print('Text processing started at {}'.format(datetime.now()))"
   ]
  },
  {
   "cell_type": "code",
   "execution_count": 2,
   "metadata": {},
   "outputs": [],
   "source": [
    "df = pd.read_csv('../data/voted-kaggle-dataset-cleaned.csv', index_col=0)\n",
    "documents = [tba3102.tokenize_sentence_to_words(cleaned_description) for cleaned_description in df['Cleaned_Description']]\n",
    "\n",
    "\n",
    "\n",
    "bigram = gensim.models.Phrases(documents, min_count=20, threshold=20, delimiter='_') # higher threshold fewer phrases.\n",
    "bigram_model = gensim.models.phrases.Phraser(bigram)\n",
    "\n",
    "corpus_bigrams = [bigram_model[doc] for doc in documents]\n",
    "dictionary = gensim.corpora.Dictionary(corpus_bigrams)\n",
    "dictionary.filter_extremes(no_below=20, no_above=0.6)\n",
    "bow_corpus = [dictionary.doc2bow(text) for text in corpus_bigrams]"
   ]
  },
  {
   "cell_type": "code",
   "execution_count": 3,
   "metadata": {},
   "outputs": [],
   "source": [
    "MODEL_NAMES = ['LSI', 'LDA']\n",
    "START_TOPIC_COUNT = 2\n",
    "END_TOPIC_COUNT = 10\n",
    "model_count = 0"
   ]
  },
  {
   "cell_type": "code",
   "execution_count": 4,
   "metadata": {},
   "outputs": [
    {
     "name": "stderr",
     "output_type": "stream",
     "text": [
      "  0%|                                                                                                                                                        | 0/9 [00:00<?, ?it/s]"
     ]
    },
    {
     "name": "stdout",
     "output_type": "stream",
     "text": [
      "\n",
      "MODEL: LSI - NUMBER OF TOPICS: 2\n"
     ]
    },
    {
     "name": "stderr",
     "output_type": "stream",
     "text": [
      " 11%|████████████████                                                                                                                                | 1/9 [01:01<08:11, 61.41s/it]"
     ]
    },
    {
     "name": "stdout",
     "output_type": "stream",
     "text": [
      "Topic #1:\n",
      "==========\n",
      "0.931*\"university\" + 0.198*\"state\" + 0.094*\"I\" + 0.079*\"college\" + 0.075*\"use\" + 0.060*\"number\" + 0.055*\"file\" + 0.053*\"contain\" + 0.048*\"time\" + 0.042*\"institute\" + 0.041*\"include\" + 0.040*\"player\" + 0.040*\"year\" + 0.037*\"one\" + 0.037*\"name\" + 0.035*\"information\" + 0.033*\"new\" + 0.033*\"set\" + 0.031*\"inter\" + 0.031*\"technology\"\n",
      "\n",
      "Topic #2:\n",
      "==========\n",
      "0.327*\"I\" + -0.294*\"university\" + 0.259*\"use\" + 0.211*\"number\" + 0.187*\"file\" + 0.171*\"contain\" + 0.168*\"time\" + 0.144*\"player\" + 0.140*\"year\" + 0.128*\"name\" + 0.123*\"one\" + 0.121*\"information\" + 0.118*\"include\" + 0.108*\"inter\" + 0.106*\"value\" + 0.091*\"find\" + 0.089*\"date\" + 0.081*\"see\" + 0.081*\"set\" + 0.080*\"take\"\n",
      "\n",
      "--------------------------------------------------\n",
      "\n",
      "MODEL: LSI - NUMBER OF TOPICS: 3\n"
     ]
    },
    {
     "name": "stderr",
     "output_type": "stream",
     "text": [
      " 22%|████████████████████████████████                                                                                                                | 2/9 [02:03<07:13, 61.87s/it]"
     ]
    },
    {
     "name": "stdout",
     "output_type": "stream",
     "text": [
      "Topic #1:\n",
      "==========\n",
      "0.930*\"university\" + 0.198*\"state\" + 0.089*\"I\" + 0.079*\"college\" + 0.077*\"use\" + 0.062*\"number\" + 0.056*\"file\" + 0.054*\"contain\" + 0.050*\"time\" + 0.042*\"institute\" + 0.042*\"include\" + 0.042*\"year\" + 0.040*\"player\" + 0.038*\"one\" + 0.038*\"name\" + 0.037*\"information\" + 0.034*\"new\" + 0.033*\"set\" + 0.032*\"value\" + 0.031*\"technology\"\n",
      "\n",
      "Topic #2:\n",
      "==========\n",
      "0.328*\"I\" + -0.297*\"university\" + 0.258*\"use\" + 0.211*\"number\" + 0.183*\"file\" + 0.170*\"contain\" + 0.169*\"time\" + 0.144*\"player\" + 0.140*\"year\" + 0.128*\"name\" + 0.123*\"one\" + 0.122*\"information\" + 0.117*\"include\" + 0.106*\"inter\" + 0.106*\"value\" + 0.091*\"find\" + 0.089*\"date\" + 0.081*\"team\" + 0.081*\"see\" + 0.080*\"set\"\n",
      "\n",
      "Topic #3:\n",
      "==========\n",
      "-0.591*\"player\" + -0.310*\"team\" + -0.264*\"goal\" + -0.255*\"face\" + -0.186*\"I\" + -0.183*\"take\" + -0.156*\"game\" + -0.147*\"inter\" + 0.138*\"file\" + -0.138*\"allow\" + 0.137*\"use\" + -0.133*\"tear\" + 0.126*\"contain\" + -0.125*\"score\" + -0.085*\"percentage\" + -0.083*\"win\" + -0.081*\"sit\" + -0.080*\"individual\" + -0.077*\"point\" + 0.074*\"information\"\n",
      "\n",
      "--------------------------------------------------\n",
      "\n",
      "MODEL: LSI - NUMBER OF TOPICS: 4\n"
     ]
    },
    {
     "name": "stderr",
     "output_type": "stream",
     "text": [
      " 33%|████████████████████████████████████████████████                                                                                                | 3/9 [03:05<06:10, 61.77s/it]"
     ]
    },
    {
     "name": "stdout",
     "output_type": "stream",
     "text": [
      "Topic #1:\n",
      "==========\n",
      "0.929*\"university\" + 0.198*\"state\" + 0.090*\"I\" + 0.079*\"college\" + 0.077*\"use\" + 0.063*\"number\" + 0.056*\"file\" + 0.054*\"contain\" + 0.050*\"time\" + 0.042*\"institute\" + 0.042*\"year\" + 0.042*\"include\" + 0.040*\"player\" + 0.038*\"name\" + 0.038*\"one\" + 0.037*\"information\" + 0.034*\"new\" + 0.033*\"set\" + 0.032*\"value\" + 0.031*\"technology\"\n",
      "\n",
      "Topic #2:\n",
      "==========\n",
      "0.329*\"I\" + -0.298*\"university\" + 0.257*\"use\" + 0.210*\"number\" + 0.184*\"file\" + 0.171*\"contain\" + 0.170*\"time\" + 0.145*\"player\" + 0.139*\"year\" + 0.127*\"name\" + 0.123*\"one\" + 0.122*\"information\" + 0.117*\"include\" + 0.106*\"inter\" + 0.105*\"value\" + 0.091*\"find\" + 0.089*\"date\" + 0.083*\"team\" + 0.081*\"set\" + 0.080*\"see\"\n",
      "\n",
      "Topic #3:\n",
      "==========\n",
      "-0.578*\"player\" + -0.304*\"team\" + -0.256*\"goal\" + -0.247*\"face\" + -0.220*\"I\" + -0.178*\"take\" + -0.171*\"inter\" + -0.152*\"game\" + 0.146*\"file\" + 0.144*\"use\" + 0.134*\"contain\" + -0.133*\"allow\" + -0.130*\"tear\" + -0.123*\"score\" + -0.082*\"percentage\" + -0.082*\"win\" + -0.078*\"sit\" + -0.076*\"individual\" + 0.076*\"information\" + -0.075*\"point\"\n",
      "\n",
      "Topic #4:\n",
      "==========\n",
      "-0.664*\"I\" + -0.513*\"inter\" + 0.248*\"player\" + 0.130*\"team\" + 0.128*\"goal\" + 0.121*\"face\" + 0.106*\"number\" + 0.093*\"take\" + 0.079*\"contain\" + 0.077*\"allow\" + 0.072*\"file\" + 0.070*\"score\" + 0.067*\"time\" + -0.061*\"move\" + 0.060*\"state\" + 0.060*\"year\" + 0.060*\"use\" + 0.059*\"tear\" + 0.057*\"game\" + -0.054*\"categorical\"\n",
      "\n",
      "--------------------------------------------------\n",
      "\n",
      "MODEL: LSI - NUMBER OF TOPICS: 5\n"
     ]
    },
    {
     "name": "stderr",
     "output_type": "stream",
     "text": [
      " 44%|████████████████████████████████████████████████████████████████                                                                                | 4/9 [04:08<05:11, 62.32s/it]"
     ]
    },
    {
     "name": "stdout",
     "output_type": "stream",
     "text": [
      "Topic #1:\n",
      "==========\n",
      "0.929*\"university\" + 0.198*\"state\" + 0.090*\"I\" + 0.079*\"college\" + 0.077*\"use\" + 0.063*\"number\" + 0.056*\"file\" + 0.054*\"contain\" + 0.050*\"time\" + 0.042*\"institute\" + 0.042*\"year\" + 0.042*\"include\" + 0.040*\"player\" + 0.038*\"name\" + 0.038*\"one\" + 0.037*\"information\" + 0.034*\"new\" + 0.033*\"set\" + 0.032*\"value\" + 0.031*\"technology\"\n",
      "\n",
      "Topic #2:\n",
      "==========\n",
      "0.329*\"I\" + -0.298*\"university\" + 0.258*\"use\" + 0.209*\"number\" + 0.185*\"file\" + 0.171*\"contain\" + 0.170*\"time\" + 0.145*\"player\" + 0.138*\"year\" + 0.127*\"name\" + 0.123*\"one\" + 0.122*\"information\" + 0.117*\"include\" + 0.107*\"inter\" + 0.105*\"value\" + 0.091*\"find\" + 0.089*\"date\" + 0.083*\"team\" + 0.081*\"set\" + 0.080*\"see\"\n",
      "\n",
      "Topic #3:\n",
      "==========\n",
      "-0.543*\"player\" + -0.301*\"I\" + -0.288*\"team\" + -0.239*\"goal\" + -0.231*\"face\" + -0.230*\"inter\" + -0.165*\"take\" + 0.153*\"file\" + 0.149*\"use\" + -0.144*\"game\" + 0.143*\"contain\" + -0.122*\"allow\" + -0.122*\"tear\" + -0.114*\"score\" + 0.082*\"information\" + 0.079*\"include\" + -0.077*\"win\" + -0.076*\"percentage\" + -0.072*\"sit\" + -0.070*\"point\"\n",
      "\n",
      "Topic #4:\n",
      "==========\n",
      "-0.634*\"I\" + -0.487*\"inter\" + 0.317*\"player\" + 0.165*\"team\" + 0.159*\"goal\" + 0.150*\"face\" + 0.114*\"take\" + 0.106*\"number\" + 0.093*\"allow\" + 0.084*\"score\" + 0.076*\"game\" + 0.075*\"tear\" + 0.064*\"state\" + 0.064*\"time\" + 0.062*\"contain\" + 0.062*\"individual\" + -0.060*\"move\" + 0.056*\"percentage\" + 0.055*\"year\" + 0.053*\"file\"\n",
      "\n",
      "Topic #5:\n",
      "==========\n",
      "-0.398*\"numerical\" + 0.329*\"year\" + -0.296*\"text\" + 0.283*\"number\" + -0.250*\"file\" + -0.206*\"contain\" + 0.198*\"de\" + 0.166*\"value\" + 0.145*\"document\" + 0.137*\"total\" + 0.131*\"da\" + 0.126*\"name\" + -0.111*\"image\" + 0.105*\"per\" + 0.101*\"child\" + 0.096*\"e\" + 0.092*\"monitor\" + 0.092*\"state\" + 0.088*\"represent\" + -0.087*\"one\"\n",
      "\n",
      "--------------------------------------------------\n",
      "\n",
      "MODEL: LSI - NUMBER OF TOPICS: 6\n"
     ]
    },
    {
     "name": "stderr",
     "output_type": "stream",
     "text": [
      " 56%|████████████████████████████████████████████████████████████████████████████████                                                                | 5/9 [05:11<04:10, 62.66s/it]"
     ]
    },
    {
     "name": "stdout",
     "output_type": "stream",
     "text": [
      "Topic #1:\n",
      "==========\n",
      "0.930*\"university\" + 0.199*\"state\" + 0.089*\"I\" + 0.079*\"college\" + 0.077*\"use\" + 0.057*\"number\" + 0.052*\"file\" + 0.051*\"contain\" + 0.046*\"time\" + 0.043*\"institute\" + 0.042*\"include\" + 0.041*\"year\" + 0.039*\"player\" + 0.037*\"name\" + 0.037*\"information\" + 0.036*\"one\" + 0.034*\"new\" + 0.034*\"set\" + 0.031*\"technology\" + 0.029*\"value\"\n",
      "\n",
      "Topic #2:\n",
      "==========\n",
      "0.329*\"I\" + -0.295*\"university\" + 0.258*\"use\" + 0.212*\"number\" + 0.186*\"file\" + 0.173*\"contain\" + 0.171*\"time\" + 0.145*\"player\" + 0.139*\"year\" + 0.128*\"name\" + 0.124*\"one\" + 0.122*\"information\" + 0.117*\"include\" + 0.108*\"inter\" + 0.106*\"value\" + 0.091*\"find\" + 0.091*\"date\" + 0.083*\"team\" + 0.081*\"see\" + 0.081*\"set\"\n",
      "\n",
      "Topic #3:\n",
      "==========\n",
      "-0.544*\"player\" + -0.299*\"I\" + -0.289*\"team\" + -0.239*\"goal\" + -0.231*\"face\" + -0.228*\"inter\" + -0.165*\"take\" + 0.154*\"file\" + 0.148*\"use\" + -0.144*\"game\" + 0.144*\"contain\" + -0.123*\"allow\" + -0.122*\"tear\" + -0.115*\"score\" + 0.081*\"information\" + 0.079*\"include\" + -0.077*\"win\" + -0.076*\"percentage\" + -0.073*\"sit\" + -0.070*\"point\"\n",
      "\n",
      "Topic #4:\n",
      "==========\n",
      "-0.635*\"I\" + -0.487*\"inter\" + 0.315*\"player\" + 0.164*\"team\" + 0.158*\"goal\" + 0.150*\"face\" + 0.113*\"take\" + 0.107*\"number\" + 0.092*\"allow\" + 0.083*\"score\" + 0.075*\"game\" + 0.074*\"tear\" + 0.064*\"state\" + 0.063*\"time\" + 0.063*\"contain\" + 0.062*\"individual\" + -0.060*\"move\" + 0.056*\"percentage\" + 0.055*\"year\" + 0.053*\"file\"\n",
      "\n",
      "Topic #5:\n",
      "==========\n",
      "-0.396*\"numerical\" + 0.329*\"year\" + -0.294*\"text\" + 0.286*\"number\" + -0.249*\"file\" + -0.206*\"contain\" + 0.198*\"de\" + 0.167*\"value\" + 0.146*\"document\" + 0.137*\"total\" + 0.131*\"da\" + 0.126*\"name\" + -0.112*\"image\" + 0.105*\"per\" + 0.101*\"child\" + 0.096*\"e\" + 0.092*\"monitor\" + 0.092*\"state\" + 0.088*\"represent\" + -0.086*\"one\"\n",
      "\n",
      "Topic #6:\n",
      "==========\n",
      "0.740*\"numerical\" + 0.411*\"text\" + -0.193*\"file\" + 0.162*\"year\" + -0.159*\"contain\" + 0.127*\"number\" + 0.122*\"de\" + -0.106*\"image\" + -0.094*\"time\" + 0.087*\"document\" + -0.080*\"one\" + 0.073*\"da\" + -0.062*\"start\" + 0.059*\"value\" + 0.057*\"total\" + 0.057*\"per\" + 0.054*\"e\" + 0.051*\"state\" + -0.050*\"user\" + 0.049*\"child\"\n",
      "\n",
      "--------------------------------------------------\n",
      "\n",
      "MODEL: LSI - NUMBER OF TOPICS: 7\n"
     ]
    },
    {
     "name": "stderr",
     "output_type": "stream",
     "text": [
      " 67%|████████████████████████████████████████████████████████████████████████████████████████████████                                                | 6/9 [06:16<03:09, 63.30s/it]"
     ]
    },
    {
     "name": "stdout",
     "output_type": "stream",
     "text": [
      "Topic #1:\n",
      "==========\n",
      "0.930*\"university\" + 0.198*\"state\" + 0.089*\"I\" + 0.079*\"college\" + 0.077*\"use\" + 0.058*\"number\" + 0.052*\"file\" + 0.051*\"contain\" + 0.046*\"time\" + 0.043*\"institute\" + 0.042*\"include\" + 0.040*\"year\" + 0.039*\"player\" + 0.037*\"name\" + 0.037*\"information\" + 0.036*\"one\" + 0.034*\"new\" + 0.034*\"set\" + 0.031*\"technology\" + 0.029*\"value\"\n",
      "\n",
      "Topic #2:\n",
      "==========\n",
      "0.329*\"I\" + -0.295*\"university\" + 0.258*\"use\" + 0.211*\"number\" + 0.186*\"file\" + 0.173*\"contain\" + 0.171*\"time\" + 0.145*\"player\" + 0.139*\"year\" + 0.128*\"name\" + 0.124*\"one\" + 0.122*\"information\" + 0.117*\"include\" + 0.108*\"inter\" + 0.106*\"value\" + 0.091*\"find\" + 0.090*\"date\" + 0.083*\"team\" + 0.081*\"set\" + 0.080*\"see\"\n",
      "\n",
      "Topic #3:\n",
      "==========\n",
      "-0.544*\"player\" + -0.300*\"I\" + -0.289*\"team\" + -0.239*\"goal\" + -0.231*\"face\" + -0.228*\"inter\" + -0.165*\"take\" + 0.154*\"file\" + 0.148*\"use\" + -0.144*\"game\" + 0.144*\"contain\" + -0.123*\"allow\" + -0.122*\"tear\" + -0.112*\"score\" + 0.081*\"information\" + 0.080*\"include\" + -0.077*\"win\" + -0.076*\"percentage\" + -0.072*\"sit\" + -0.070*\"point\"\n",
      "\n",
      "Topic #4:\n",
      "==========\n",
      "-0.634*\"I\" + -0.486*\"inter\" + 0.316*\"player\" + 0.165*\"team\" + 0.158*\"goal\" + 0.150*\"face\" + 0.113*\"take\" + 0.107*\"number\" + 0.092*\"allow\" + 0.083*\"score\" + 0.075*\"game\" + 0.074*\"tear\" + 0.064*\"state\" + 0.063*\"time\" + 0.063*\"contain\" + 0.062*\"individual\" + -0.060*\"move\" + 0.056*\"percentage\" + 0.055*\"year\" + 0.053*\"file\"\n",
      "\n",
      "Topic #5:\n",
      "==========\n",
      "-0.392*\"numerical\" + 0.326*\"year\" + -0.293*\"text\" + 0.288*\"number\" + -0.250*\"file\" + -0.205*\"contain\" + 0.204*\"de\" + 0.167*\"value\" + 0.150*\"document\" + 0.135*\"total\" + 0.134*\"da\" + 0.125*\"name\" + -0.117*\"image\" + 0.107*\"per\" + 0.099*\"child\" + 0.099*\"e\" + 0.091*\"monitor\" + 0.091*\"state\" + 0.089*\"represent\" + -0.086*\"use\"\n",
      "\n",
      "Topic #6:\n",
      "==========\n",
      "0.742*\"numerical\" + 0.412*\"text\" + -0.192*\"file\" + 0.159*\"year\" + -0.158*\"contain\" + 0.126*\"number\" + 0.122*\"de\" + -0.108*\"image\" + -0.095*\"time\" + 0.087*\"document\" + -0.079*\"one\" + 0.074*\"da\" + -0.062*\"start\" + 0.058*\"value\" + 0.057*\"per\" + 0.056*\"total\" + 0.054*\"e\" + -0.050*\"user\" + 0.050*\"state\" + 0.048*\"child\"\n",
      "\n",
      "Topic #7:\n",
      "==========\n",
      "-0.326*\"human\" + 0.291*\"number\" + -0.213*\"run\" + -0.196*\"john\" + 0.175*\"time\" + 0.169*\"inter\" + -0.159*\"andrew\" + 0.158*\"date\" + 0.151*\"contain\" + 0.149*\"file\" + -0.147*\"paul\" + -0.122*\"c\" + 0.119*\"value\" + -0.115*\"hang\" + -0.114*\"even\" + -0.114*\"k\" + -0.102*\"pain\" + 0.095*\"registration\" + -0.092*\"n\" + -0.092*\"go\"\n",
      "\n",
      "--------------------------------------------------\n",
      "\n",
      "MODEL: LSI - NUMBER OF TOPICS: 8\n"
     ]
    },
    {
     "name": "stderr",
     "output_type": "stream",
     "text": [
      " 78%|████████████████████████████████████████████████████████████████████████████████████████████████████████████████                                | 7/9 [07:20<02:07, 63.75s/it]"
     ]
    },
    {
     "name": "stdout",
     "output_type": "stream",
     "text": [
      "Topic #1:\n",
      "==========\n",
      "0.930*\"university\" + 0.198*\"state\" + 0.089*\"I\" + 0.079*\"college\" + 0.076*\"use\" + 0.057*\"number\" + 0.052*\"file\" + 0.051*\"contain\" + 0.047*\"time\" + 0.043*\"institute\" + 0.042*\"include\" + 0.041*\"year\" + 0.039*\"player\" + 0.037*\"name\" + 0.037*\"information\" + 0.037*\"one\" + 0.034*\"new\" + 0.034*\"set\" + 0.031*\"technology\" + 0.029*\"value\"\n",
      "\n",
      "Topic #2:\n",
      "==========\n",
      "0.330*\"I\" + -0.294*\"university\" + 0.259*\"use\" + 0.211*\"number\" + 0.186*\"file\" + 0.172*\"contain\" + 0.169*\"time\" + 0.145*\"player\" + 0.139*\"year\" + 0.128*\"name\" + 0.123*\"one\" + 0.122*\"information\" + 0.117*\"include\" + 0.108*\"inter\" + 0.106*\"value\" + 0.092*\"find\" + 0.090*\"date\" + 0.082*\"team\" + 0.081*\"set\" + 0.080*\"see\"\n",
      "\n",
      "Topic #3:\n",
      "==========\n",
      "-0.562*\"player\" + -0.300*\"team\" + -0.258*\"I\" + -0.249*\"goal\" + -0.239*\"face\" + -0.198*\"inter\" + -0.172*\"take\" + 0.151*\"file\" + -0.148*\"game\" + 0.147*\"use\" + 0.139*\"contain\" + -0.128*\"allow\" + -0.127*\"tear\" + -0.119*\"score\" + -0.080*\"win\" + -0.079*\"percentage\" + 0.079*\"information\" + 0.077*\"include\" + -0.076*\"sit\" + -0.072*\"point\"\n",
      "\n",
      "Topic #4:\n",
      "==========\n",
      "-0.654*\"I\" + -0.497*\"inter\" + 0.280*\"player\" + 0.149*\"team\" + 0.142*\"goal\" + 0.134*\"face\" + 0.108*\"number\" + 0.101*\"take\" + 0.084*\"allow\" + 0.082*\"score\" + 0.072*\"contain\" + 0.069*\"time\" + 0.066*\"tear\" + 0.065*\"game\" + 0.064*\"file\" + 0.062*\"state\" + -0.061*\"move\" + 0.057*\"individual\" + 0.055*\"year\" + 0.054*\"use\"\n",
      "\n",
      "Topic #5:\n",
      "==========\n",
      "-0.383*\"numerical\" + 0.336*\"year\" + -0.292*\"text\" + 0.284*\"number\" + -0.253*\"file\" + -0.201*\"contain\" + 0.193*\"de\" + 0.165*\"value\" + 0.142*\"total\" + 0.141*\"document\" + 0.128*\"da\" + -0.127*\"image\" + 0.127*\"name\" + 0.105*\"per\" + 0.102*\"child\" + -0.101*\"use\" + 0.095*\"monitor\" + 0.094*\"e\" + 0.093*\"state\" + 0.086*\"represent\"\n",
      "\n",
      "Topic #6:\n",
      "==========\n",
      "0.747*\"numerical\" + 0.413*\"text\" + -0.191*\"file\" + 0.160*\"year\" + -0.154*\"contain\" + 0.122*\"number\" + 0.116*\"de\" + -0.111*\"image\" + -0.086*\"time\" + 0.082*\"document\" + -0.076*\"one\" + 0.070*\"da\" + -0.058*\"start\" + 0.057*\"total\" + 0.056*\"value\" + 0.056*\"per\" + 0.052*\"e\" + -0.051*\"user\" + -0.050*\"use\" + 0.050*\"state\"\n",
      "\n",
      "Topic #7:\n",
      "==========\n",
      "0.322*\"human\" + -0.287*\"number\" + 0.211*\"run\" + 0.194*\"john\" + -0.185*\"time\" + -0.172*\"inter\" + -0.163*\"date\" + 0.157*\"andrew\" + -0.155*\"contain\" + -0.149*\"file\" + 0.146*\"paul\" + 0.120*\"c\" + -0.117*\"value\" + 0.114*\"hang\" + 0.113*\"even\" + 0.113*\"k\" + 0.101*\"pain\" + -0.098*\"registration\" + -0.096*\"start\" + 0.091*\"go\"\n",
      "\n",
      "Topic #8:\n",
      "==========\n",
      "-0.324*\"de\" + 0.262*\"year\" + -0.238*\"number\" + -0.221*\"human\" + -0.204*\"document\" + -0.188*\"time\" + -0.184*\"da\" + -0.162*\"run\" + -0.157*\"e\" + -0.142*\"john\" + 0.141*\"total\" + -0.131*\"race\" + -0.125*\"date\" + 0.119*\"use\" + -0.116*\"andrew\" + -0.116*\"start\" + 0.113*\"include\" + -0.108*\"see\" + -0.106*\"paul\" + -0.104*\"one\"\n",
      "\n",
      "--------------------------------------------------\n",
      "\n",
      "MODEL: LSI - NUMBER OF TOPICS: 9\n"
     ]
    },
    {
     "name": "stderr",
     "output_type": "stream",
     "text": [
      " 89%|████████████████████████████████████████████████████████████████████████████████████████████████████████████████████████████████                | 8/9 [08:26<01:04, 64.47s/it]"
     ]
    },
    {
     "name": "stdout",
     "output_type": "stream",
     "text": [
      "Topic #1:\n",
      "==========\n",
      "0.930*\"university\" + 0.198*\"state\" + 0.088*\"I\" + 0.079*\"college\" + 0.076*\"use\" + 0.057*\"number\" + 0.052*\"file\" + 0.051*\"contain\" + 0.047*\"time\" + 0.043*\"institute\" + 0.042*\"include\" + 0.041*\"year\" + 0.039*\"player\" + 0.037*\"name\" + 0.037*\"information\" + 0.037*\"one\" + 0.034*\"new\" + 0.034*\"set\" + 0.031*\"technology\" + 0.029*\"value\"\n",
      "\n",
      "Topic #2:\n",
      "==========\n",
      "0.330*\"I\" + -0.294*\"university\" + 0.259*\"use\" + 0.212*\"number\" + 0.186*\"file\" + 0.172*\"contain\" + 0.169*\"time\" + 0.146*\"player\" + 0.139*\"year\" + 0.128*\"name\" + 0.123*\"one\" + 0.122*\"information\" + 0.117*\"include\" + 0.107*\"inter\" + 0.106*\"value\" + 0.092*\"find\" + 0.090*\"date\" + 0.083*\"team\" + 0.081*\"set\" + 0.080*\"see\"\n",
      "\n",
      "Topic #3:\n",
      "==========\n",
      "-0.592*\"player\" + -0.317*\"team\" + -0.264*\"goal\" + -0.253*\"face\" + -0.183*\"take\" + -0.175*\"I\" + -0.154*\"game\" + 0.141*\"file\" + 0.140*\"use\" + -0.137*\"inter\" + -0.137*\"allow\" + -0.134*\"tear\" + 0.128*\"contain\" + -0.128*\"score\" + -0.085*\"win\" + -0.085*\"percentage\" + -0.080*\"sit\" + -0.078*\"individual\" + -0.075*\"point\" + 0.072*\"information\"\n",
      "\n",
      "Topic #4:\n",
      "==========\n",
      "-0.682*\"I\" + -0.516*\"inter\" + 0.209*\"player\" + 0.113*\"team\" + 0.111*\"goal\" + 0.109*\"number\" + 0.103*\"face\" + 0.089*\"contain\" + 0.082*\"file\" + 0.079*\"take\" + 0.072*\"time\" + 0.070*\"use\" + 0.067*\"score\" + 0.067*\"allow\" + -0.061*\"move\" + 0.059*\"year\" + 0.057*\"state\" + 0.054*\"date\" + 0.054*\"information\" + 0.054*\"include\"\n",
      "\n",
      "Topic #5:\n",
      "==========\n",
      "-0.383*\"numerical\" + 0.335*\"year\" + -0.292*\"text\" + 0.284*\"number\" + -0.252*\"file\" + -0.201*\"contain\" + 0.193*\"de\" + 0.166*\"value\" + 0.141*\"total\" + 0.141*\"document\" + 0.128*\"da\" + -0.128*\"image\" + 0.127*\"name\" + 0.105*\"per\" + 0.102*\"child\" + -0.101*\"use\" + 0.095*\"monitor\" + 0.094*\"e\" + 0.093*\"state\" + 0.086*\"represent\"\n",
      "\n",
      "Topic #6:\n",
      "==========\n",
      "0.746*\"numerical\" + 0.413*\"text\" + -0.192*\"file\" + 0.161*\"year\" + -0.154*\"contain\" + 0.123*\"number\" + 0.116*\"de\" + -0.112*\"image\" + -0.086*\"time\" + 0.082*\"document\" + -0.076*\"one\" + 0.070*\"da\" + 0.059*\"total\" + -0.058*\"start\" + 0.055*\"per\" + 0.054*\"value\" + 0.051*\"e\" + -0.051*\"user\" + -0.050*\"use\" + 0.050*\"state\"\n",
      "\n",
      "Topic #7:\n",
      "==========\n",
      "0.321*\"human\" + -0.285*\"number\" + 0.210*\"run\" + 0.193*\"john\" + -0.188*\"time\" + -0.175*\"inter\" + -0.164*\"date\" + 0.156*\"andrew\" + -0.156*\"contain\" + -0.150*\"file\" + 0.145*\"paul\" + 0.120*\"c\" + -0.119*\"value\" + 0.114*\"hang\" + 0.113*\"even\" + 0.113*\"k\" + 0.101*\"pain\" + -0.099*\"registration\" + -0.096*\"start\" + 0.091*\"go\"\n",
      "\n",
      "Topic #8:\n",
      "==========\n",
      "-0.323*\"de\" + 0.262*\"year\" + -0.236*\"number\" + -0.222*\"human\" + -0.203*\"document\" + -0.189*\"time\" + -0.184*\"da\" + -0.163*\"run\" + -0.156*\"e\" + -0.143*\"john\" + 0.142*\"total\" + -0.131*\"race\" + -0.125*\"date\" + 0.120*\"use\" + -0.116*\"andrew\" + -0.115*\"start\" + 0.113*\"include\" + -0.108*\"see\" + -0.106*\"paul\" + -0.103*\"one\"\n",
      "\n",
      "Topic #9:\n",
      "==========\n",
      "-0.353*\"time\" + 0.279*\"use\" + 0.256*\"de\" + -0.242*\"race\" + 0.204*\"document\" + 0.185*\"image\" + -0.184*\"section\" + 0.161*\"da\" + -0.161*\"year\" + 0.156*\"number\" + -0.142*\"inter\" + -0.142*\"date\" + -0.124*\"start\" + -0.123*\"total\" + 0.121*\"e\" + -0.116*\"take\" + -0.109*\"human\" + 0.098*\"represent\" + -0.097*\"registration\" + 0.093*\"player\"\n",
      "\n",
      "--------------------------------------------------\n",
      "\n",
      "MODEL: LSI - NUMBER OF TOPICS: 10\n"
     ]
    },
    {
     "name": "stderr",
     "output_type": "stream",
     "text": [
      "100%|████████████████████████████████████████████████████████████████████████████████████████████████████████████████████████████████████████████████| 9/9 [09:33<00:00, 63.69s/it]\n",
      "  0%|                                                                                                                                                        | 0/9 [00:00<?, ?it/s]"
     ]
    },
    {
     "name": "stdout",
     "output_type": "stream",
     "text": [
      "Topic #1:\n",
      "==========\n",
      "0.930*\"university\" + 0.198*\"state\" + 0.088*\"I\" + 0.079*\"college\" + 0.076*\"use\" + 0.058*\"number\" + 0.052*\"file\" + 0.051*\"contain\" + 0.047*\"time\" + 0.043*\"institute\" + 0.042*\"include\" + 0.041*\"year\" + 0.039*\"player\" + 0.037*\"name\" + 0.037*\"information\" + 0.036*\"one\" + 0.034*\"new\" + 0.034*\"set\" + 0.031*\"technology\" + 0.029*\"value\"\n",
      "\n",
      "Topic #2:\n",
      "==========\n",
      "0.330*\"I\" + -0.294*\"university\" + 0.259*\"use\" + 0.212*\"number\" + 0.186*\"file\" + 0.172*\"contain\" + 0.169*\"time\" + 0.146*\"player\" + 0.139*\"year\" + 0.128*\"name\" + 0.123*\"one\" + 0.122*\"information\" + 0.117*\"include\" + 0.107*\"inter\" + 0.106*\"value\" + 0.092*\"find\" + 0.090*\"date\" + 0.082*\"team\" + 0.081*\"set\" + 0.080*\"see\"\n",
      "\n",
      "Topic #3:\n",
      "==========\n",
      "-0.577*\"player\" + -0.309*\"team\" + -0.256*\"goal\" + -0.245*\"face\" + -0.222*\"I\" + -0.177*\"take\" + -0.169*\"inter\" + -0.151*\"game\" + 0.146*\"file\" + 0.143*\"use\" + 0.134*\"contain\" + -0.132*\"allow\" + -0.130*\"tear\" + -0.122*\"score\" + -0.083*\"win\" + -0.082*\"percentage\" + -0.078*\"sit\" + 0.075*\"information\" + -0.075*\"individual\" + 0.074*\"include\"\n",
      "\n",
      "Topic #4:\n",
      "==========\n",
      "-0.670*\"I\" + -0.503*\"inter\" + 0.248*\"player\" + 0.134*\"team\" + 0.129*\"goal\" + 0.120*\"face\" + 0.110*\"number\" + 0.091*\"take\" + 0.081*\"contain\" + 0.076*\"allow\" + 0.076*\"score\" + 0.072*\"file\" + 0.071*\"time\" + -0.061*\"move\" + 0.060*\"state\" + 0.060*\"tear\" + 0.059*\"use\" + 0.057*\"year\" + 0.056*\"game\" + 0.053*\"individual\"\n",
      "\n",
      "Topic #5:\n",
      "==========\n",
      "-0.375*\"numerical\" + 0.339*\"year\" + -0.288*\"text\" + 0.285*\"number\" + -0.255*\"file\" + -0.202*\"contain\" + 0.193*\"de\" + 0.165*\"value\" + 0.142*\"total\" + 0.140*\"document\" + -0.128*\"image\" + 0.128*\"name\" + 0.127*\"da\" + 0.105*\"per\" + -0.105*\"use\" + 0.102*\"child\" + 0.095*\"monitor\" + 0.093*\"e\" + 0.093*\"state\" + 0.086*\"represent\"\n",
      "\n",
      "Topic #6:\n",
      "==========\n",
      "0.750*\"numerical\" + 0.416*\"text\" + -0.189*\"file\" + 0.158*\"year\" + -0.151*\"contain\" + 0.121*\"number\" + 0.114*\"de\" + -0.110*\"image\" + -0.084*\"time\" + 0.081*\"document\" + -0.075*\"one\" + 0.068*\"da\" + 0.058*\"total\" + -0.056*\"start\" + 0.054*\"per\" + 0.052*\"value\" + -0.051*\"use\" + -0.051*\"user\" + 0.050*\"e\" + 0.049*\"state\"\n",
      "\n",
      "Topic #7:\n",
      "==========\n",
      "0.321*\"human\" + -0.285*\"number\" + 0.210*\"run\" + 0.192*\"john\" + -0.188*\"time\" + -0.183*\"inter\" + -0.165*\"date\" + -0.159*\"contain\" + 0.156*\"andrew\" + -0.152*\"file\" + 0.145*\"paul\" + 0.117*\"c\" + -0.117*\"value\" + 0.114*\"hang\" + 0.113*\"even\" + 0.112*\"k\" + 0.100*\"pain\" + -0.100*\"registration\" + -0.097*\"start\" + 0.092*\"n\"\n",
      "\n",
      "Topic #8:\n",
      "==========\n",
      "-0.323*\"de\" + 0.263*\"year\" + -0.235*\"number\" + -0.223*\"human\" + -0.203*\"document\" + -0.189*\"time\" + -0.184*\"da\" + -0.163*\"run\" + -0.156*\"e\" + -0.143*\"john\" + 0.142*\"total\" + -0.131*\"race\" + -0.125*\"date\" + 0.122*\"use\" + -0.117*\"andrew\" + -0.116*\"start\" + 0.113*\"include\" + -0.108*\"see\" + -0.107*\"paul\" + -0.103*\"one\"\n",
      "\n",
      "Topic #9:\n",
      "==========\n",
      "-0.350*\"time\" + 0.280*\"use\" + 0.258*\"de\" + -0.237*\"race\" + 0.204*\"document\" + 0.184*\"image\" + -0.182*\"section\" + 0.161*\"da\" + -0.158*\"year\" + 0.157*\"number\" + -0.154*\"inter\" + -0.142*\"date\" + -0.124*\"start\" + -0.123*\"total\" + 0.121*\"e\" + -0.115*\"take\" + -0.109*\"human\" + 0.098*\"represent\" + -0.097*\"registration\" + 0.094*\"player\"\n",
      "\n",
      "Topic #10:\n",
      "==========\n",
      "-0.362*\"value\" + -0.254*\"station\" + -0.240*\"monitor\" + 0.223*\"total\" + 0.200*\"number\" + -0.172*\"inter\" + -0.158*\"measure\" + -0.157*\"name\" + 0.150*\"child\" + -0.147*\"event\" + 0.138*\"year\" + -0.132*\"take\" + -0.130*\"site\" + -0.130*\"parameter\" + -0.127*\"hour\" + -0.127*\"mean\" + 0.122*\"age\" + -0.104*\"feature\" + 0.103*\"player\" + -0.102*\"sample\"\n",
      "\n",
      "--------------------------------------------------\n",
      "   Number of Topics  Coherence Score\n",
      "0                 2           0.3320\n",
      "1                 3           0.3576\n",
      "2                 4           0.3750\n",
      "3                 5           0.3801\n",
      "4                 6           0.3568\n",
      "5                 7           0.3507\n",
      "6                 8           0.3404\n",
      "7                 9           0.3204\n",
      "8                10           0.3166\n",
      "\n",
      "MODEL: LDA - NUMBER OF TOPICS: 2\n"
     ]
    },
    {
     "name": "stderr",
     "output_type": "stream",
     "text": [
      " 11%|████████████████                                                                                                                                | 1/9 [00:08<01:06,  8.30s/it]"
     ]
    },
    {
     "name": "stdout",
     "output_type": "stream",
     "text": [
      "Topic #1:\n",
      "==========\n",
      "0.023*\"university\" + 0.013*\"use\" + 0.009*\"time\" + 0.008*\"include\" + 0.008*\"state\" + 0.008*\"contain\" + 0.007*\"information\" + 0.006*\"file\" + 0.006*\"image\" + 0.006*\"set\" + 0.006*\"acknowledgment\" + 0.006*\"number\" + 0.005*\"year\" + 0.005*\"find\" + 0.004*\"city\" + 0.004*\"inspiration\" + 0.004*\"I\" + 0.004*\"research\" + 0.004*\"name\" + 0.004*\"day\"\n",
      "\n",
      "Topic #2:\n",
      "==========\n",
      "0.018*\"I\" + 0.016*\"use\" + 0.010*\"contain\" + 0.010*\"file\" + 0.008*\"acknowledgment\" + 0.008*\"inspiration\" + 0.007*\"number\" + 0.007*\"word\" + 0.006*\"name\" + 0.006*\"information\" + 0.006*\"set\" + 0.006*\"one\" + 0.005*\"include\" + 0.005*\"column\" + 0.005*\"text\" + 0.005*\"year\" + 0.005*\"find\" + 0.005*\"make\" + 0.004*\"time\" + 0.004*\"date\"\n",
      "\n",
      "--------------------------------------------------\n",
      "\n",
      "MODEL: LDA - NUMBER OF TOPICS: 3\n"
     ]
    },
    {
     "name": "stderr",
     "output_type": "stream",
     "text": [
      " 22%|████████████████████████████████                                                                                                                | 2/9 [00:15<00:53,  7.70s/it]"
     ]
    },
    {
     "name": "stdout",
     "output_type": "stream",
     "text": [
      "Topic #1:\n",
      "==========\n",
      "0.010*\"use\" + 0.009*\"acknowledgment\" + 0.009*\"include\" + 0.008*\"inspiration\" + 0.008*\"contain\" + 0.008*\"number\" + 0.008*\"name\" + 0.007*\"city\" + 0.007*\"I\" + 0.006*\"information\" + 0.006*\"time\" + 0.005*\"university\" + 0.005*\"date\" + 0.005*\"state\" + 0.005*\"day\" + 0.005*\"file\" + 0.005*\"set\" + 0.004*\"column\" + 0.004*\"player\" + 0.004*\"research\"\n",
      "\n",
      "Topic #2:\n",
      "==========\n",
      "0.018*\"use\" + 0.016*\"I\" + 0.010*\"file\" + 0.010*\"contain\" + 0.007*\"set\" + 0.007*\"word\" + 0.006*\"information\" + 0.006*\"text\" + 0.006*\"time\" + 0.006*\"find\" + 0.006*\"one\" + 0.006*\"acknowledgment\" + 0.006*\"year\" + 0.006*\"inspiration\" + 0.006*\"number\" + 0.005*\"image\" + 0.005*\"include\" + 0.005*\"see\" + 0.004*\"make\" + 0.004*\"also\"\n",
      "\n",
      "Topic #3:\n",
      "==========\n",
      "0.050*\"university\" + 0.010*\"state\" + 0.010*\"use\" + 0.009*\"description_yet\" + 0.009*\"file\" + 0.009*\"price\" + 0.008*\"team\" + 0.008*\"information\" + 0.008*\"time\" + 0.007*\"contain\" + 0.007*\"I\" + 0.007*\"acknowledgment\" + 0.007*\"score\" + 0.006*\"college\" + 0.006*\"number\" + 0.006*\"model\" + 0.006*\"include\" + 0.006*\"column\" + 0.005*\"name\" + 0.005*\"statistic\"\n",
      "\n",
      "--------------------------------------------------\n",
      "\n",
      "MODEL: LDA - NUMBER OF TOPICS: 4\n"
     ]
    },
    {
     "name": "stderr",
     "output_type": "stream",
     "text": [
      " 33%|████████████████████████████████████████████████                                                                                                | 3/9 [00:22<00:44,  7.47s/it]"
     ]
    },
    {
     "name": "stdout",
     "output_type": "stream",
     "text": [
      "Topic #1:\n",
      "==========\n",
      "0.017*\"I\" + 0.016*\"use\" + 0.012*\"file\" + 0.009*\"contain\" + 0.008*\"information\" + 0.008*\"image\" + 0.008*\"acknowledgment\" + 0.007*\"include\" + 0.006*\"inspiration\" + 0.006*\"year\" + 0.006*\"set\" + 0.006*\"name\" + 0.005*\"one\" + 0.005*\"list\" + 0.005*\"user\" + 0.005*\"country\" + 0.005*\"provide\" + 0.005*\"column\" + 0.005*\"time\" + 0.004*\"text\"\n",
      "\n",
      "Topic #2:\n",
      "==========\n",
      "0.025*\"university\" + 0.014*\"I\" + 0.013*\"use\" + 0.009*\"contain\" + 0.008*\"state\" + 0.008*\"number\" + 0.008*\"time\" + 0.007*\"file\" + 0.006*\"information\" + 0.006*\"year\" + 0.006*\"set\" + 0.005*\"text\" + 0.005*\"make\" + 0.005*\"include\" + 0.005*\"acknowledgment\" + 0.005*\"inspiration\" + 0.005*\"name\" + 0.005*\"date\" + 0.005*\"column\" + 0.005*\"day\"\n",
      "\n",
      "Topic #3:\n",
      "==========\n",
      "0.014*\"use\" + 0.011*\"include\" + 0.010*\"city\" + 0.008*\"set\" + 0.008*\"review\" + 0.008*\"acknowledgment\" + 0.008*\"information\" + 0.007*\"inspiration\" + 0.007*\"contain\" + 0.007*\"file\" + 0.006*\"number\" + 0.006*\"report\" + 0.006*\"find\" + 0.006*\"crime\" + 0.005*\"date\" + 0.005*\"one\" + 0.005*\"population\" + 0.005*\"time\" + 0.004*\"also\" + 0.004*\"total\"\n",
      "\n",
      "Topic #4:\n",
      "==========\n",
      "0.015*\"use\" + 0.013*\"word\" + 0.009*\"acknowledgment\" + 0.009*\"contain\" + 0.008*\"inspiration\" + 0.007*\"description_yet\" + 0.007*\"name\" + 0.006*\"time\" + 0.006*\"file\" + 0.006*\"I\" + 0.006*\"number\" + 0.006*\"include\" + 0.006*\"find\" + 0.006*\"research\" + 0.006*\"set\" + 0.005*\"information\" + 0.005*\"one\" + 0.004*\"year\" + 0.004*\"corpus\" + 0.004*\"state\"\n",
      "\n",
      "--------------------------------------------------\n",
      "\n",
      "MODEL: LDA - NUMBER OF TOPICS: 5\n"
     ]
    },
    {
     "name": "stderr",
     "output_type": "stream",
     "text": [
      " 44%|████████████████████████████████████████████████████████████████                                                                                | 4/9 [00:29<00:36,  7.28s/it]"
     ]
    },
    {
     "name": "stdout",
     "output_type": "stream",
     "text": [
      "Topic #1:\n",
      "==========\n",
      "0.013*\"use\" + 0.011*\"number\" + 0.011*\"city\" + 0.009*\"I\" + 0.008*\"review\" + 0.008*\"acknowledgment\" + 0.008*\"contain\" + 0.007*\"year\" + 0.007*\"information\" + 0.006*\"find\" + 0.006*\"name\" + 0.006*\"inspiration\" + 0.006*\"include\" + 0.005*\"new_york\" + 0.005*\"file\" + 0.005*\"variable\" + 0.005*\"language\" + 0.004*\"different\" + 0.004*\"type\" + 0.004*\"per\"\n",
      "\n",
      "Topic #2:\n",
      "==========\n",
      "0.065*\"university\" + 0.016*\"state\" + 0.011*\"use\" + 0.010*\"acknowledgment\" + 0.009*\"inspiration\" + 0.009*\"college\" + 0.008*\"research\" + 0.007*\"include\" + 0.007*\"contain\" + 0.006*\"description_yet\" + 0.006*\"set\" + 0.006*\"number\" + 0.006*\"year\" + 0.006*\"represent\" + 0.005*\"information\" + 0.005*\"user\" + 0.005*\"large\" + 0.005*\"time\" + 0.005*\"would_without\" + 0.004*\"see_answer\"\n",
      "\n",
      "Topic #3:\n",
      "==========\n",
      "0.014*\"I\" + 0.013*\"image\" + 0.013*\"file\" + 0.011*\"use\" + 0.010*\"contain\" + 0.009*\"number\" + 0.009*\"time\" + 0.009*\"include\" + 0.008*\"name\" + 0.007*\"set\" + 0.007*\"acknowledgment\" + 0.006*\"information\" + 0.006*\"inspiration\" + 0.006*\"one\" + 0.005*\"score\" + 0.005*\"find\" + 0.005*\"state\" + 0.005*\"date\" + 0.004*\"column\" + 0.004*\"attribute\"\n",
      "\n",
      "Topic #4:\n",
      "==========\n",
      "0.019*\"use\" + 0.018*\"word\" + 0.013*\"contain\" + 0.011*\"text\" + 0.011*\"file\" + 0.007*\"corpus\" + 0.007*\"acknowledgment\" + 0.006*\"set\" + 0.006*\"information\" + 0.006*\"inspiration\" + 0.005*\"include\" + 0.005*\"time\" + 0.005*\"one\" + 0.005*\"follow\" + 0.005*\"language\" + 0.005*\"I\" + 0.005*\"sweet\" + 0.005*\"sentence\" + 0.004*\"provide\" + 0.004*\"see\"\n",
      "\n",
      "Topic #5:\n",
      "==========\n",
      "0.020*\"I\" + 0.016*\"use\" + 0.007*\"set\" + 0.007*\"time\" + 0.007*\"file\" + 0.007*\"information\" + 0.007*\"contain\" + 0.007*\"column\" + 0.006*\"inspiration\" + 0.006*\"acknowledgment\" + 0.006*\"year\" + 0.006*\"make\" + 0.006*\"model\" + 0.005*\"include\" + 0.005*\"player\" + 0.005*\"one\" + 0.005*\"price\" + 0.005*\"find\" + 0.005*\"date\" + 0.005*\"day\"\n",
      "\n",
      "--------------------------------------------------\n",
      "\n",
      "MODEL: LDA - NUMBER OF TOPICS: 6\n"
     ]
    },
    {
     "name": "stderr",
     "output_type": "stream",
     "text": [
      " 56%|████████████████████████████████████████████████████████████████████████████████                                                                | 5/9 [00:37<00:29,  7.28s/it]"
     ]
    },
    {
     "name": "stdout",
     "output_type": "stream",
     "text": [
      "Topic #1:\n",
      "==========\n",
      "0.013*\"use\" + 0.011*\"number\" + 0.009*\"time\" + 0.009*\"review\" + 0.009*\"contain\" + 0.008*\"include\" + 0.007*\"acknowledgment\" + 0.007*\"information\" + 0.007*\"inspiration\" + 0.007*\"set\" + 0.007*\"date\" + 0.006*\"file\" + 0.006*\"year\" + 0.005*\"find\" + 0.005*\"song\" + 0.005*\"I\" + 0.004*\"population\" + 0.004*\"rate\" + 0.004*\"type\" + 0.004*\"sweet\"\n",
      "\n",
      "Topic #2:\n",
      "==========\n",
      "0.076*\"university\" + 0.018*\"state\" + 0.013*\"description_yet\" + 0.010*\"college\" + 0.009*\"inspiration\" + 0.009*\"acknowledgment\" + 0.008*\"set\" + 0.008*\"use\" + 0.008*\"research\" + 0.007*\"I\" + 0.006*\"large\" + 0.006*\"contain\" + 0.006*\"include\" + 0.006*\"variable\" + 0.005*\"question_want\" + 0.005*\"front_world\" + 0.005*\"see_answer\" + 0.005*\"science_community\" + 0.005*\"would_without\" + 0.005*\"represent\"\n",
      "\n",
      "Topic #3:\n",
      "==========\n",
      "0.015*\"contain\" + 0.014*\"I\" + 0.012*\"use\" + 0.012*\"file\" + 0.009*\"name\" + 0.009*\"number\" + 0.008*\"acknowledgment\" + 0.008*\"year\" + 0.008*\"information\" + 0.007*\"one\" + 0.007*\"inspiration\" + 0.006*\"set\" + 0.006*\"link\" + 0.006*\"code\" + 0.006*\"date\" + 0.006*\"user\" + 0.006*\"price\" + 0.005*\"make\" + 0.005*\"column\" + 0.005*\"city\"\n",
      "\n",
      "Topic #4:\n",
      "==========\n",
      "0.021*\"I\" + 0.015*\"use\" + 0.011*\"text\" + 0.009*\"word\" + 0.009*\"file\" + 0.007*\"find\" + 0.007*\"contain\" + 0.007*\"acknowledgment\" + 0.006*\"year\" + 0.006*\"language\" + 0.006*\"inspiration\" + 0.006*\"include\" + 0.006*\"one\" + 0.006*\"time\" + 0.006*\"make\" + 0.005*\"information\" + 0.005*\"corpus\" + 0.005*\"collection\" + 0.005*\"set\" + 0.005*\"list\"\n",
      "\n",
      "Topic #5:\n",
      "==========\n",
      "0.017*\"use\" + 0.010*\"I\" + 0.009*\"contain\" + 0.008*\"time\" + 0.008*\"information\" + 0.007*\"image\" + 0.007*\"number\" + 0.006*\"model\" + 0.006*\"score\" + 0.006*\"match\" + 0.006*\"team\" + 0.006*\"name\" + 0.005*\"include\" + 0.005*\"set\" + 0.005*\"game\" + 0.005*\"file\" + 0.005*\"column\" + 0.005*\"word\" + 0.005*\"result\" + 0.005*\"also\"\n",
      "\n",
      "Topic #6:\n",
      "==========\n",
      "0.020*\"use\" + 0.013*\"file\" + 0.010*\"include\" + 0.010*\"acknowledgment\" + 0.010*\"image\" + 0.007*\"inspiration\" + 0.007*\"contain\" + 0.007*\"open\" + 0.007*\"information\" + 0.006*\"state\" + 0.006*\"database\" + 0.005*\"column\" + 0.005*\"research\" + 0.005*\"provide\" + 0.005*\"set\" + 0.005*\"record\" + 0.005*\"I\" + 0.005*\"find\" + 0.005*\"activity\" + 0.004*\"license\"\n",
      "\n",
      "--------------------------------------------------\n",
      "\n",
      "MODEL: LDA - NUMBER OF TOPICS: 7\n"
     ]
    },
    {
     "name": "stderr",
     "output_type": "stream",
     "text": [
      " 67%|████████████████████████████████████████████████████████████████████████████████████████████████                                                | 6/9 [00:44<00:21,  7.23s/it]"
     ]
    },
    {
     "name": "stdout",
     "output_type": "stream",
     "text": [
      "Topic #1:\n",
      "==========\n",
      "0.020*\"use\" + 0.011*\"file\" + 0.011*\"number\" + 0.010*\"contain\" + 0.010*\"word\" + 0.010*\"text\" + 0.008*\"information\" + 0.007*\"include\" + 0.007*\"name\" + 0.007*\"language\" + 0.006*\"column\" + 0.006*\"time\" + 0.006*\"find\" + 0.006*\"acknowledgment\" + 0.006*\"corpus\" + 0.005*\"one\" + 0.005*\"score\" + 0.005*\"model\" + 0.005*\"provide\" + 0.005*\"list\"\n",
      "\n",
      "Topic #2:\n",
      "==========\n",
      "0.010*\"country\" + 0.010*\"college\" + 0.010*\"use\" + 0.010*\"include\" + 0.010*\"university\" + 0.009*\"state\" + 0.009*\"year\" + 0.008*\"code\" + 0.008*\"contain\" + 0.007*\"name\" + 0.006*\"acknowledgment\" + 0.006*\"number\" + 0.006*\"project\" + 0.005*\"file\" + 0.005*\"text\" + 0.005*\"collection\" + 0.005*\"score\" + 0.005*\"information\" + 0.005*\"rate\" + 0.005*\"go\"\n",
      "\n",
      "Topic #3:\n",
      "==========\n",
      "0.025*\"I\" + 0.015*\"use\" + 0.009*\"acknowledgment\" + 0.009*\"price\" + 0.009*\"file\" + 0.008*\"inspiration\" + 0.008*\"name\" + 0.007*\"information\" + 0.007*\"contain\" + 0.007*\"include\" + 0.007*\"set\" + 0.006*\"time\" + 0.005*\"work\" + 0.005*\"company\" + 0.005*\"one\" + 0.005*\"make\" + 0.005*\"provide\" + 0.004*\"open\" + 0.004*\"record\" + 0.004*\"low\"\n",
      "\n",
      "Topic #4:\n",
      "==========\n",
      "0.022*\"I\" + 0.011*\"numerical\" + 0.010*\"contain\" + 0.010*\"crime\" + 0.009*\"acknowledgment\" + 0.009*\"school\" + 0.008*\"state\" + 0.008*\"image\" + 0.008*\"inspiration\" + 0.008*\"time\" + 0.008*\"find\" + 0.007*\"race\" + 0.007*\"use\" + 0.007*\"file\" + 0.007*\"year\" + 0.006*\"number\" + 0.006*\"set\" + 0.006*\"see\" + 0.005*\"inter\" + 0.005*\"include\"\n",
      "\n",
      "Topic #5:\n",
      "==========\n",
      "0.066*\"university\" + 0.018*\"use\" + 0.013*\"contain\" + 0.013*\"state\" + 0.008*\"user\" + 0.007*\"I\" + 0.007*\"time\" + 0.006*\"day\" + 0.006*\"sweet\" + 0.006*\"year\" + 0.006*\"set\" + 0.006*\"follow\" + 0.005*\"file\" + 0.005*\"information\" + 0.005*\"model\" + 0.005*\"number\" + 0.005*\"value\" + 0.004*\"retain_model\" + 0.004*\"match\" + 0.004*\"include\"\n",
      "\n",
      "Topic #6:\n",
      "==========\n",
      "0.016*\"description_yet\" + 0.010*\"file\" + 0.009*\"word\" + 0.009*\"set\" + 0.009*\"contain\" + 0.008*\"include\" + 0.008*\"time\" + 0.007*\"use\" + 0.007*\"information\" + 0.006*\"event\" + 0.006*\"research\" + 0.006*\"date\" + 0.006*\"acknowledgment\" + 0.006*\"inspiration\" + 0.006*\"user\" + 0.005*\"number\" + 0.005*\"string\" + 0.005*\"make\" + 0.005*\"source\" + 0.004*\"article\"\n",
      "\n",
      "Topic #7:\n",
      "==========\n",
      "0.017*\"I\" + 0.012*\"use\" + 0.009*\"inspiration\" + 0.009*\"acknowledgment\" + 0.008*\"set\" + 0.007*\"image\" + 0.007*\"file\" + 0.006*\"information\" + 0.006*\"time\" + 0.006*\"year\" + 0.006*\"contain\" + 0.006*\"find\" + 0.005*\"one\" + 0.005*\"number\" + 0.005*\"research\" + 0.005*\"column\" + 0.005*\"include\" + 0.004*\"every\" + 0.004*\"represent\" + 0.004*\"large\"\n",
      "\n",
      "--------------------------------------------------\n",
      "\n",
      "MODEL: LDA - NUMBER OF TOPICS: 8\n"
     ]
    },
    {
     "name": "stderr",
     "output_type": "stream",
     "text": [
      " 78%|████████████████████████████████████████████████████████████████████████████████████████████████████████████████                                | 7/9 [00:51<00:14,  7.20s/it]"
     ]
    },
    {
     "name": "stdout",
     "output_type": "stream",
     "text": [
      "Topic #1:\n",
      "==========\n",
      "0.013*\"acknowledgment\" + 0.012*\"inspiration\" + 0.012*\"research\" + 0.011*\"large\" + 0.010*\"see_answer\" + 0.010*\"front_world\" + 0.010*\"question_want\" + 0.010*\"science_community\" + 0.010*\"would_without\" + 0.010*\"situation_past\" + 0.010*\"attribute_thank\" + 0.010*\"help_owe\" + 0.010*\"include_along\" + 0.008*\"number\" + 0.008*\"use\" + 0.008*\"represent\" + 0.008*\"make_easy\" + 0.008*\"time_period\" + 0.007*\"include\" + 0.007*\"describe_acquire\"\n",
      "\n",
      "Topic #2:\n",
      "==========\n",
      "0.016*\"description_yet\" + 0.015*\"name\" + 0.013*\"city\" + 0.011*\"score\" + 0.011*\"number\" + 0.011*\"time\" + 0.011*\"include\" + 0.010*\"state\" + 0.009*\"use\" + 0.008*\"acknowledgment\" + 0.008*\"report\" + 0.007*\"new_york\" + 0.007*\"information\" + 0.007*\"file\" + 0.007*\"contain\" + 0.007*\"image\" + 0.006*\"inspiration\" + 0.006*\"list\" + 0.005*\"date\" + 0.005*\"find\"\n",
      "\n",
      "Topic #3:\n",
      "==========\n",
      "0.022*\"use\" + 0.013*\"word\" + 0.011*\"contain\" + 0.011*\"language\" + 0.010*\"list\" + 0.010*\"acknowledgment\" + 0.009*\"price\" + 0.009*\"file\" + 0.008*\"inspiration\" + 0.008*\"information\" + 0.008*\"include\" + 0.007*\"city\" + 0.006*\"stock\" + 0.006*\"restaurant\" + 0.006*\"property\" + 0.005*\"I\" + 0.005*\"name\" + 0.005*\"find\" + 0.005*\"also\" + 0.005*\"number\"\n",
      "\n",
      "Topic #4:\n",
      "==========\n",
      "0.022*\"use\" + 0.012*\"I\" + 0.010*\"contain\" + 0.009*\"text\" + 0.008*\"file\" + 0.008*\"image\" + 0.006*\"model\" + 0.006*\"information\" + 0.006*\"acknowledgment\" + 0.006*\"word\" + 0.005*\"make\" + 0.005*\"follow\" + 0.005*\"player\" + 0.005*\"set\" + 0.005*\"inspiration\" + 0.005*\"find\" + 0.004*\"number\" + 0.004*\"time\" + 0.004*\"include\" + 0.004*\"one\"\n",
      "\n",
      "Topic #5:\n",
      "==========\n",
      "0.089*\"university\" + 0.016*\"state\" + 0.015*\"year\" + 0.014*\"college\" + 0.010*\"country\" + 0.008*\"school\" + 0.008*\"use\" + 0.008*\"number\" + 0.007*\"variable\" + 0.006*\"set\" + 0.006*\"acknowledgment\" + 0.006*\"name\" + 0.006*\"contain\" + 0.005*\"institute\" + 0.005*\"information\" + 0.005*\"car\" + 0.004*\"education\" + 0.004*\"question\" + 0.004*\"inspiration\" + 0.004*\"day\"\n",
      "\n",
      "Topic #6:\n",
      "==========\n",
      "0.021*\"I\" + 0.012*\"contain\" + 0.012*\"use\" + 0.011*\"file\" + 0.010*\"time\" + 0.008*\"set\" + 0.008*\"information\" + 0.008*\"include\" + 0.007*\"year\" + 0.007*\"acknowledgment\" + 0.007*\"inspiration\" + 0.006*\"one\" + 0.006*\"number\" + 0.006*\"column\" + 0.006*\"day\" + 0.006*\"user\" + 0.005*\"value\" + 0.005*\"find\" + 0.005*\"match\" + 0.005*\"date\"\n",
      "\n",
      "Topic #7:\n",
      "==========\n",
      "0.016*\"I\" + 0.013*\"use\" + 0.008*\"set\" + 0.008*\"word\" + 0.007*\"contain\" + 0.007*\"file\" + 0.006*\"find\" + 0.006*\"number\" + 0.006*\"review\" + 0.006*\"feature\" + 0.006*\"column\" + 0.006*\"inspiration\" + 0.006*\"information\" + 0.005*\"one\" + 0.005*\"time\" + 0.005*\"different\" + 0.005*\"make\" + 0.005*\"see\" + 0.005*\"acknowledgment\" + 0.005*\"also\"\n",
      "\n",
      "Topic #8:\n",
      "==========\n",
      "0.049*\"university\" + 0.022*\"state\" + 0.011*\"numerical\" + 0.010*\"text\" + 0.009*\"include\" + 0.008*\"use\" + 0.008*\"time\" + 0.007*\"cell\" + 0.007*\"president\" + 0.007*\"package\" + 0.007*\"group\" + 0.007*\"contain\" + 0.007*\"acknowledgment\" + 0.006*\"metadata\" + 0.006*\"file\" + 0.006*\"food\" + 0.006*\"domain\" + 0.006*\"conical\" + 0.006*\"federal\" + 0.006*\"information\"\n",
      "\n",
      "--------------------------------------------------\n",
      "\n",
      "MODEL: LDA - NUMBER OF TOPICS: 9\n"
     ]
    },
    {
     "name": "stderr",
     "output_type": "stream",
     "text": [
      " 89%|████████████████████████████████████████████████████████████████████████████████████████████████████████████████████████████████                | 8/9 [00:58<00:07,  7.12s/it]"
     ]
    },
    {
     "name": "stdout",
     "output_type": "stream",
     "text": [
      "Topic #1:\n",
      "==========\n",
      "0.016*\"image\" + 0.014*\"use\" + 0.013*\"contain\" + 0.012*\"description_yet\" + 0.011*\"file\" + 0.010*\"number\" + 0.009*\"review\" + 0.009*\"name\" + 0.008*\"score\" + 0.008*\"time\" + 0.006*\"include\" + 0.006*\"acknowledgment\" + 0.006*\"find\" + 0.006*\"information\" + 0.005*\"follow\" + 0.005*\"sweet\" + 0.005*\"inspiration\" + 0.005*\"also\" + 0.005*\"different\" + 0.004*\"class\"\n",
      "\n",
      "Topic #2:\n",
      "==========\n",
      "0.015*\"use\" + 0.011*\"acknowledgment\" + 0.010*\"inspiration\" + 0.008*\"contain\" + 0.008*\"price\" + 0.008*\"city\" + 0.007*\"file\" + 0.007*\"include\" + 0.007*\"day\" + 0.007*\"text\" + 0.007*\"research\" + 0.006*\"number\" + 0.006*\"I\" + 0.006*\"time\" + 0.006*\"name\" + 0.006*\"open\" + 0.006*\"represent\" + 0.005*\"make\" + 0.005*\"information\" + 0.005*\"new_york\"\n",
      "\n",
      "Topic #3:\n",
      "==========\n",
      "0.019*\"use\" + 0.018*\"word\" + 0.010*\"information\" + 0.008*\"contain\" + 0.007*\"number\" + 0.007*\"user\" + 0.006*\"include\" + 0.006*\"acknowledgment\" + 0.006*\"list\" + 0.006*\"I\" + 0.005*\"column\" + 0.005*\"year\" + 0.005*\"inspiration\" + 0.005*\"set\" + 0.005*\"one\" + 0.005*\"car\" + 0.005*\"restaurant\" + 0.005*\"game\" + 0.005*\"time\" + 0.004*\"find\"\n",
      "\n",
      "Topic #4:\n",
      "==========\n",
      "0.017*\"use\" + 0.011*\"retain_model\" + 0.009*\"contain\" + 0.008*\"file\" + 0.007*\"year\" + 0.007*\"accuracy\" + 0.007*\"set\" + 0.007*\"total\" + 0.007*\"model\" + 0.007*\"x\" + 0.006*\"deep\" + 0.006*\"small\" + 0.005*\"one\" + 0.005*\"I\" + 0.005*\"acknowledgment\" + 0.005*\"example\" + 0.005*\"song\" + 0.005*\"different\" + 0.005*\"water\" + 0.005*\"train\"\n",
      "\n",
      "Topic #5:\n",
      "==========\n",
      "0.110*\"university\" + 0.023*\"state\" + 0.015*\"college\" + 0.010*\"information\" + 0.009*\"use\" + 0.009*\"include\" + 0.007*\"school\" + 0.006*\"set\" + 0.006*\"package\" + 0.006*\"metadata\" + 0.006*\"contain\" + 0.006*\"acknowledgment\" + 0.006*\"collection\" + 0.005*\"language\" + 0.005*\"conical\" + 0.005*\"file\" + 0.005*\"I\" + 0.005*\"find\" + 0.005*\"south\" + 0.005*\"institute\"\n",
      "\n",
      "Topic #6:\n",
      "==========\n",
      "0.011*\"use\" + 0.011*\"contain\" + 0.009*\"I\" + 0.008*\"time\" + 0.007*\"number\" + 0.007*\"one\" + 0.007*\"information\" + 0.007*\"match\" + 0.006*\"year\" + 0.006*\"game\" + 0.006*\"player\" + 0.005*\"acknowledgment\" + 0.005*\"set\" + 0.005*\"date\" + 0.005*\"inspiration\" + 0.005*\"file\" + 0.005*\"find\" + 0.004*\"season\" + 0.004*\"model\" + 0.004*\"available\"\n",
      "\n",
      "Topic #7:\n",
      "==========\n",
      "0.016*\"use\" + 0.012*\"file\" + 0.011*\"set\" + 0.009*\"contain\" + 0.008*\"include\" + 0.007*\"code\" + 0.007*\"column\" + 0.007*\"company\" + 0.007*\"information\" + 0.007*\"time\" + 0.006*\"collect\" + 0.006*\"acknowledgment\" + 0.006*\"survey\" + 0.005*\"variable\" + 0.005*\"one\" + 0.005*\"cluster\" + 0.005*\"inspiration\" + 0.005*\"work\" + 0.005*\"may\" + 0.005*\"sentence\"\n",
      "\n",
      "Topic #8:\n",
      "==========\n",
      "0.030*\"I\" + 0.014*\"use\" + 0.011*\"file\" + 0.009*\"set\" + 0.008*\"acknowledgment\" + 0.008*\"inspiration\" + 0.008*\"contain\" + 0.007*\"include\" + 0.007*\"time\" + 0.006*\"name\" + 0.006*\"find\" + 0.006*\"year\" + 0.006*\"one\" + 0.006*\"column\" + 0.005*\"information\" + 0.005*\"see\" + 0.005*\"number\" + 0.005*\"make\" + 0.005*\"source\" + 0.004*\"user\"\n",
      "\n",
      "Topic #9:\n",
      "==========\n",
      "0.015*\"I\" + 0.014*\"use\" + 0.012*\"number\" + 0.010*\"text\" + 0.009*\"file\" + 0.008*\"corpus\" + 0.008*\"column\" + 0.008*\"contain\" + 0.007*\"name\" + 0.006*\"team\" + 0.006*\"player\" + 0.006*\"word\" + 0.006*\"make\" + 0.006*\"inspiration\" + 0.005*\"acknowledgment\" + 0.005*\"year\" + 0.005*\"time\" + 0.005*\"go\" + 0.005*\"space\" + 0.005*\"information\"\n",
      "\n",
      "--------------------------------------------------\n",
      "\n",
      "MODEL: LDA - NUMBER OF TOPICS: 10\n"
     ]
    },
    {
     "name": "stderr",
     "output_type": "stream",
     "text": [
      "100%|████████████████████████████████████████████████████████████████████████████████████████████████████████████████████████████████████████████████| 9/9 [01:05<00:00,  7.25s/it]"
     ]
    },
    {
     "name": "stdout",
     "output_type": "stream",
     "text": [
      "Topic #1:\n",
      "==========\n",
      "0.013*\"use\" + 0.012*\"price\" + 0.012*\"review\" + 0.011*\"contain\" + 0.011*\"include\" + 0.009*\"acknowledgment\" + 0.009*\"I\" + 0.009*\"information\" + 0.009*\"year\" + 0.008*\"city\" + 0.008*\"list\" + 0.007*\"file\" + 0.007*\"inspiration\" + 0.006*\"word\" + 0.006*\"stock\" + 0.005*\"total\" + 0.005*\"provide\" + 0.005*\"new_york\" + 0.005*\"make\" + 0.005*\"name\"\n",
      "\n",
      "Topic #2:\n",
      "==========\n",
      "0.032*\"I\" + 0.017*\"use\" + 0.011*\"inspiration\" + 0.010*\"acknowledgment\" + 0.008*\"set\" + 0.007*\"contain\" + 0.007*\"number\" + 0.006*\"find\" + 0.006*\"day\" + 0.006*\"one\" + 0.006*\"research\" + 0.006*\"time\" + 0.005*\"many\" + 0.005*\"file\" + 0.005*\"sweet\" + 0.005*\"information\" + 0.005*\"model\" + 0.005*\"image\" + 0.005*\"every\" + 0.005*\"would\"\n",
      "\n",
      "Topic #3:\n",
      "==========\n",
      "0.022*\"university\" + 0.014*\"team\" + 0.013*\"player\" + 0.012*\"image\" + 0.012*\"score\" + 0.011*\"time\" + 0.010*\"I\" + 0.008*\"number\" + 0.008*\"college\" + 0.008*\"state\" + 0.008*\"game\" + 0.008*\"information\" + 0.007*\"contain\" + 0.007*\"use\" + 0.007*\"run\" + 0.006*\"point\" + 0.006*\"defense\" + 0.006*\"set\" + 0.006*\"attack\" + 0.006*\"include\"\n",
      "\n",
      "Topic #4:\n",
      "==========\n",
      "0.019*\"retain_model\" + 0.018*\"use\" + 0.012*\"model\" + 0.010*\"back\" + 0.010*\"contain\" + 0.010*\"low\" + 0.009*\"depth\" + 0.009*\"architecture\" + 0.009*\"small\" + 0.009*\"accuracy\" + 0.008*\"property\" + 0.008*\"achieve\" + 0.007*\"learn_feature\" + 0.007*\"point\" + 0.007*\"time\" + 0.006*\"pain\" + 0.006*\"include\" + 0.006*\"deep\" + 0.005*\"may\" + 0.005*\"show\"\n",
      "\n",
      "Topic #5:\n",
      "==========\n",
      "0.022*\"file\" + 0.016*\"use\" + 0.015*\"text\" + 0.012*\"contain\" + 0.008*\"include\" + 0.007*\"name\" + 0.006*\"I\" + 0.006*\"de\" + 0.005*\"acknowledgment\" + 0.005*\"information\" + 0.005*\"column\" + 0.005*\"time\" + 0.005*\"numerical\" + 0.005*\"original\" + 0.005*\"collection\" + 0.005*\"number\" + 0.004*\"one\" + 0.004*\"date\" + 0.004*\"set\" + 0.004*\"page\"\n",
      "\n",
      "Topic #6:\n",
      "==========\n",
      "0.019*\"use\" + 0.018*\"word\" + 0.009*\"contain\" + 0.007*\"file\" + 0.007*\"acknowledgment\" + 0.006*\"set\" + 0.006*\"include\" + 0.006*\"number\" + 0.006*\"time\" + 0.006*\"information\" + 0.006*\"column\" + 0.005*\"corpus\" + 0.005*\"line\" + 0.005*\"follow\" + 0.005*\"inspiration\" + 0.005*\"c\" + 0.005*\"activity\" + 0.004*\"one\" + 0.004*\"group\" + 0.004*\"base\"\n",
      "\n",
      "Topic #7:\n",
      "==========\n",
      "0.017*\"use\" + 0.011*\"set\" + 0.010*\"match\" + 0.009*\"user\" + 0.009*\"name\" + 0.009*\"I\" + 0.009*\"information\" + 0.008*\"contain\" + 0.007*\"include\" + 0.007*\"tag\" + 0.007*\"move\" + 0.006*\"file\" + 0.006*\"collection\" + 0.006*\"one\" + 0.006*\"year\" + 0.006*\"south\" + 0.006*\"column\" + 0.006*\"make\" + 0.005*\"american\" + 0.005*\"rating\"\n",
      "\n",
      "Topic #8:\n",
      "==========\n",
      "0.049*\"university\" + 0.014*\"use\" + 0.011*\"state\" + 0.008*\"contain\" + 0.008*\"number\" + 0.007*\"include\" + 0.007*\"file\" + 0.007*\"language\" + 0.007*\"acknowledgment\" + 0.006*\"date\" + 0.006*\"image\" + 0.006*\"information\" + 0.006*\"database\" + 0.005*\"time\" + 0.005*\"text\" + 0.005*\"inspiration\" + 0.005*\"crime\" + 0.005*\"corpus\" + 0.005*\"set\" + 0.004*\"report\"\n",
      "\n",
      "Topic #9:\n",
      "==========\n",
      "0.015*\"I\" + 0.012*\"use\" + 0.009*\"name\" + 0.009*\"time\" + 0.008*\"contain\" + 0.008*\"file\" + 0.008*\"information\" + 0.008*\"city\" + 0.007*\"number\" + 0.007*\"acknowledgment\" + 0.007*\"find\" + 0.007*\"feature\" + 0.007*\"inspiration\" + 0.006*\"code\" + 0.006*\"see\" + 0.006*\"year\" + 0.006*\"include\" + 0.005*\"one\" + 0.005*\"set\" + 0.005*\"column\"\n",
      "\n",
      "Topic #10:\n",
      "==========\n",
      "0.045*\"description_yet\" + 0.018*\"school\" + 0.012*\"animal\" + 0.011*\"year\" + 0.010*\"food\" + 0.009*\"acknowledgment\" + 0.009*\"inspiration\" + 0.007*\"information\" + 0.007*\"use\" + 0.007*\"contain\" + 0.007*\"county\" + 0.007*\"name\" + 0.006*\"I\" + 0.006*\"include\" + 0.006*\"file\" + 0.006*\"water\" + 0.006*\"area\" + 0.006*\"number\" + 0.005*\"state\" + 0.005*\"source\"\n",
      "\n",
      "--------------------------------------------------\n",
      "   Number of Topics  Coherence Score\n",
      "0                 2           0.4158\n",
      "1                 3           0.4499\n",
      "2                 4           0.4443\n",
      "3                 5           0.4315\n",
      "4                 6           0.4231\n",
      "5                 7           0.4030\n",
      "6                 8           0.4424\n",
      "7                 9           0.4057\n",
      "8                10           0.3933\n"
     ]
    },
    {
     "name": "stderr",
     "output_type": "stream",
     "text": [
      "\n"
     ]
    },
    {
     "data": {
      "image/png": "[encoded data removed]",
      "text/plain": [
       "<Figure size 1080x864 with 1 Axes>"
      ]
     },
     "metadata": {
      "needs_background": "light"
     },
     "output_type": "display_data"
    },
    {
     "data": {
      "image/png": "[encoded data removed]",
      "text/plain": [
       "<Figure size 1080x864 with 1 Axes>"
      ]
     },
     "metadata": {},
     "output_type": "display_data"
    }
   ],
   "source": [
    "for MODEL_NAME in MODEL_NAMES:\n",
    "\n",
    "    models, coherence_scores = tba3102.topic_model_coherence_generator(model_name = MODEL_NAME,\n",
    "                                                                       corpus=bow_corpus,\n",
    "                                                                       texts=corpus_bigrams,\n",
    "                                                                       dictionary=dictionary,\n",
    "                                                                       start_topic_count=START_TOPIC_COUNT,\n",
    "                                                                       end_topic_count=END_TOPIC_COUNT,\n",
    "                                                                       step=1,\n",
    "                                                                       cpus=-1,\n",
    "                                                                       print_topics=True)\n",
    "\n",
    "    coherence_df = pd.DataFrame({'Number of Topics': range(START_TOPIC_COUNT, END_TOPIC_COUNT + 1, 1), 'Coherence Score': np.round(coherence_scores, 4)})\n",
    "    coherence_df.sort_values(by=['Coherence Score'], ascending=False).head(10)\n",
    "    print(coherence_df)\n",
    "\n",
    "    x_ax = range(START_TOPIC_COUNT, END_TOPIC_COUNT + 1, 1)\n",
    "    y_ax = coherence_scores\n",
    "    plt.figure(num=model_count, figsize=(15, 12))\n",
    "    plt.plot(x_ax, y_ax, c='r')\n",
    "    plt.axhline(y=0.3, c='k', linestyle='--', linewidth=2)\n",
    "    plt.axhline(y=0.4, c='k', linestyle='--', linewidth=2)\n",
    "    plt.axhline(y=0.5, c='k', linestyle='--', linewidth=2)\n",
    "    plt.rcParams['figure.facecolor'] = 'white'\n",
    "    xl = plt.xlabel('Number of Topics')\n",
    "    yl = plt.ylabel('Coherence Score')\n",
    "\n",
    "    model_count += 1\n",
    "\n",
    "plt.show()"
   ]
  },
  {
   "cell_type": "code",
   "execution_count": 5,
   "metadata": {},
   "outputs": [
    {
     "name": "stdout",
     "output_type": "stream",
     "text": [
      "Text processing ended at 2023-03-19 10:03:23.177576\n"
     ]
    }
   ],
   "source": [
    "print('Text processing ended at {}'.format(datetime.now()))"
   ]
  }
 ],
 "metadata": {
  "kernelspec": {
   "display_name": "Python 3",
   "language": "python",
   "name": "python3"
  },
  "language_info": {
   "codemirror_mode": {
    "name": "ipython",
    "version": 3
   },
   "file_extension": ".py",
   "mimetype": "text/x-python",
   "name": "python",
   "nbconvert_exporter": "python",
   "pygments_lexer": "ipython3",
   "version": "3.9.4"
  }
 },
 "nbformat": 4,
 "nbformat_minor": 4
}
