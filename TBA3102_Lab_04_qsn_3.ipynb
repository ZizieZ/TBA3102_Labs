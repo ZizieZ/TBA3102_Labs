{
 "cells": [
  {
   "cell_type": "markdown",
   "id": "b38b582b-d006-4ff9-a9e4-f4b58d8a423d",
   "metadata": {},
   "source": [
    "# Question 3 - Data Preprocessing\n",
    "## Libraries for question 3"
   ]
  },
  {
   "cell_type": "code",
   "execution_count": 45,
   "id": "6ba0fa52-33e8-4c97-93cd-77eee53bdb51",
   "metadata": {},
   "outputs": [],
   "source": [
    "# Data Wrangling\n",
    "import numpy as np\n",
    "import pandas as pd\n",
    "\n",
    "# NLP\n",
    "import nltk\n",
    "import re\n",
    "#import text_normalizer as tn\n",
    "import contractions\n",
    "import unicodedata\n",
    "from nltk.corpus import wordnet\n",
    "from textblob import Word\n",
    "\n",
    "# Math\n",
    "from scipy import stats\n",
    "\n",
    "# Data Visualization\n",
    "import seaborn as sns\n",
    "from matplotlib import pyplot as plt"
   ]
  },
  {
   "cell_type": "markdown",
   "id": "507362c2-7c5e-4785-a37b-97fd87541f92",
   "metadata": {},
   "source": [
    "<b> Other hints </b></n>\n",
    "Most of the methods and answers are in the class lab 03\n",
    "3iv is to get us to come up with conclusion manually without any models or sentiments. What kind of models or application can we try or apply to improve the process.\n",
    "\n",
    "For question 1/when importing, we should also specify the dtype for the dataframe to ensure that the data are imported correctly."
   ]
  },
  {
   "cell_type": "code",
   "execution_count": 34,
   "id": "6ee93ad9-61be-4d01-a8ec-5d1e847ecc67",
   "metadata": {},
   "outputs": [
    {
     "name": "stdout",
     "output_type": "stream",
     "text": [
      "<class 'pandas.core.frame.DataFrame'>\n",
      "RangeIndex: 34128 entries, 0 to 34127\n",
      "Data columns (total 9 columns):\n",
      " #   Column               Non-Null Count  Dtype \n",
      "---  ------               --------------  ----- \n",
      " 0   asins                34128 non-null  string\n",
      " 1   name                 27440 non-null  string\n",
      " 2   brand                34128 non-null  string\n",
      " 3   categories           34128 non-null  string\n",
      " 4   reviews.doRecommend  34128 non-null  bool  \n",
      " 5   reviews.numHelpful   34128 non-null  int64 \n",
      " 6   reviews.rating       34128 non-null  int64 \n",
      " 7   reviews.text         34128 non-null  string\n",
      " 8   reviews.title        34128 non-null  string\n",
      "dtypes: bool(1), int64(2), string(6)\n",
      "memory usage: 2.1 MB\n"
     ]
    }
   ],
   "source": [
    "# Import data with specified dtypes\n",
    "# Col data types\n",
    "type_dict = {'asins': 'string',\n",
    "            'name': 'string',\n",
    "            'brand': 'string',\n",
    "            'categories': 'string',\n",
    "            'reviews.doRecommend': bool,\n",
    "            'reviews.numHelpful': 'int64',\n",
    "             'reviews.rating': 'int64',\n",
    "            'reviews.text': 'string',\n",
    "            'reviews.title': 'string'}\n",
    "\n",
    "# import dataframe with specified datatypes\n",
    "df = pd.read_csv('./data/q1.csv', dtype = type_dict)\n",
    "df.info()"
   ]
  },
  {
   "cell_type": "code",
   "execution_count": 58,
   "id": "1283ae76-edf2-4f23-9acb-f2074b62fd24",
   "metadata": {},
   "outputs": [
    {
     "name": "stdout",
     "output_type": "stream",
     "text": [
      "těxt: You're happy  nOwwww.\n",
      "Yes 54088\n",
      "\n",
      "SóměTimes   Happier THan  Usal!\n"
     ]
    }
   ],
   "source": [
    "# 3a. Cleaning review\n",
    "sample_text = f\"těxt: You're happy  nOwwww.\\nYes 54088\\n\\nSóměTimes   Happier THan  Usal!\"\n",
    "print(sample_text)"
   ]
  },
  {
   "cell_type": "code",
   "execution_count": 59,
   "id": "1806596a-9a24-45ea-8083-1959d6cb5c13",
   "metadata": {},
   "outputs": [
    {
     "name": "stdout",
     "output_type": "stream",
     "text": [
      "text: You're happy  nOwwww.\n",
      "Yes 54088\n",
      "\n",
      "SomeTimes   Happier THan  Usal!\n"
     ]
    }
   ],
   "source": [
    "# Helper function to revert accented characters to normal text\n",
    "def remove_accented_chars(sent):    \n",
    "    sent = unicodedata.normalize('NFKD', sent).encode('ascii', 'ignore').decode('utf-8', 'ignore')\n",
    "    return sent\n",
    "\n",
    "sample_fixed = remove_accented_chars(sample_text)\n",
    "print(sample_fixed)"
   ]
  },
  {
   "cell_type": "code",
   "execution_count": 60,
   "id": "1a80d00e-985f-4d54-ba2a-c4e002c9dddb",
   "metadata": {},
   "outputs": [
    {
     "name": "stdout",
     "output_type": "stream",
     "text": [
      "těxt: You are happy  nOwwww.\n",
      "Yes 54088\n",
      "\n",
      "SóměTimes   Happier THan  Usal!\n"
     ]
    }
   ],
   "source": [
    "# Helper function to fix contractions\n",
    "def fix_contractions(sent):\n",
    "    sent = contractions.fix(sent)\n",
    "    return sent\n",
    "\n",
    "sample_fixed = fix_contractions(sample_text)\n",
    "print(sample_fixed)"
   ]
  },
  {
   "cell_type": "code",
   "execution_count": 61,
   "id": "5e8dcfea-8218-4551-9c50-d290c4a778f7",
   "metadata": {},
   "outputs": [
    {
     "name": "stdout",
     "output_type": "stream",
     "text": [
      "těxt: you're happy  nowwww.\n",
      "yes 54088\n",
      "\n",
      "sómětimes   happier than  usal!\n"
     ]
    }
   ],
   "source": [
    "# Helper function to convert lowercase, remove additional whitespaces and additional newlines\n",
    "def lower_cleaning(sent):\n",
    "    sent = sent.lower()\n",
    "    return sent\n",
    "\n",
    "sample_fixed = lower_cleaning(sample_text)\n",
    "print(sample_fixed)"
   ]
  },
  {
   "cell_type": "code",
   "execution_count": 62,
   "id": "b4d7facc-91a3-4e8b-89ce-4c3572f78210",
   "metadata": {},
   "outputs": [
    {
     "name": "stdout",
     "output_type": "stream",
     "text": [
      "těxt: You're happy nOwwww.\n",
      "Yes 54088\n",
      "\n",
      "SóměTimes Happier THan Usal!\n"
     ]
    }
   ],
   "source": [
    "# Helper function to remove additional whitespaces\n",
    "def whitespaces_cleaning(sent):\n",
    "    sent = re.sub(\" +\", \" \", sent)\n",
    "    return sent\n",
    "\n",
    "sample_fixed = whitespaces_cleaning(sample_text)\n",
    "print(sample_fixed)"
   ]
  },
  {
   "cell_type": "code",
   "execution_count": 63,
   "id": "27d72382-a539-4483-aba5-338b60fab8f6",
   "metadata": {},
   "outputs": [
    {
     "name": "stdout",
     "output_type": "stream",
     "text": [
      "těxt: You're happy  nOwwww.\n",
      "Yes 54088\n",
      "SóměTimes   Happier THan  Usal!\n"
     ]
    }
   ],
   "source": [
    "# Helper function to remove additional newlines\n",
    "def newlines_cleaning(sent):\n",
    "    sent = re.sub(\"\\n+\", \"\\n\", sent)\n",
    "    return sent\n",
    "\n",
    "sample_fixed = newlines_cleaning(sample_text)\n",
    "print(sample_fixed)"
   ]
  },
  {
   "cell_type": "code",
   "execution_count": 64,
   "id": "fe9766ac-54d5-4ba2-9ecd-7d94e8382325",
   "metadata": {},
   "outputs": [
    {
     "name": "stdout",
     "output_type": "stream",
     "text": [
      "text Youre happy  nOwwww\n",
      "Yes \n",
      "\n",
      "SomeTimes   Happier THan  Usal\n",
      "text Youre happy  nOwwww\n",
      "Yes 54088\n",
      "\n",
      "SomeTimes   Happier THan  Usal\n"
     ]
    }
   ],
   "source": [
    "def remove_special_characters(sent, remove_digits = False):\n",
    "    \n",
    "    pattern = r'[^a-zA-z0-9\\s]' if not remove_digits else r'[^a-zA-z\\s]'\n",
    "    sent = re.sub(pattern, '', sent)\n",
    "    return sent\n",
    "\n",
    "sample_text2 = remove_accented_chars(sample_text)\n",
    "print(remove_special_characters(sample_text2, True))\n",
    "print(remove_special_characters(sample_text2, False))"
   ]
  },
  {
   "cell_type": "code",
   "execution_count": 65,
   "id": "11826817-8a43-42ea-a220-0548e52c1a1c",
   "metadata": {},
   "outputs": [
    {
     "name": "stdout",
     "output_type": "stream",
     "text": [
      "['text', ':', 'You', \"'re\", 'happy', 'nOw', '.', 'Yes', '5408', 'SomeTimes', 'Happier', 'THan', 'Usal', '!']\n"
     ]
    }
   ],
   "source": [
    "def remove_repeated_characters(tokens):\n",
    "    \n",
    "    repeat_pattern = re.compile(r'(\\w*)(\\w)\\2(\\w*)')\n",
    "    match_substitution = r'\\1\\2\\3'\n",
    "    \n",
    "    def replace(old_word):\n",
    "        \n",
    "        if wordnet.synsets(old_word):\n",
    "            \n",
    "            return old_word\n",
    "            \n",
    "        new_word = repeat_pattern.sub(match_substitution, old_word)\n",
    "        return replace(new_word) if new_word != old_word else new_word\n",
    "    \n",
    "    correct_tokens = [replace(word) for word in tokens]\n",
    "    \n",
    "    return correct_tokens\n",
    "\n",
    "default_wt = nltk.word_tokenize\n",
    "sample_tokens = default_wt(sample_text2)\n",
    "print(remove_repeated_characters(sample_tokens))"
   ]
  },
  {
   "cell_type": "code",
   "execution_count": 66,
   "id": "d86b4c47-0f27-4708-804d-871e46202afa",
   "metadata": {},
   "outputs": [
    {
     "name": "stdout",
     "output_type": "stream",
     "text": [
      "['text', ':', 'You', 'are', 'happy', 'now', '.', 'Yes', '5408', 'sometimes', 'Happier', 'an', 'Sal', '!']\n"
     ]
    }
   ],
   "source": [
    "def correct_spellings(tokens):\n",
    "    \n",
    "    correct_tokens = [Word(word).correct() for word in tokens]\n",
    "    return correct_tokens\n",
    "\n",
    "default_wt = nltk.word_tokenize\n",
    "sample_text3 = fix_contractions(sample_text2)\n",
    "sample_tokens = default_wt(sample_text3)\n",
    "sample_tokens = remove_repeated_characters(sample_tokens)\n",
    "print(correct_spellings(sample_tokens))"
   ]
  },
  {
   "cell_type": "code",
   "execution_count": 68,
   "id": "5ae33c4b-ed6c-4c93-a49f-a9c393f7e35b",
   "metadata": {},
   "outputs": [
    {
     "name": "stdout",
     "output_type": "stream",
     "text": [
      "['text', 'you', 'are', 'happy', 'now', 'yes', 'sometimes', 'happier', 'than', 'usual']\n"
     ]
    }
   ],
   "source": [
    "# Main function for cleaning each sentence\n",
    "def clean_review(review, accent = True, contract = True, lower = True, whitespaces = True,\n",
    "                 newlines = True, remove_special = True, remove_digit = True,\n",
    "                 repeat = True, spelling = True):\n",
    "        \n",
    "        # Clean accented characters\n",
    "        if accent:\n",
    "            review = remove_accented_chars(review)\n",
    "            \n",
    "        # Expand contractions\n",
    "        if contract:\n",
    "            review = fix_contractions(review)\n",
    "            \n",
    "        # lowercase characters\n",
    "        if lower:\n",
    "            review = lower_cleaning(review)\n",
    "            \n",
    "        # extra whitespaces\n",
    "        if whitespaces:\n",
    "            review = whitespaces_cleaning(review)\n",
    "        \n",
    "        # extra newlines\n",
    "        if newlines:\n",
    "            review = newlines_cleaning(review)\n",
    "            \n",
    "        # Special characters & digits\n",
    "        if remove_special and remove_digit:\n",
    "            review = remove_special_characters(review, True)\n",
    "        elif remove_special and not remove_digit:\n",
    "            review = remove_special_characters(review, False)\n",
    "            \n",
    "        # Tokenize review with nltk word tokenizer\n",
    "        default_wt = nltk.word_tokenize\n",
    "        tokens = default_wt(review)\n",
    "        \n",
    "        # Remove repeating characters from tokens\n",
    "        if repeat:\n",
    "            tokens = remove_repeated_characters(tokens)\n",
    "            \n",
    "        # Correct spellings\n",
    "        if spelling:\n",
    "            tokens = correct_spellings(tokens)\n",
    "            \n",
    "        return tokens\n",
    "            \n",
    "print(clean_review(sample_text))"
   ]
  },
  {
   "cell_type": "code",
   "execution_count": 69,
   "id": "dc1e08c1-b94c-4c29-96eb-1bbf2f47cee3",
   "metadata": {},
   "outputs": [
    {
     "name": "stdout",
     "output_type": "stream",
     "text": [
      "<class 'pandas.core.frame.DataFrame'>\n",
      "RangeIndex: 34128 entries, 0 to 34127\n",
      "Data columns (total 10 columns):\n",
      " #   Column                Non-Null Count  Dtype \n",
      "---  ------                --------------  ----- \n",
      " 0   asins                 34128 non-null  string\n",
      " 1   name                  27440 non-null  string\n",
      " 2   brand                 34128 non-null  string\n",
      " 3   categories            34128 non-null  string\n",
      " 4   reviews.doRecommend   34128 non-null  bool  \n",
      " 5   reviews.numHelpful    34128 non-null  int64 \n",
      " 6   reviews.rating        34128 non-null  int64 \n",
      " 7   reviews.text          34128 non-null  string\n",
      " 8   reviews.title         34128 non-null  string\n",
      " 9   reviews.text_cleaned  34128 non-null  object\n",
      "dtypes: bool(1), int64(2), object(1), string(6)\n",
      "memory usage: 2.4+ MB\n"
     ]
    }
   ],
   "source": [
    "# 3b. Saving as column text_cleaned\n",
    "cleaned_df = df.copy()\n",
    "cleaned_df['reviews.text_cleaned'] = cleaned_df['reviews.text'].apply(clean_review)\n",
    "cleaned_df.info()"
   ]
  },
  {
   "cell_type": "code",
   "execution_count": 70,
   "id": "19cc5834-126d-4617-b975-272d70c405a2",
   "metadata": {},
   "outputs": [
    {
     "data": {
      "text/html": [
       "<div>\n",
       "<style scoped>\n",
       "    .dataframe tbody tr th:only-of-type {\n",
       "        vertical-align: middle;\n",
       "    }\n",
       "\n",
       "    .dataframe tbody tr th {\n",
       "        vertical-align: top;\n",
       "    }\n",
       "\n",
       "    .dataframe thead th {\n",
       "        text-align: right;\n",
       "    }\n",
       "</style>\n",
       "<table border=\"1\" class=\"dataframe\">\n",
       "  <thead>\n",
       "    <tr style=\"text-align: right;\">\n",
       "      <th></th>\n",
       "      <th>asins</th>\n",
       "      <th>name</th>\n",
       "      <th>brand</th>\n",
       "      <th>categories</th>\n",
       "      <th>reviews.doRecommend</th>\n",
       "      <th>reviews.numHelpful</th>\n",
       "      <th>reviews.rating</th>\n",
       "      <th>reviews.text</th>\n",
       "      <th>reviews.title</th>\n",
       "      <th>reviews.text_cleaned</th>\n",
       "    </tr>\n",
       "  </thead>\n",
       "  <tbody>\n",
       "    <tr>\n",
       "      <th>27501</th>\n",
       "      <td>B00L9EPT8O,B01E6AO69U</td>\n",
       "      <td>&lt;NA&gt;</td>\n",
       "      <td>Amazon</td>\n",
       "      <td>Stereos,Remote Controls,Amazon Echo,Audio Dock...</td>\n",
       "      <td>True</td>\n",
       "      <td>0</td>\n",
       "      <td>5</td>\n",
       "      <td>I use I daily for news, weather and music. It'...</td>\n",
       "      <td>Great voice assistant</td>\n",
       "      <td>[i, use, i, daily, for, news, weather, and, mu...</td>\n",
       "    </tr>\n",
       "    <tr>\n",
       "      <th>13353</th>\n",
       "      <td>B018Y229OU</td>\n",
       "      <td>Fire Tablet, 7 Display, Wi-Fi, 8 GB - Includes...</td>\n",
       "      <td>Amazon</td>\n",
       "      <td>Fire Tablets,Tablets,Computers &amp; Tablets,All T...</td>\n",
       "      <td>True</td>\n",
       "      <td>0</td>\n",
       "      <td>5</td>\n",
       "      <td>Great tablet for kids I would buy more if I ne...</td>\n",
       "      <td>Great tablet for the money</td>\n",
       "      <td>[great, tablet, for, kiss, i, would, buy, more...</td>\n",
       "    </tr>\n",
       "    <tr>\n",
       "      <th>18193</th>\n",
       "      <td>B00OQVZDJM</td>\n",
       "      <td>Amazon Kindle Paperwhite - eBook reader - 4 GB...</td>\n",
       "      <td>Amazon</td>\n",
       "      <td>Walmart for Business,Office Electronics,Tablet...</td>\n",
       "      <td>True</td>\n",
       "      <td>1</td>\n",
       "      <td>5</td>\n",
       "      <td>It is very easy to read, no glare at all, easy...</td>\n",
       "      <td>I love this Kindle!</td>\n",
       "      <td>[it, is, very, easy, to, read, no, glare, at, ...</td>\n",
       "    </tr>\n",
       "    <tr>\n",
       "      <th>4258</th>\n",
       "      <td>B018Y229OU</td>\n",
       "      <td>Fire Tablet, 7 Display, Wi-Fi, 8 GB - Includes...</td>\n",
       "      <td>Amazon</td>\n",
       "      <td>Fire Tablets,Tablets,Computers &amp; Tablets,All T...</td>\n",
       "      <td>True</td>\n",
       "      <td>0</td>\n",
       "      <td>3</td>\n",
       "      <td>Somewhat substandard. iPads are certainly bett...</td>\n",
       "      <td>An OK Tablet</td>\n",
       "      <td>[somewhat, substandard, pads, are, certainly, ...</td>\n",
       "    </tr>\n",
       "    <tr>\n",
       "      <th>33412</th>\n",
       "      <td>B00U3FPN4U</td>\n",
       "      <td>&lt;NA&gt;</td>\n",
       "      <td>Amazon Fire Tv</td>\n",
       "      <td>Back To College,College Electronics,College Tv...</td>\n",
       "      <td>True</td>\n",
       "      <td>0</td>\n",
       "      <td>5</td>\n",
       "      <td>I bought this main to give me control of my Ec...</td>\n",
       "      <td>Great companion to Amazon Echo(Alexa)</td>\n",
       "      <td>[i, bought, this, main, to, give, me, control,...</td>\n",
       "    </tr>\n",
       "  </tbody>\n",
       "</table>\n",
       "</div>"
      ],
      "text/plain": [
       "                       asins  \\\n",
       "27501  B00L9EPT8O,B01E6AO69U   \n",
       "13353             B018Y229OU   \n",
       "18193             B00OQVZDJM   \n",
       "4258              B018Y229OU   \n",
       "33412             B00U3FPN4U   \n",
       "\n",
       "                                                    name           brand  \\\n",
       "27501                                               <NA>          Amazon   \n",
       "13353  Fire Tablet, 7 Display, Wi-Fi, 8 GB - Includes...          Amazon   \n",
       "18193  Amazon Kindle Paperwhite - eBook reader - 4 GB...          Amazon   \n",
       "4258   Fire Tablet, 7 Display, Wi-Fi, 8 GB - Includes...          Amazon   \n",
       "33412                                               <NA>  Amazon Fire Tv   \n",
       "\n",
       "                                              categories  reviews.doRecommend  \\\n",
       "27501  Stereos,Remote Controls,Amazon Echo,Audio Dock...                 True   \n",
       "13353  Fire Tablets,Tablets,Computers & Tablets,All T...                 True   \n",
       "18193  Walmart for Business,Office Electronics,Tablet...                 True   \n",
       "4258   Fire Tablets,Tablets,Computers & Tablets,All T...                 True   \n",
       "33412  Back To College,College Electronics,College Tv...                 True   \n",
       "\n",
       "       reviews.numHelpful  reviews.rating  \\\n",
       "27501                   0               5   \n",
       "13353                   0               5   \n",
       "18193                   1               5   \n",
       "4258                    0               3   \n",
       "33412                   0               5   \n",
       "\n",
       "                                            reviews.text  \\\n",
       "27501  I use I daily for news, weather and music. It'...   \n",
       "13353  Great tablet for kids I would buy more if I ne...   \n",
       "18193  It is very easy to read, no glare at all, easy...   \n",
       "4258   Somewhat substandard. iPads are certainly bett...   \n",
       "33412  I bought this main to give me control of my Ec...   \n",
       "\n",
       "                               reviews.title  \\\n",
       "27501                  Great voice assistant   \n",
       "13353             Great tablet for the money   \n",
       "18193                    I love this Kindle!   \n",
       "4258                            An OK Tablet   \n",
       "33412  Great companion to Amazon Echo(Alexa)   \n",
       "\n",
       "                                    reviews.text_cleaned  \n",
       "27501  [i, use, i, daily, for, news, weather, and, mu...  \n",
       "13353  [great, tablet, for, kiss, i, would, buy, more...  \n",
       "18193  [it, is, very, easy, to, read, no, glare, at, ...  \n",
       "4258   [somewhat, substandard, pads, are, certainly, ...  \n",
       "33412  [i, bought, this, main, to, give, me, control,...  "
      ]
     },
     "execution_count": 70,
     "metadata": {},
     "output_type": "execute_result"
    }
   ],
   "source": [
    "cleaned_df.sample(5)"
   ]
  },
  {
   "cell_type": "code",
   "execution_count": 77,
   "id": "8576a74c-9c7c-4db9-a49b-9e2fc57da9c8",
   "metadata": {},
   "outputs": [
    {
     "name": "stdout",
     "output_type": "stream",
     "text": [
      "<class 'pandas.core.frame.DataFrame'>\n",
      "RangeIndex: 34128 entries, 0 to 34127\n",
      "Data columns (total 10 columns):\n",
      " #   Column                Non-Null Count  Dtype \n",
      "---  ------                --------------  ----- \n",
      " 0   asins                 34128 non-null  string\n",
      " 1   name                  27440 non-null  string\n",
      " 2   brand                 34128 non-null  string\n",
      " 3   categories            34128 non-null  string\n",
      " 4   reviews.doRecommend   34128 non-null  bool  \n",
      " 5   reviews.numHelpful    34128 non-null  int64 \n",
      " 6   reviews.rating        34128 non-null  int64 \n",
      " 7   reviews.text          34128 non-null  string\n",
      " 8   reviews.title         34128 non-null  string\n",
      " 9   reviews.text_cleaned  34128 non-null  object\n",
      "dtypes: bool(1), int64(2), object(1), string(6)\n",
      "memory usage: 2.4+ MB\n"
     ]
    }
   ],
   "source": [
    "cleaned_df.info()"
   ]
  },
  {
   "cell_type": "code",
   "execution_count": 82,
   "id": "783ed3ce-cf22-4963-9e01-eb0c47f41c6e",
   "metadata": {},
   "outputs": [
    {
     "ename": "TypeError",
     "evalue": "__init__() got an unexpected keyword argument 'line_terminator'",
     "output_type": "error",
     "traceback": [
      "\u001b[1;31m---------------------------------------------------------------------------\u001b[0m",
      "\u001b[1;31mTypeError\u001b[0m                                 Traceback (most recent call last)",
      "\u001b[1;32m<ipython-input-82-52cfc761e1de>\u001b[0m in \u001b[0;36m<module>\u001b[1;34m\u001b[0m\n\u001b[0;32m      1\u001b[0m \u001b[1;31m# 3c. Export as q3.csv\u001b[0m\u001b[1;33m\u001b[0m\u001b[1;33m\u001b[0m\u001b[1;33m\u001b[0m\u001b[0m\n\u001b[1;32m----> 2\u001b[1;33m \u001b[0mfinal_df\u001b[0m\u001b[1;33m.\u001b[0m\u001b[0mto_csv\u001b[0m\u001b[1;33m(\u001b[0m\u001b[1;34m'./data/q3.csv'\u001b[0m\u001b[1;33m,\u001b[0m \u001b[0mindex\u001b[0m \u001b[1;33m=\u001b[0m \u001b[1;32mFalse\u001b[0m\u001b[1;33m)\u001b[0m\u001b[1;33m\u001b[0m\u001b[1;33m\u001b[0m\u001b[0m\n\u001b[0m",
      "\u001b[1;32m~\\anaconda3\\lib\\site-packages\\pandas\\core\\generic.py\u001b[0m in \u001b[0;36mto_csv\u001b[1;34m(self, path_or_buf, sep, na_rep, float_format, columns, header, index, index_label, mode, encoding, compression, quoting, quotechar, line_terminator, chunksize, date_format, doublequote, escapechar, decimal, errors, storage_options)\u001b[0m\n\u001b[0;32m   3549\u001b[0m         \u001b[0mheader\u001b[0m\u001b[1;33m:\u001b[0m \u001b[0mbool_t\u001b[0m \u001b[1;33m|\u001b[0m \u001b[0mlist\u001b[0m\u001b[1;33m[\u001b[0m\u001b[0mstr\u001b[0m\u001b[1;33m]\u001b[0m \u001b[1;33m=\u001b[0m \u001b[1;32mTrue\u001b[0m\u001b[1;33m,\u001b[0m\u001b[1;33m\u001b[0m\u001b[1;33m\u001b[0m\u001b[0m\n\u001b[0;32m   3550\u001b[0m         \u001b[0mindex\u001b[0m\u001b[1;33m:\u001b[0m \u001b[0mbool_t\u001b[0m \u001b[1;33m=\u001b[0m \u001b[1;32mTrue\u001b[0m\u001b[1;33m,\u001b[0m\u001b[1;33m\u001b[0m\u001b[1;33m\u001b[0m\u001b[0m\n\u001b[1;32m-> 3551\u001b[1;33m         \u001b[0mindex_label\u001b[0m\u001b[1;33m:\u001b[0m \u001b[0mIndexLabel\u001b[0m \u001b[1;33m|\u001b[0m \u001b[1;32mNone\u001b[0m \u001b[1;33m=\u001b[0m \u001b[1;32mNone\u001b[0m\u001b[1;33m,\u001b[0m\u001b[1;33m\u001b[0m\u001b[1;33m\u001b[0m\u001b[0m\n\u001b[0m\u001b[0;32m   3552\u001b[0m         \u001b[0mmode\u001b[0m\u001b[1;33m:\u001b[0m \u001b[0mstr\u001b[0m \u001b[1;33m=\u001b[0m \u001b[1;34m\"w\"\u001b[0m\u001b[1;33m,\u001b[0m\u001b[1;33m\u001b[0m\u001b[1;33m\u001b[0m\u001b[0m\n\u001b[0;32m   3553\u001b[0m         \u001b[0mencoding\u001b[0m\u001b[1;33m:\u001b[0m \u001b[0mstr\u001b[0m \u001b[1;33m|\u001b[0m \u001b[1;32mNone\u001b[0m \u001b[1;33m=\u001b[0m \u001b[1;32mNone\u001b[0m\u001b[1;33m,\u001b[0m\u001b[1;33m\u001b[0m\u001b[1;33m\u001b[0m\u001b[0m\n",
      "\u001b[1;32m~\\anaconda3\\lib\\site-packages\\pandas\\io\\formats\\format.py\u001b[0m in \u001b[0;36mto_csv\u001b[1;34m(self, path_or_buf, encoding, sep, columns, index_label, mode, compression, quoting, quotechar, line_terminator, chunksize, date_format, doublequote, escapechar, errors, storage_options)\u001b[0m\n\u001b[0;32m   1159\u001b[0m         \"\"\"\n\u001b[0;32m   1160\u001b[0m         \u001b[0mRender\u001b[0m \u001b[0mdataframe\u001b[0m \u001b[1;32mas\u001b[0m \u001b[0mcomma\u001b[0m\u001b[1;33m-\u001b[0m\u001b[0mseparated\u001b[0m \u001b[0mfile\u001b[0m\u001b[1;33m.\u001b[0m\u001b[1;33m\u001b[0m\u001b[1;33m\u001b[0m\u001b[0m\n\u001b[1;32m-> 1161\u001b[1;33m         \"\"\"\n\u001b[0m\u001b[0;32m   1162\u001b[0m         \u001b[1;32mfrom\u001b[0m \u001b[0mpandas\u001b[0m\u001b[1;33m.\u001b[0m\u001b[0mio\u001b[0m\u001b[1;33m.\u001b[0m\u001b[0mformats\u001b[0m\u001b[1;33m.\u001b[0m\u001b[0mcsvs\u001b[0m \u001b[1;32mimport\u001b[0m \u001b[0mCSVFormatter\u001b[0m\u001b[1;33m\u001b[0m\u001b[1;33m\u001b[0m\u001b[0m\n\u001b[0;32m   1163\u001b[0m \u001b[1;33m\u001b[0m\u001b[0m\n",
      "\u001b[1;31mTypeError\u001b[0m: __init__() got an unexpected keyword argument 'line_terminator'"
     ]
    }
   ],
   "source": [
    "# 3c. Export as q3.csv\n",
    "final_df.to_csv('./data/q3.csv', index = False)"
   ]
  },
  {
   "cell_type": "code",
   "execution_count": 127,
   "id": "63b58ba3-0b75-4349-ae50-052729585136",
   "metadata": {},
   "outputs": [
    {
     "data": {
      "text/html": [
       "<div>\n",
       "<style scoped>\n",
       "    .dataframe tbody tr th:only-of-type {\n",
       "        vertical-align: middle;\n",
       "    }\n",
       "\n",
       "    .dataframe tbody tr th {\n",
       "        vertical-align: top;\n",
       "    }\n",
       "\n",
       "    .dataframe thead th {\n",
       "        text-align: right;\n",
       "    }\n",
       "</style>\n",
       "<table border=\"1\" class=\"dataframe\">\n",
       "  <thead>\n",
       "    <tr style=\"text-align: right;\">\n",
       "      <th></th>\n",
       "      <th>asins</th>\n",
       "      <th>name</th>\n",
       "      <th>brand</th>\n",
       "      <th>categories</th>\n",
       "      <th>reviews.doRecommend</th>\n",
       "      <th>reviews.numHelpful</th>\n",
       "      <th>reviews.rating</th>\n",
       "      <th>reviews.text</th>\n",
       "      <th>reviews.title</th>\n",
       "      <th>reviews.text_cleaned</th>\n",
       "    </tr>\n",
       "  </thead>\n",
       "  <tbody>\n",
       "    <tr>\n",
       "      <th>9283</th>\n",
       "      <td>B018Y229OU</td>\n",
       "      <td>Fire Tablet, 7 Display, Wi-Fi, 8 GB - Includes...</td>\n",
       "      <td>Amazon</td>\n",
       "      <td>Fire Tablets,Tablets,Computers &amp; Tablets,All T...</td>\n",
       "      <td>True</td>\n",
       "      <td>0</td>\n",
       "      <td>5</td>\n",
       "      <td>.................................................</td>\n",
       "      <td>Great</td>\n",
       "      <td>[]</td>\n",
       "    </tr>\n",
       "  </tbody>\n",
       "</table>\n",
       "</div>"
      ],
      "text/plain": [
       "           asins                                               name   brand  \\\n",
       "9283  B018Y229OU  Fire Tablet, 7 Display, Wi-Fi, 8 GB - Includes...  Amazon   \n",
       "\n",
       "                                             categories reviews.doRecommend  \\\n",
       "9283  Fire Tablets,Tablets,Computers & Tablets,All T...                True   \n",
       "\n",
       "      reviews.numHelpful  reviews.rating  \\\n",
       "9283                   0               5   \n",
       "\n",
       "                                           reviews.text reviews.title  \\\n",
       "9283  .................................................         Great   \n",
       "\n",
       "     reviews.text_cleaned  \n",
       "9283                   []  "
      ]
     },
     "execution_count": 127,
     "metadata": {},
     "output_type": "execute_result"
    }
   ],
   "source": [
    "# Identify examples where there are no text in reviews\n",
    "regex = r'^\\W+$'\n",
    "zero_text_df = final_df[final_df['reviews.text'].str.match(regex)]\n",
    "\n",
    "zero_text_df.head()"
   ]
  }
 ],
 "metadata": {
  "kernelspec": {
   "display_name": "Python 3",
   "language": "python",
   "name": "python3"
  },
  "language_info": {
   "codemirror_mode": {
    "name": "ipython",
    "version": 3
   },
   "file_extension": ".py",
   "mimetype": "text/x-python",
   "name": "python",
   "nbconvert_exporter": "python",
   "pygments_lexer": "ipython3",
   "version": "3.8.8"
  }
 },
 "nbformat": 4,
 "nbformat_minor": 5
}
