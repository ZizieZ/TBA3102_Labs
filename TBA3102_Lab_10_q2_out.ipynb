{
 "cells": [
  {
   "cell_type": "code",
   "execution_count": 1,
   "metadata": {},
   "outputs": [
    {
     "data": {
      "text/html": [
       "<style>pre { white-space: pre !important; }</style>"
      ],
      "text/plain": [
       "<IPython.core.display.HTML object>"
      ]
     },
     "metadata": {},
     "output_type": "display_data"
    },
    {
     "name": "stdout",
     "output_type": "stream",
     "text": [
      "Text processing started at 2023-03-26 05:19:16.713763\n"
     ]
    }
   ],
   "source": [
    "import numpy as np\n",
    "import pandas as pd\n",
    "\n",
    "from sklearn.feature_extraction.text import TfidfVectorizer\n",
    "from sklearn.metrics.pairwise import cosine_similarity\n",
    "\n",
    "from datetime import datetime\n",
    "\n",
    "from IPython.core.display import HTML\n",
    "import tba3102\n",
    "\n",
    "\n",
    "\n",
    "display(HTML(\"<style>pre { white-space: pre !important; }</style>\"))\n",
    "tba3102.set_default_pandas_options(max_colwidth=300)\n",
    "\n",
    "print('Text processing started at {}'.format(datetime.now()))"
   ]
  },
  {
   "cell_type": "code",
   "execution_count": 2,
   "metadata": {},
   "outputs": [
    {
     "data": {
      "text/plain": [
       "(18159, 50275)"
      ]
     },
     "execution_count": 2,
     "metadata": {},
     "output_type": "execute_result"
    }
   ],
   "source": [
    "df = pd.read_csv('../data/57000-books-with-cleaned-blurbs.csv', index_col=0)\n",
    "\n",
    "tf = TfidfVectorizer(ngram_range=(1, 1), min_df=2)\n",
    "tfidf_matrix = tf.fit_transform(df['Cleaned_Blurb'].array)\n",
    "tfidf_matrix.shape"
   ]
  },
  {
   "cell_type": "code",
   "execution_count": 3,
   "metadata": {},
   "outputs": [
    {
     "data": {
      "text/html": [
       "<div>\n",
       "<style scoped>\n",
       "    .dataframe tbody tr th:only-of-type {\n",
       "        vertical-align: middle;\n",
       "    }\n",
       "\n",
       "    .dataframe tbody tr th {\n",
       "        vertical-align: top;\n",
       "    }\n",
       "\n",
       "    .dataframe thead th {\n",
       "        text-align: right;\n",
       "    }\n",
       "</style>\n",
       "<table border=\"1\" class=\"dataframe\">\n",
       "  <thead>\n",
       "    <tr style=\"text-align: right;\">\n",
       "      <th></th>\n",
       "      <th>0</th>\n",
       "      <th>1</th>\n",
       "      <th>2</th>\n",
       "      <th>3</th>\n",
       "      <th>4</th>\n",
       "      <th>...</th>\n",
       "      <th>18154</th>\n",
       "      <th>18155</th>\n",
       "      <th>18156</th>\n",
       "      <th>18157</th>\n",
       "      <th>18158</th>\n",
       "    </tr>\n",
       "  </thead>\n",
       "  <tbody>\n",
       "    <tr>\n",
       "      <th>0</th>\n",
       "      <td>1.000000</td>\n",
       "      <td>0.000000</td>\n",
       "      <td>0.000000</td>\n",
       "      <td>0.019519</td>\n",
       "      <td>0.050120</td>\n",
       "      <td>...</td>\n",
       "      <td>0.000000</td>\n",
       "      <td>0.010671</td>\n",
       "      <td>0.000000</td>\n",
       "      <td>0.006381</td>\n",
       "      <td>0.020758</td>\n",
       "    </tr>\n",
       "    <tr>\n",
       "      <th>1</th>\n",
       "      <td>0.000000</td>\n",
       "      <td>1.000000</td>\n",
       "      <td>0.000000</td>\n",
       "      <td>0.000000</td>\n",
       "      <td>0.000000</td>\n",
       "      <td>...</td>\n",
       "      <td>0.000000</td>\n",
       "      <td>0.006679</td>\n",
       "      <td>0.000000</td>\n",
       "      <td>0.002863</td>\n",
       "      <td>0.001432</td>\n",
       "    </tr>\n",
       "    <tr>\n",
       "      <th>2</th>\n",
       "      <td>0.000000</td>\n",
       "      <td>0.000000</td>\n",
       "      <td>1.000000</td>\n",
       "      <td>0.000000</td>\n",
       "      <td>0.000000</td>\n",
       "      <td>...</td>\n",
       "      <td>0.000000</td>\n",
       "      <td>0.004177</td>\n",
       "      <td>0.009379</td>\n",
       "      <td>0.000000</td>\n",
       "      <td>0.045856</td>\n",
       "    </tr>\n",
       "    <tr>\n",
       "      <th>3</th>\n",
       "      <td>0.019519</td>\n",
       "      <td>0.000000</td>\n",
       "      <td>0.000000</td>\n",
       "      <td>1.000000</td>\n",
       "      <td>0.014969</td>\n",
       "      <td>...</td>\n",
       "      <td>0.019762</td>\n",
       "      <td>0.011640</td>\n",
       "      <td>0.007170</td>\n",
       "      <td>0.054990</td>\n",
       "      <td>0.003694</td>\n",
       "    </tr>\n",
       "    <tr>\n",
       "      <th>4</th>\n",
       "      <td>0.050120</td>\n",
       "      <td>0.000000</td>\n",
       "      <td>0.000000</td>\n",
       "      <td>0.014969</td>\n",
       "      <td>1.000000</td>\n",
       "      <td>...</td>\n",
       "      <td>0.000000</td>\n",
       "      <td>0.003192</td>\n",
       "      <td>0.000000</td>\n",
       "      <td>0.017500</td>\n",
       "      <td>0.000000</td>\n",
       "    </tr>\n",
       "    <tr>\n",
       "      <th>...</th>\n",
       "      <td>...</td>\n",
       "      <td>...</td>\n",
       "      <td>...</td>\n",
       "      <td>...</td>\n",
       "      <td>...</td>\n",
       "      <td>...</td>\n",
       "      <td>...</td>\n",
       "      <td>...</td>\n",
       "      <td>...</td>\n",
       "      <td>...</td>\n",
       "      <td>...</td>\n",
       "    </tr>\n",
       "    <tr>\n",
       "      <th>18154</th>\n",
       "      <td>0.000000</td>\n",
       "      <td>0.000000</td>\n",
       "      <td>0.000000</td>\n",
       "      <td>0.019762</td>\n",
       "      <td>0.000000</td>\n",
       "      <td>...</td>\n",
       "      <td>1.000000</td>\n",
       "      <td>0.011801</td>\n",
       "      <td>0.016346</td>\n",
       "      <td>0.015046</td>\n",
       "      <td>0.013742</td>\n",
       "    </tr>\n",
       "    <tr>\n",
       "      <th>18155</th>\n",
       "      <td>0.010671</td>\n",
       "      <td>0.006679</td>\n",
       "      <td>0.004177</td>\n",
       "      <td>0.011640</td>\n",
       "      <td>0.003192</td>\n",
       "      <td>...</td>\n",
       "      <td>0.011801</td>\n",
       "      <td>1.000000</td>\n",
       "      <td>0.000000</td>\n",
       "      <td>0.016379</td>\n",
       "      <td>0.050169</td>\n",
       "    </tr>\n",
       "    <tr>\n",
       "      <th>18156</th>\n",
       "      <td>0.000000</td>\n",
       "      <td>0.000000</td>\n",
       "      <td>0.009379</td>\n",
       "      <td>0.007170</td>\n",
       "      <td>0.000000</td>\n",
       "      <td>...</td>\n",
       "      <td>0.016346</td>\n",
       "      <td>0.000000</td>\n",
       "      <td>1.000000</td>\n",
       "      <td>0.000000</td>\n",
       "      <td>0.012692</td>\n",
       "    </tr>\n",
       "    <tr>\n",
       "      <th>18157</th>\n",
       "      <td>0.006381</td>\n",
       "      <td>0.002863</td>\n",
       "      <td>0.000000</td>\n",
       "      <td>0.054990</td>\n",
       "      <td>0.017500</td>\n",
       "      <td>...</td>\n",
       "      <td>0.015046</td>\n",
       "      <td>0.016379</td>\n",
       "      <td>0.000000</td>\n",
       "      <td>1.000000</td>\n",
       "      <td>0.036493</td>\n",
       "    </tr>\n",
       "    <tr>\n",
       "      <th>18158</th>\n",
       "      <td>0.020758</td>\n",
       "      <td>0.001432</td>\n",
       "      <td>0.045856</td>\n",
       "      <td>0.003694</td>\n",
       "      <td>0.000000</td>\n",
       "      <td>...</td>\n",
       "      <td>0.013742</td>\n",
       "      <td>0.050169</td>\n",
       "      <td>0.012692</td>\n",
       "      <td>0.036493</td>\n",
       "      <td>1.000000</td>\n",
       "    </tr>\n",
       "  </tbody>\n",
       "</table>\n",
       "<p>18159 rows × 18159 columns</p>\n",
       "</div>"
      ],
      "text/plain": [
       "          0         1         2         3         4      ...     18154     18155     18156     18157     18158\n",
       "0      1.000000  0.000000  0.000000  0.019519  0.050120  ...  0.000000  0.010671  0.000000  0.006381  0.020758\n",
       "1      0.000000  1.000000  0.000000  0.000000  0.000000  ...  0.000000  0.006679  0.000000  0.002863  0.001432\n",
       "2      0.000000  0.000000  1.000000  0.000000  0.000000  ...  0.000000  0.004177  0.009379  0.000000  0.045856\n",
       "3      0.019519  0.000000  0.000000  1.000000  0.014969  ...  0.019762  0.011640  0.007170  0.054990  0.003694\n",
       "4      0.050120  0.000000  0.000000  0.014969  1.000000  ...  0.000000  0.003192  0.000000  0.017500  0.000000\n",
       "...         ...       ...       ...       ...       ...  ...       ...       ...       ...       ...       ...\n",
       "18154  0.000000  0.000000  0.000000  0.019762  0.000000  ...  1.000000  0.011801  0.016346  0.015046  0.013742\n",
       "18155  0.010671  0.006679  0.004177  0.011640  0.003192  ...  0.011801  1.000000  0.000000  0.016379  0.050169\n",
       "18156  0.000000  0.000000  0.009379  0.007170  0.000000  ...  0.016346  0.000000  1.000000  0.000000  0.012692\n",
       "18157  0.006381  0.002863  0.000000  0.054990  0.017500  ...  0.015046  0.016379  0.000000  1.000000  0.036493\n",
       "18158  0.020758  0.001432  0.045856  0.003694  0.000000  ...  0.013742  0.050169  0.012692  0.036493  1.000000\n",
       "\n",
       "[18159 rows x 18159 columns]"
      ]
     },
     "execution_count": 3,
     "metadata": {},
     "output_type": "execute_result"
    }
   ],
   "source": [
    "doc_sim = cosine_similarity(tfidf_matrix)\n",
    "doc_sim_df = pd.DataFrame(doc_sim)\n",
    "doc_sim_df"
   ]
  },
  {
   "cell_type": "code",
   "execution_count": 4,
   "metadata": {},
   "outputs": [
    {
     "name": "stdout",
     "output_type": "stream",
     "text": [
      "Text processing ended at 2023-03-26 05:19:23.606241\n"
     ]
    }
   ],
   "source": [
    "print('Text processing ended at {}'.format(datetime.now()))"
   ]
  }
 ],
 "metadata": {
  "kernelspec": {
   "display_name": "Python 3",
   "language": "python",
   "name": "python3"
  },
  "language_info": {
   "codemirror_mode": {
    "name": "ipython",
    "version": 3
   },
   "file_extension": ".py",
   "mimetype": "text/x-python",
   "name": "python",
   "nbconvert_exporter": "python",
   "pygments_lexer": "ipython3",
   "version": "3.9.4"
  }
 },
 "nbformat": 4,
 "nbformat_minor": 4
}
