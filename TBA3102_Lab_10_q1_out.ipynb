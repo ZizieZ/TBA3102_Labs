{
 "cells": [
  {
   "cell_type": "code",
   "execution_count": 1,
   "metadata": {},
   "outputs": [
    {
     "data": {
      "text/html": [
       "<style>pre { white-space: pre !important; }</style>"
      ],
      "text/plain": [
       "<IPython.core.display.HTML object>"
      ]
     },
     "metadata": {},
     "output_type": "display_data"
    },
    {
     "name": "stdout",
     "output_type": "stream",
     "text": [
      "Text processing started at 2023-03-26 05:14:32.925329\n"
     ]
    }
   ],
   "source": [
    "import numpy as np\n",
    "import pandas as pd\n",
    "\n",
    "from datetime import datetime\n",
    "\n",
    "from IPython.core.display import HTML\n",
    "import tba3102\n",
    "\n",
    "\n",
    "\n",
    "display(HTML(\"<style>pre { white-space: pre !important; }</style>\"))\n",
    "tba3102.set_default_pandas_options(max_colwidth=300)\n",
    "\n",
    "print('Text processing started at {}'.format(datetime.now()))"
   ]
  },
  {
   "cell_type": "code",
   "execution_count": 2,
   "metadata": {},
   "outputs": [
    {
     "data": {
      "text/html": [
       "<div>\n",
       "<style scoped>\n",
       "    .dataframe tbody tr th:only-of-type {\n",
       "        vertical-align: middle;\n",
       "    }\n",
       "\n",
       "    .dataframe tbody tr th {\n",
       "        vertical-align: top;\n",
       "    }\n",
       "\n",
       "    .dataframe thead th {\n",
       "        text-align: right;\n",
       "    }\n",
       "</style>\n",
       "<table border=\"1\" class=\"dataframe\">\n",
       "  <thead>\n",
       "    <tr style=\"text-align: right;\">\n",
       "      <th></th>\n",
       "      <th>ISBN</th>\n",
       "      <th>Title</th>\n",
       "      <th>Blurb</th>\n",
       "    </tr>\n",
       "  </thead>\n",
       "  <tbody>\n",
       "    <tr>\n",
       "      <th>0</th>\n",
       "      <td>0425176428</td>\n",
       "      <td>What If?: The World's Foremost Military Historians Imagine What Might Have Been</td>\n",
       "      <td>Historians and inquisitive laymen alike love to ponder the dramatic what-its of history. In these twenty never-before-published essays, some of the keenest minds of our time ask the big, tantalizing questions:, Where might we be if history had not unfolded the way it did? , Why, how, and when wa...</td>\n",
       "    </tr>\n",
       "    <tr>\n",
       "      <th>1</th>\n",
       "      <td>1841721522</td>\n",
       "      <td>New Vegetarian: Bold and Beautiful Recipes for Every Occasion</td>\n",
       "      <td>Filled with fresh and eclectic recipes by Celia Brooks Brown -- one of the talented team of chefs at Books for Cooks, the world-famous bookshop-restaurant in London's Notting Hill -- New Vegetarian presents an innovative approach to vegetarian cooking. No longer the exclusive domain of vegetaria...</td>\n",
       "    </tr>\n",
       "    <tr>\n",
       "      <th>2</th>\n",
       "      <td>0971880107</td>\n",
       "      <td>Wild Animus</td>\n",
       "      <td>Newly graduated from college, Sam Altman is gripped by an inexplicable urge to lose himself in the wilderness and teams up with an enigmatic young woman who seems bent on helping him realize his dreams.</td>\n",
       "    </tr>\n",
       "    <tr>\n",
       "      <th>3</th>\n",
       "      <td>0345417623</td>\n",
       "      <td>Timeline</td>\n",
       "      <td>In an Arizona desert, a man wanders in a daze, speaking words that make no sense. Within twenty-four hours he is dead, his body swiftly cremated by his only known associates. Halfway around the world, archaeologists make a shocking discovery at a medieval site. Suddenly they are swept off to the...</td>\n",
       "    </tr>\n",
       "    <tr>\n",
       "      <th>4</th>\n",
       "      <td>0375759778</td>\n",
       "      <td>Prague : A Novel</td>\n",
       "      <td>A novel of startling scope and ambition, , depicts an intentionally lost Lost Generation as it follows five American expats who come to Budapest in the early 1990s to seek their fortune. They harbor the vague suspicion that their counterparts in Prague have it better, but still they hope to find...</td>\n",
       "    </tr>\n",
       "    <tr>\n",
       "      <th>...</th>\n",
       "      <td>...</td>\n",
       "      <td>...</td>\n",
       "      <td>...</td>\n",
       "    </tr>\n",
       "    <tr>\n",
       "      <th>18161</th>\n",
       "      <td>0312749511</td>\n",
       "      <td>The Space Merchants</td>\n",
       "      <td>In a vastly overpopulated near-future world, businesses have taken the place of governments and now hold all political power. States exist merely to ensure the survival of huge transnational corporations. Advertising has become hugely aggressive and boasts some of the world’s most powerful execu...</td>\n",
       "    </tr>\n",
       "    <tr>\n",
       "      <th>18162</th>\n",
       "      <td>0671318470</td>\n",
       "      <td>Agent of Vega &amp;amp; Other Stories</td>\n",
       "      <td>Four years after dropping out of Harlem society, David McKay, a handsome young lawyer from a prominent Strivers' Row family, returns home, devastated by the news of his sister Lilian's suicide. What caused his once stable, gentle sister to take her own life? Why did she marry Jameson Sweet, givi...</td>\n",
       "    </tr>\n",
       "    <tr>\n",
       "      <th>18163</th>\n",
       "      <td>0451458877</td>\n",
       "      <td>Tainted Trail</td>\n",
       "      <td>Ukiah Oregon, half-man and half-alien raised by wolves, is hired to track a missing hiker. When her trail grows cold, Ukiah discovers the woman has actually been kidnapped. He then stumbles upon another mystery related to the unsolved disappearance in 1933 of a legendary wolf boy. The hiker's ab...</td>\n",
       "    </tr>\n",
       "    <tr>\n",
       "      <th>18164</th>\n",
       "      <td>0399148736</td>\n",
       "      <td>Twelve Mile Limit</td>\n",
       "      <td>On a Friday in early November, four people head out from the west coast of Florida to dive a deep-water wreck fifty-six miles offshore. Two days later, one of them is found alive, standing atop a 160-foot light tower in the Gulf of Mexico, naked and waving her wetsuit. But the other three appear...</td>\n",
       "    </tr>\n",
       "    <tr>\n",
       "      <th>18165</th>\n",
       "      <td>0399148841</td>\n",
       "      <td>The Man With the Red Tattoo (James Bond 007)</td>\n",
       "      <td>On a quiet late-night flight from Tokyo to London, a beautiful young woman, Kioko McMahon, falls ill. Before the plane can reach emergency medical facilities across the Pacific, she succumbs to her inexplicable symptoms. The mystery deepens when police in Japan discover that her family shared he...</td>\n",
       "    </tr>\n",
       "  </tbody>\n",
       "</table>\n",
       "<p>18166 rows × 3 columns</p>\n",
       "</div>"
      ],
      "text/plain": [
       "             ISBN                                                                            Title                                                                                                                                                                                                                                                                                                        Blurb\n",
       "0      0425176428  What If?: The World's Foremost Military Historians Imagine What Might Have Been  Historians and inquisitive laymen alike love to ponder the dramatic what-its of history. In these twenty never-before-published essays, some of the keenest minds of our time ask the big, tantalizing questions:, Where might we be if history had not unfolded the way it did? , Why, how, and when wa...\n",
       "1      1841721522                    New Vegetarian: Bold and Beautiful Recipes for Every Occasion  Filled with fresh and eclectic recipes by Celia Brooks Brown -- one of the talented team of chefs at Books for Cooks, the world-famous bookshop-restaurant in London's Notting Hill -- New Vegetarian presents an innovative approach to vegetarian cooking. No longer the exclusive domain of vegetaria...\n",
       "2      0971880107                                                                      Wild Animus                                                                                                   Newly graduated from college, Sam Altman is gripped by an inexplicable urge to lose himself in the wilderness and teams up with an enigmatic young woman who seems bent on helping him realize his dreams.\n",
       "3      0345417623                                                                         Timeline  In an Arizona desert, a man wanders in a daze, speaking words that make no sense. Within twenty-four hours he is dead, his body swiftly cremated by his only known associates. Halfway around the world, archaeologists make a shocking discovery at a medieval site. Suddenly they are swept off to the...\n",
       "4      0375759778                                                                 Prague : A Novel  A novel of startling scope and ambition, , depicts an intentionally lost Lost Generation as it follows five American expats who come to Budapest in the early 1990s to seek their fortune. They harbor the vague suspicion that their counterparts in Prague have it better, but still they hope to find...\n",
       "...           ...                                                                              ...                                                                                                                                                                                                                                                                                                          ...\n",
       "18161  0312749511                                                              The Space Merchants  In a vastly overpopulated near-future world, businesses have taken the place of governments and now hold all political power. States exist merely to ensure the survival of huge transnational corporations. Advertising has become hugely aggressive and boasts some of the world’s most powerful execu...\n",
       "18162  0671318470                                                Agent of Vega &amp; Other Stories  Four years after dropping out of Harlem society, David McKay, a handsome young lawyer from a prominent Strivers' Row family, returns home, devastated by the news of his sister Lilian's suicide. What caused his once stable, gentle sister to take her own life? Why did she marry Jameson Sweet, givi...\n",
       "18163  0451458877                                                                    Tainted Trail  Ukiah Oregon, half-man and half-alien raised by wolves, is hired to track a missing hiker. When her trail grows cold, Ukiah discovers the woman has actually been kidnapped. He then stumbles upon another mystery related to the unsolved disappearance in 1933 of a legendary wolf boy. The hiker's ab...\n",
       "18164  0399148736                                                                Twelve Mile Limit  On a Friday in early November, four people head out from the west coast of Florida to dive a deep-water wreck fifty-six miles offshore. Two days later, one of them is found alive, standing atop a 160-foot light tower in the Gulf of Mexico, naked and waving her wetsuit. But the other three appear...\n",
       "18165  0399148841                                     The Man With the Red Tattoo (James Bond 007)  On a quiet late-night flight from Tokyo to London, a beautiful young woman, Kioko McMahon, falls ill. Before the plane can reach emergency medical facilities across the Pacific, she succumbs to her inexplicable symptoms. The mystery deepens when police in Japan discover that her family shared he...\n",
       "\n",
       "[18166 rows x 3 columns]"
      ]
     },
     "execution_count": 2,
     "metadata": {},
     "output_type": "execute_result"
    }
   ],
   "source": [
    "df = pd.read_csv('../data/57000-books-with-metadata-and-blurbs.csv')\n",
    "df = df[df.Year > 1999].reset_index(drop=True)\n",
    "df = df[['ISBN', 'Title', 'Blurb']]\n",
    "df"
   ]
  },
  {
   "cell_type": "code",
   "execution_count": 3,
   "metadata": {},
   "outputs": [],
   "source": [
    "df = tba3102.normalize_corpus(df, 'Blurb', 'Cleaned_Blurb',                                \n",
    "                                contraction_expansion=False, remove_digits=False, repeating_char_removal=False, \n",
    "                                spelling_correction=False, lemmatize=False)"
   ]
  },
  {
   "cell_type": "code",
   "execution_count": 4,
   "metadata": {},
   "outputs": [
    {
     "data": {
      "text/html": [
       "<div>\n",
       "<style scoped>\n",
       "    .dataframe tbody tr th:only-of-type {\n",
       "        vertical-align: middle;\n",
       "    }\n",
       "\n",
       "    .dataframe tbody tr th {\n",
       "        vertical-align: top;\n",
       "    }\n",
       "\n",
       "    .dataframe thead th {\n",
       "        text-align: right;\n",
       "    }\n",
       "</style>\n",
       "<table border=\"1\" class=\"dataframe\">\n",
       "  <thead>\n",
       "    <tr style=\"text-align: right;\">\n",
       "      <th></th>\n",
       "      <th>ISBN</th>\n",
       "      <th>Title</th>\n",
       "      <th>Blurb</th>\n",
       "      <th>Cleaned_Blurb</th>\n",
       "    </tr>\n",
       "  </thead>\n",
       "  <tbody>\n",
       "    <tr>\n",
       "      <th>0</th>\n",
       "      <td>0425176428</td>\n",
       "      <td>What If?: The World's Foremost Military Historians Imagine What Might Have Been</td>\n",
       "      <td>Historians and inquisitive laymen alike love to ponder the dramatic what-its of history. In these twenty never-before-published essays, some of the keenest minds of our time ask the big, tantalizing questions:, Where might we be if history had not unfolded the way it did? , Why, how, and when wa...</td>\n",
       "      <td>historians inquisitive laymen alike love ponder dramatic whatits history twenty neverbeforepublished essays keenest minds time ask big tantalizing questions might history unfolded way fortune made real answers surprising sometimes frightening always entertaining</td>\n",
       "    </tr>\n",
       "    <tr>\n",
       "      <th>1</th>\n",
       "      <td>1841721522</td>\n",
       "      <td>New Vegetarian: Bold and Beautiful Recipes for Every Occasion</td>\n",
       "      <td>Filled with fresh and eclectic recipes by Celia Brooks Brown -- one of the talented team of chefs at Books for Cooks, the world-famous bookshop-restaurant in London's Notting Hill -- New Vegetarian presents an innovative approach to vegetarian cooking. No longer the exclusive domain of vegetaria...</td>\n",
       "      <td>filled fresh eclectic recipes celia brooks brown one talented team chefs books cooks worldfamous bookshoprestaurant londons notting hill new vegetarian presents innovative approach vegetarian cooking longer exclusive domain vegetarians meatfree food appreciated bright assertive flavors marvelous...</td>\n",
       "    </tr>\n",
       "    <tr>\n",
       "      <th>2</th>\n",
       "      <td>0971880107</td>\n",
       "      <td>Wild Animus</td>\n",
       "      <td>Newly graduated from college, Sam Altman is gripped by an inexplicable urge to lose himself in the wilderness and teams up with an enigmatic young woman who seems bent on helping him realize his dreams.</td>\n",
       "      <td>newly graduated college sam altman gripped inexplicable urge lose wilderness teams enigmatic young woman seems bent helping realize dreams</td>\n",
       "    </tr>\n",
       "    <tr>\n",
       "      <th>3</th>\n",
       "      <td>0345417623</td>\n",
       "      <td>Timeline</td>\n",
       "      <td>In an Arizona desert, a man wanders in a daze, speaking words that make no sense. Within twenty-four hours he is dead, his body swiftly cremated by his only known associates. Halfway around the world, archaeologists make a shocking discovery at a medieval site. Suddenly they are swept off to the...</td>\n",
       "      <td>arizona desert man wanders daze speaking words make sense within twentyfour hours dead body swiftly cremated known associates halfway around world archaeologists make shocking discovery medieval site suddenly swept headquarters secretive multinational corporation developed astounding technology ...</td>\n",
       "    </tr>\n",
       "    <tr>\n",
       "      <th>4</th>\n",
       "      <td>0375759778</td>\n",
       "      <td>Prague : A Novel</td>\n",
       "      <td>A novel of startling scope and ambition, , depicts an intentionally lost Lost Generation as it follows five American expats who come to Budapest in the early 1990s to seek their fortune. They harbor the vague suspicion that their counterparts in Prague have it better, but still they hope to find...</td>\n",
       "      <td>novel startling scope ambition depicts intentionally lost lost generation follows five american expats come budapest early 1990s seek fortune harbor vague suspicion counterparts prague better still hope find adventure inspiration gold rush history making</td>\n",
       "    </tr>\n",
       "    <tr>\n",
       "      <th>...</th>\n",
       "      <td>...</td>\n",
       "      <td>...</td>\n",
       "      <td>...</td>\n",
       "      <td>...</td>\n",
       "    </tr>\n",
       "    <tr>\n",
       "      <th>18154</th>\n",
       "      <td>0312749511</td>\n",
       "      <td>The Space Merchants</td>\n",
       "      <td>In a vastly overpopulated near-future world, businesses have taken the place of governments and now hold all political power. States exist merely to ensure the survival of huge transnational corporations. Advertising has become hugely aggressive and boasts some of the world’s most powerful execu...</td>\n",
       "      <td>vastly overpopulated nearfuture world businesses taken place governments hold political power states exist merely ensure survival huge transnational corporations advertising become hugely aggressive boasts worlds powerful executivesthrough advertising public constantly deluded thinking products ...</td>\n",
       "    </tr>\n",
       "    <tr>\n",
       "      <th>18155</th>\n",
       "      <td>0671318470</td>\n",
       "      <td>Agent of Vega &amp;amp; Other Stories</td>\n",
       "      <td>Four years after dropping out of Harlem society, David McKay, a handsome young lawyer from a prominent Strivers' Row family, returns home, devastated by the news of his sister Lilian's suicide. What caused his once stable, gentle sister to take her own life? Why did she marry Jameson Sweet, givi...</td>\n",
       "      <td>four years dropping harlem society david mckay handsome young lawyer prominent strivers row family returns home devastated news sister lilians suicide caused stable gentle sister take life marry jameson sweet giving man barely knew claim family home caused flamboyant twin gem return harlem paris...</td>\n",
       "    </tr>\n",
       "    <tr>\n",
       "      <th>18156</th>\n",
       "      <td>0451458877</td>\n",
       "      <td>Tainted Trail</td>\n",
       "      <td>Ukiah Oregon, half-man and half-alien raised by wolves, is hired to track a missing hiker. When her trail grows cold, Ukiah discovers the woman has actually been kidnapped. He then stumbles upon another mystery related to the unsolved disappearance in 1933 of a legendary wolf boy. The hiker's ab...</td>\n",
       "      <td>ukiah oregon halfman halfalien raised wolves hired track missing hiker trail grows cold ukiah discovers woman actually kidnapped stumbles upon another mystery related unsolved disappearance 1933 legendary wolf boy hikers abduction may hold key ukiahs past</td>\n",
       "    </tr>\n",
       "    <tr>\n",
       "      <th>18157</th>\n",
       "      <td>0399148736</td>\n",
       "      <td>Twelve Mile Limit</td>\n",
       "      <td>On a Friday in early November, four people head out from the west coast of Florida to dive a deep-water wreck fifty-six miles offshore. Two days later, one of them is found alive, standing atop a 160-foot light tower in the Gulf of Mexico, naked and waving her wetsuit. But the other three appear...</td>\n",
       "      <td>friday early november four people head west coast florida dive deepwater wreck fiftysix miles offshore two days later one found alive standing atop 160foot light tower gulf mexico naked waving wetsuit three appear swept edge earth one diver fords friend janet mueller rumors beginwhispers everyth...</td>\n",
       "    </tr>\n",
       "    <tr>\n",
       "      <th>18158</th>\n",
       "      <td>0399148841</td>\n",
       "      <td>The Man With the Red Tattoo (James Bond 007)</td>\n",
       "      <td>On a quiet late-night flight from Tokyo to London, a beautiful young woman, Kioko McMahon, falls ill. Before the plane can reach emergency medical facilities across the Pacific, she succumbs to her inexplicable symptoms. The mystery deepens when police in Japan discover that her family shared he...</td>\n",
       "      <td>quiet latenight flight tokyo london beautiful young woman kioko mcmahon falls ill plane reach emergency medical facilities across pacific succumbs inexplicable symptoms mystery deepens police japan discover family shared fate survivor rebellious sister mayumi run gangmember boyfriend several yea...</td>\n",
       "    </tr>\n",
       "  </tbody>\n",
       "</table>\n",
       "<p>18159 rows × 4 columns</p>\n",
       "</div>"
      ],
      "text/plain": [
       "             ISBN                                                                            Title                                                                                                                                                                                                                                                                                                        Blurb                                                                                                                                                                                                                                                                                                Cleaned_Blurb\n",
       "0      0425176428  What If?: The World's Foremost Military Historians Imagine What Might Have Been  Historians and inquisitive laymen alike love to ponder the dramatic what-its of history. In these twenty never-before-published essays, some of the keenest minds of our time ask the big, tantalizing questions:, Where might we be if history had not unfolded the way it did? , Why, how, and when wa...                                       historians inquisitive laymen alike love ponder dramatic whatits history twenty neverbeforepublished essays keenest minds time ask big tantalizing questions might history unfolded way fortune made real answers surprising sometimes frightening always entertaining\n",
       "1      1841721522                    New Vegetarian: Bold and Beautiful Recipes for Every Occasion  Filled with fresh and eclectic recipes by Celia Brooks Brown -- one of the talented team of chefs at Books for Cooks, the world-famous bookshop-restaurant in London's Notting Hill -- New Vegetarian presents an innovative approach to vegetarian cooking. No longer the exclusive domain of vegetaria...  filled fresh eclectic recipes celia brooks brown one talented team chefs books cooks worldfamous bookshoprestaurant londons notting hill new vegetarian presents innovative approach vegetarian cooking longer exclusive domain vegetarians meatfree food appreciated bright assertive flavors marvelous...\n",
       "2      0971880107                                                                      Wild Animus                                                                                                   Newly graduated from college, Sam Altman is gripped by an inexplicable urge to lose himself in the wilderness and teams up with an enigmatic young woman who seems bent on helping him realize his dreams.                                                                                                                                                                   newly graduated college sam altman gripped inexplicable urge lose wilderness teams enigmatic young woman seems bent helping realize dreams\n",
       "3      0345417623                                                                         Timeline  In an Arizona desert, a man wanders in a daze, speaking words that make no sense. Within twenty-four hours he is dead, his body swiftly cremated by his only known associates. Halfway around the world, archaeologists make a shocking discovery at a medieval site. Suddenly they are swept off to the...  arizona desert man wanders daze speaking words make sense within twentyfour hours dead body swiftly cremated known associates halfway around world archaeologists make shocking discovery medieval site suddenly swept headquarters secretive multinational corporation developed astounding technology ...\n",
       "4      0375759778                                                                 Prague : A Novel  A novel of startling scope and ambition, , depicts an intentionally lost Lost Generation as it follows five American expats who come to Budapest in the early 1990s to seek their fortune. They harbor the vague suspicion that their counterparts in Prague have it better, but still they hope to find...                                               novel startling scope ambition depicts intentionally lost lost generation follows five american expats come budapest early 1990s seek fortune harbor vague suspicion counterparts prague better still hope find adventure inspiration gold rush history making\n",
       "...           ...                                                                              ...                                                                                                                                                                                                                                                                                                          ...                                                                                                                                                                                                                                                                                                          ...\n",
       "18154  0312749511                                                              The Space Merchants  In a vastly overpopulated near-future world, businesses have taken the place of governments and now hold all political power. States exist merely to ensure the survival of huge transnational corporations. Advertising has become hugely aggressive and boasts some of the world’s most powerful execu...  vastly overpopulated nearfuture world businesses taken place governments hold political power states exist merely ensure survival huge transnational corporations advertising become hugely aggressive boasts worlds powerful executivesthrough advertising public constantly deluded thinking products ...\n",
       "18155  0671318470                                                Agent of Vega &amp; Other Stories  Four years after dropping out of Harlem society, David McKay, a handsome young lawyer from a prominent Strivers' Row family, returns home, devastated by the news of his sister Lilian's suicide. What caused his once stable, gentle sister to take her own life? Why did she marry Jameson Sweet, givi...  four years dropping harlem society david mckay handsome young lawyer prominent strivers row family returns home devastated news sister lilians suicide caused stable gentle sister take life marry jameson sweet giving man barely knew claim family home caused flamboyant twin gem return harlem paris...\n",
       "18156  0451458877                                                                    Tainted Trail  Ukiah Oregon, half-man and half-alien raised by wolves, is hired to track a missing hiker. When her trail grows cold, Ukiah discovers the woman has actually been kidnapped. He then stumbles upon another mystery related to the unsolved disappearance in 1933 of a legendary wolf boy. The hiker's ab...                                              ukiah oregon halfman halfalien raised wolves hired track missing hiker trail grows cold ukiah discovers woman actually kidnapped stumbles upon another mystery related unsolved disappearance 1933 legendary wolf boy hikers abduction may hold key ukiahs past\n",
       "18157  0399148736                                                                Twelve Mile Limit  On a Friday in early November, four people head out from the west coast of Florida to dive a deep-water wreck fifty-six miles offshore. Two days later, one of them is found alive, standing atop a 160-foot light tower in the Gulf of Mexico, naked and waving her wetsuit. But the other three appear...  friday early november four people head west coast florida dive deepwater wreck fiftysix miles offshore two days later one found alive standing atop 160foot light tower gulf mexico naked waving wetsuit three appear swept edge earth one diver fords friend janet mueller rumors beginwhispers everyth...\n",
       "18158  0399148841                                     The Man With the Red Tattoo (James Bond 007)  On a quiet late-night flight from Tokyo to London, a beautiful young woman, Kioko McMahon, falls ill. Before the plane can reach emergency medical facilities across the Pacific, she succumbs to her inexplicable symptoms. The mystery deepens when police in Japan discover that her family shared he...  quiet latenight flight tokyo london beautiful young woman kioko mcmahon falls ill plane reach emergency medical facilities across pacific succumbs inexplicable symptoms mystery deepens police japan discover family shared fate survivor rebellious sister mayumi run gangmember boyfriend several yea...\n",
       "\n",
       "[18159 rows x 4 columns]"
      ]
     },
     "execution_count": 4,
     "metadata": {},
     "output_type": "execute_result"
    }
   ],
   "source": [
    "df['Cleaned_Blurb'].replace(r'^(\\s?)+$', np.nan, regex=True, inplace=True)\n",
    "df = df.dropna(subset=['Cleaned_Blurb']).reset_index(drop=True)\n",
    "df"
   ]
  },
  {
   "cell_type": "code",
   "execution_count": 5,
   "metadata": {},
   "outputs": [],
   "source": [
    "df.to_csv('../data/57000-books-with-cleaned-blurbs.csv')"
   ]
  },
  {
   "cell_type": "code",
   "execution_count": 6,
   "metadata": {},
   "outputs": [
    {
     "name": "stdout",
     "output_type": "stream",
     "text": [
      "Text processing ended at 2023-03-26 05:14:54.683020\n"
     ]
    }
   ],
   "source": [
    "print('Text processing ended at {}'.format(datetime.now()))"
   ]
  }
 ],
 "metadata": {
  "kernelspec": {
   "display_name": "Python 3",
   "language": "python",
   "name": "python3"
  },
  "language_info": {
   "codemirror_mode": {
    "name": "ipython",
    "version": 3
   },
   "file_extension": ".py",
   "mimetype": "text/x-python",
   "name": "python",
   "nbconvert_exporter": "python",
   "pygments_lexer": "ipython3",
   "version": "3.9.4"
  }
 },
 "nbformat": 4,
 "nbformat_minor": 4
}
